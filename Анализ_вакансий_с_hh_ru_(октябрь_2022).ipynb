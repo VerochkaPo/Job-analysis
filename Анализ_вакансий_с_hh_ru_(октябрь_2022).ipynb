{
  "nbformat": 4,
  "nbformat_minor": 0,
  "metadata": {
    "colab": {
      "provenance": [],
      "authorship_tag": "ABX9TyM0/KEB3NfAlzPxmnfb0hW6",
      "include_colab_link": true
    },
    "kernelspec": {
      "name": "python3",
      "display_name": "Python 3"
    },
    "language_info": {
      "name": "python"
    }
  },
  "cells": [
    {
      "cell_type": "markdown",
      "metadata": {
        "id": "view-in-github",
        "colab_type": "text"
      },
      "source": [
        "<a href=\"https://colab.research.google.com/github/VerochkaPo/Job-analysis/blob/main/%D0%90%D0%BD%D0%B0%D0%BB%D0%B8%D0%B7_%D0%B2%D0%B0%D0%BA%D0%B0%D0%BD%D1%81%D0%B8%D0%B9_%D1%81_hh_ru_(%D0%BE%D0%BA%D1%82%D1%8F%D0%B1%D1%80%D1%8C_2022).ipynb\" target=\"_parent\"><img src=\"https://colab.research.google.com/assets/colab-badge.svg\" alt=\"Open In Colab\"/></a>"
      ]
    },
    {
      "cell_type": "code",
      "execution_count": 1,
      "metadata": {
        "id": "rKszmsBd-x2K",
        "colab": {
          "base_uri": "https://localhost:8080/"
        },
        "outputId": "b34ebc28-fd97-478a-fd65-fe13efc4a151"
      },
      "outputs": [
        {
          "output_type": "stream",
          "name": "stdout",
          "text": [
            "/usr/local/lib/python3.8/dist-packages/gdown/cli.py:127: FutureWarning: Option `--id` was deprecated in version 4.3.1 and will be removed in 5.0. You don't need to pass it anymore to use a file ID.\n",
            "  warnings.warn(\n",
            "Downloading...\n",
            "From: https://drive.google.com/uc?id=1TfIt38x6_lf0GSrHbOLRNdTZFu1W36Lb\n",
            "To: /content/Вакансии_на_30.10.2022.xlsx\n",
            "100% 22.3M/22.3M [00:00<00:00, 104MB/s]\n"
          ]
        }
      ],
      "source": [
        " #загружаем файл\n",
        "!gdown --id 1TfIt38x6_lf0GSrHbOLRNdTZFu1W36Lb #https://docs.google.com/spreadsheets/d/1TfIt38x6_lf0GSrHbOLRNdTZFu1W36Lb/edit?usp=share_link&ouid=117219351157049910466&rtpof=true&sd=true"
      ]
    },
    {
      "cell_type": "code",
      "source": [
        "import pandas as pd"
      ],
      "metadata": {
        "id": "b4cD8SzDPMWT"
      },
      "execution_count": 2,
      "outputs": []
    },
    {
      "cell_type": "code",
      "source": [
        "marketjob_first=pd.read_excel('Вакансии_на_30.10.2022.xlsx')"
      ],
      "metadata": {
        "id": "EYaWE7c5QVZr"
      },
      "execution_count": 3,
      "outputs": []
    },
    {
      "cell_type": "code",
      "source": [
        "marketjob_first"
      ],
      "metadata": {
        "id": "v9JtxiBeXlg8",
        "colab": {
          "base_uri": "https://localhost:8080/",
          "height": 1000
        },
        "outputId": "fc496b9f-47f6-48ca-9327-5808e6fed9c5"
      },
      "execution_count": 4,
      "outputs": [
        {
          "output_type": "execute_result",
          "data": {
            "text/plain": [
              "       Unnamed: 0        id  premium  \\\n",
              "0               0  70975205    False   \n",
              "1               1  71105409    False   \n",
              "2               2  71389337    False   \n",
              "3               3  69837495    False   \n",
              "4               4  71102790    False   \n",
              "...           ...       ...      ...   \n",
              "53442         284  70505805    False   \n",
              "53443         285  71320484    False   \n",
              "53444         286  69753095    False   \n",
              "53445         287  69541122    False   \n",
              "53446         288  70512354    False   \n",
              "\n",
              "                                                  name  \\\n",
              "0             Старший менеджер по работе с госсектором   \n",
              "1        Руководитель HR службы в Оренбург и Дзержинск   \n",
              "2                                Старший специалист HR   \n",
              "3      Ведущий юрисконсульт (отдел правовой аналитики)   \n",
              "4                                Старший специалист HR   \n",
              "...                                                ...   \n",
              "53442                   Переводчик с английского языка   \n",
              "53443                        Middle Golang-разработчик   \n",
              "53444                  Java-разработчик в OPS platform   \n",
              "53445                                  Account Manager   \n",
              "53446                        QA Engineer (Vostok team)   \n",
              "\n",
              "                                              department  has_test  \\\n",
              "0              {'id': 'bil-4934-beel', 'name': 'билайн'}     False   \n",
              "1                                                    NaN     False   \n",
              "2      {'id': '68587-68587-school', 'name': 'Алабуга....     False   \n",
              "3                                                    NaN     False   \n",
              "4      {'id': '68587-68587-school', 'name': 'Алабуга....     False   \n",
              "...                                                  ...       ...   \n",
              "53442                                                NaN     False   \n",
              "53443                                                NaN     False   \n",
              "53444                                                NaN     False   \n",
              "53445                                                NaN     False   \n",
              "53446                                                NaN     False   \n",
              "\n",
              "       response_letter_required  \\\n",
              "0                         False   \n",
              "1                         False   \n",
              "2                         False   \n",
              "3                         False   \n",
              "4                         False   \n",
              "...                         ...   \n",
              "53442                      True   \n",
              "53443                     False   \n",
              "53444                     False   \n",
              "53445                     False   \n",
              "53446                     False   \n",
              "\n",
              "                                                    area  \\\n",
              "0      {'id': '88', 'name': 'Казань', 'url': 'https:/...   \n",
              "1      {'id': '88', 'name': 'Казань', 'url': 'https:/...   \n",
              "2      {'id': '88', 'name': 'Казань', 'url': 'https:/...   \n",
              "3      {'id': '88', 'name': 'Казань', 'url': 'https:/...   \n",
              "4      {'id': '88', 'name': 'Казань', 'url': 'https:/...   \n",
              "...                                                  ...   \n",
              "53442  {'id': '24', 'name': 'Волгоград', 'url': 'http...   \n",
              "53443  {'id': '76', 'name': 'Ростов-на-Дону', 'url': ...   \n",
              "53444  {'id': '76', 'name': 'Ростов-на-Дону', 'url': ...   \n",
              "53445  {'id': '76', 'name': 'Ростов-на-Дону', 'url': ...   \n",
              "53446  {'id': '76', 'name': 'Ростов-на-Дону', 'url': ...   \n",
              "\n",
              "                                                  salary  \\\n",
              "0                                                    NaN   \n",
              "1      {'from': 100000, 'to': 150000, 'currency': 'RU...   \n",
              "2      {'from': 96000, 'to': 160000, 'currency': 'RUR...   \n",
              "3      {'from': 55000, 'to': None, 'currency': 'RUR',...   \n",
              "4      {'from': 96000, 'to': 160000, 'currency': 'RUR...   \n",
              "...                                                  ...   \n",
              "53442  {'from': 30000, 'to': None, 'currency': 'RUR',...   \n",
              "53443  {'from': 150000, 'to': 200000, 'currency': 'RU...   \n",
              "53444                                                NaN   \n",
              "53445                                                NaN   \n",
              "53446                                                NaN   \n",
              "\n",
              "                                     type  ...  \\\n",
              "0      {'id': 'open', 'name': 'Открытая'}  ...   \n",
              "1      {'id': 'open', 'name': 'Открытая'}  ...   \n",
              "2      {'id': 'open', 'name': 'Открытая'}  ...   \n",
              "3      {'id': 'open', 'name': 'Открытая'}  ...   \n",
              "4      {'id': 'open', 'name': 'Открытая'}  ...   \n",
              "...                                   ...  ...   \n",
              "53442  {'id': 'open', 'name': 'Открытая'}  ...   \n",
              "53443  {'id': 'open', 'name': 'Открытая'}  ...   \n",
              "53444  {'id': 'open', 'name': 'Открытая'}  ...   \n",
              "53445  {'id': 'open', 'name': 'Открытая'}  ...   \n",
              "53446  {'id': 'open', 'name': 'Открытая'}  ...   \n",
              "\n",
              "                                                 snippet contacts  \\\n",
              "0      {'requirement': 'Высшее образование. Успешный ...      NaN   \n",
              "1      {'requirement': 'Рассмотрим кандидатов с анало...      NaN   \n",
              "2      {'requirement': 'Образование в области психоло...      NaN   \n",
              "3      {'requirement': 'Высшее профильное образование...      NaN   \n",
              "4      {'requirement': 'Образование в области психоло...      NaN   \n",
              "...                                                  ...      ...   \n",
              "53442  {'requirement': 'Мы готовы обучить подходящего...      NaN   \n",
              "53443  {'requirement': 'Опыт в коммерческих проектах ...      NaN   \n",
              "53444  {'requirement': 'Высшее техническое образовани...      NaN   \n",
              "53445  {'requirement': 'Есть опыт в финтех индустрии ...      NaN   \n",
              "53446  {'requirement': 'Умение/способность читать лог...      NaN   \n",
              "\n",
              "                                           schedule working_days  \\\n",
              "0          {'id': 'fullDay', 'name': 'Полный день'}           []   \n",
              "1          {'id': 'fullDay', 'name': 'Полный день'}           []   \n",
              "2          {'id': 'fullDay', 'name': 'Полный день'}           []   \n",
              "3          {'id': 'fullDay', 'name': 'Полный день'}           []   \n",
              "4          {'id': 'fullDay', 'name': 'Полный день'}           []   \n",
              "...                                             ...          ...   \n",
              "53442      {'id': 'fullDay', 'name': 'Полный день'}           []   \n",
              "53443  {'id': 'remote', 'name': 'Удаленная работа'}           []   \n",
              "53444      {'id': 'fullDay', 'name': 'Полный день'}           []   \n",
              "53445   {'id': 'flexible', 'name': 'Гибкий график'}           []   \n",
              "53446      {'id': 'fullDay', 'name': 'Полный день'}           []   \n",
              "\n",
              "      working_time_intervals  working_time_modes accept_temporary  \\\n",
              "0                         []                  []            False   \n",
              "1                         []                  []            False   \n",
              "2                         []                  []            False   \n",
              "3                         []                  []            False   \n",
              "4                         []                  []            False   \n",
              "...                      ...                 ...              ...   \n",
              "53442                     []                  []            False   \n",
              "53443                     []                  []            False   \n",
              "53444                     []                  []            False   \n",
              "53445                     []                  []            False   \n",
              "53446                     []                  []            False   \n",
              "\n",
              "                                              experience  \\\n",
              "0      {'id': 'between1And3', 'name': 'От 1 года до 3...   \n",
              "1        {'id': 'between3And6', 'name': 'От 3 до 6 лет'}   \n",
              "2        {'id': 'between3And6', 'name': 'От 3 до 6 лет'}   \n",
              "3        {'id': 'between3And6', 'name': 'От 3 до 6 лет'}   \n",
              "4        {'id': 'between3And6', 'name': 'От 3 до 6 лет'}   \n",
              "...                                                  ...   \n",
              "53442  {'id': 'between1And3', 'name': 'От 1 года до 3...   \n",
              "53443  {'id': 'between1And3', 'name': 'От 1 года до 3...   \n",
              "53444    {'id': 'between3And6', 'name': 'От 3 до 6 лет'}   \n",
              "53445  {'id': 'between1And3', 'name': 'От 1 года до 3...   \n",
              "53446        {'id': 'noExperience', 'name': 'Нет опыта'}   \n",
              "\n",
              "                                              key_skills  \\\n",
              "0      [{'name': 'B2G'}, {'name': 'B2G продажи'}, {'n...   \n",
              "1      [{'name': 'Подбор персонала'}, {'name': 'Обуче...   \n",
              "2      [{'name': 'Обучение и развитие'}, {'name': 'Ко...   \n",
              "3      [{'name': 'Многозадачность'}, {'name': 'Юрист'...   \n",
              "4      [{'name': 'Обучение и развитие'}, {'name': 'Ко...   \n",
              "...                                                  ...   \n",
              "53442  [{'name': 'Internet Marketing'}, {'name': 'Орг...   \n",
              "53443  [{'name': 'Golang'}, {'name': 'Go'}, {'name': ...   \n",
              "53444  [{'name': 'Java'}, {'name': 'Spring Framework'...   \n",
              "53445  [{'name': 'Английский язык'}, {'name': 'Englis...   \n",
              "53446  [{'name': 'Git'}, {'name': 'Bash'}, {'name': '...   \n",
              "\n",
              "                      region  \n",
              "0       Республика Татарстан  \n",
              "1       Республика Татарстан  \n",
              "2       Республика Татарстан  \n",
              "3       Республика Татарстан  \n",
              "4       Республика Татарстан  \n",
              "...                      ...  \n",
              "53442  Волгоградская область  \n",
              "53443     Ростовская область  \n",
              "53444     Ростовская область  \n",
              "53445     Ростовская область  \n",
              "53446     Ростовская область  \n",
              "\n",
              "[53447 rows x 33 columns]"
            ],
            "text/html": [
              "\n",
              "  <div id=\"df-7f4fc220-9bce-44ca-81f7-a1420daac409\">\n",
              "    <div class=\"colab-df-container\">\n",
              "      <div>\n",
              "<style scoped>\n",
              "    .dataframe tbody tr th:only-of-type {\n",
              "        vertical-align: middle;\n",
              "    }\n",
              "\n",
              "    .dataframe tbody tr th {\n",
              "        vertical-align: top;\n",
              "    }\n",
              "\n",
              "    .dataframe thead th {\n",
              "        text-align: right;\n",
              "    }\n",
              "</style>\n",
              "<table border=\"1\" class=\"dataframe\">\n",
              "  <thead>\n",
              "    <tr style=\"text-align: right;\">\n",
              "      <th></th>\n",
              "      <th>Unnamed: 0</th>\n",
              "      <th>id</th>\n",
              "      <th>premium</th>\n",
              "      <th>name</th>\n",
              "      <th>department</th>\n",
              "      <th>has_test</th>\n",
              "      <th>response_letter_required</th>\n",
              "      <th>area</th>\n",
              "      <th>salary</th>\n",
              "      <th>type</th>\n",
              "      <th>...</th>\n",
              "      <th>snippet</th>\n",
              "      <th>contacts</th>\n",
              "      <th>schedule</th>\n",
              "      <th>working_days</th>\n",
              "      <th>working_time_intervals</th>\n",
              "      <th>working_time_modes</th>\n",
              "      <th>accept_temporary</th>\n",
              "      <th>experience</th>\n",
              "      <th>key_skills</th>\n",
              "      <th>region</th>\n",
              "    </tr>\n",
              "  </thead>\n",
              "  <tbody>\n",
              "    <tr>\n",
              "      <th>0</th>\n",
              "      <td>0</td>\n",
              "      <td>70975205</td>\n",
              "      <td>False</td>\n",
              "      <td>Старший менеджер по работе с госсектором</td>\n",
              "      <td>{'id': 'bil-4934-beel', 'name': 'билайн'}</td>\n",
              "      <td>False</td>\n",
              "      <td>False</td>\n",
              "      <td>{'id': '88', 'name': 'Казань', 'url': 'https:/...</td>\n",
              "      <td>NaN</td>\n",
              "      <td>{'id': 'open', 'name': 'Открытая'}</td>\n",
              "      <td>...</td>\n",
              "      <td>{'requirement': 'Высшее образование. Успешный ...</td>\n",
              "      <td>NaN</td>\n",
              "      <td>{'id': 'fullDay', 'name': 'Полный день'}</td>\n",
              "      <td>[]</td>\n",
              "      <td>[]</td>\n",
              "      <td>[]</td>\n",
              "      <td>False</td>\n",
              "      <td>{'id': 'between1And3', 'name': 'От 1 года до 3...</td>\n",
              "      <td>[{'name': 'B2G'}, {'name': 'B2G продажи'}, {'n...</td>\n",
              "      <td>Республика Татарстан</td>\n",
              "    </tr>\n",
              "    <tr>\n",
              "      <th>1</th>\n",
              "      <td>1</td>\n",
              "      <td>71105409</td>\n",
              "      <td>False</td>\n",
              "      <td>Руководитель HR службы в Оренбург и Дзержинск</td>\n",
              "      <td>NaN</td>\n",
              "      <td>False</td>\n",
              "      <td>False</td>\n",
              "      <td>{'id': '88', 'name': 'Казань', 'url': 'https:/...</td>\n",
              "      <td>{'from': 100000, 'to': 150000, 'currency': 'RU...</td>\n",
              "      <td>{'id': 'open', 'name': 'Открытая'}</td>\n",
              "      <td>...</td>\n",
              "      <td>{'requirement': 'Рассмотрим кандидатов с анало...</td>\n",
              "      <td>NaN</td>\n",
              "      <td>{'id': 'fullDay', 'name': 'Полный день'}</td>\n",
              "      <td>[]</td>\n",
              "      <td>[]</td>\n",
              "      <td>[]</td>\n",
              "      <td>False</td>\n",
              "      <td>{'id': 'between3And6', 'name': 'От 3 до 6 лет'}</td>\n",
              "      <td>[{'name': 'Подбор персонала'}, {'name': 'Обуче...</td>\n",
              "      <td>Республика Татарстан</td>\n",
              "    </tr>\n",
              "    <tr>\n",
              "      <th>2</th>\n",
              "      <td>2</td>\n",
              "      <td>71389337</td>\n",
              "      <td>False</td>\n",
              "      <td>Старший специалист HR</td>\n",
              "      <td>{'id': '68587-68587-school', 'name': 'Алабуга....</td>\n",
              "      <td>False</td>\n",
              "      <td>False</td>\n",
              "      <td>{'id': '88', 'name': 'Казань', 'url': 'https:/...</td>\n",
              "      <td>{'from': 96000, 'to': 160000, 'currency': 'RUR...</td>\n",
              "      <td>{'id': 'open', 'name': 'Открытая'}</td>\n",
              "      <td>...</td>\n",
              "      <td>{'requirement': 'Образование в области психоло...</td>\n",
              "      <td>NaN</td>\n",
              "      <td>{'id': 'fullDay', 'name': 'Полный день'}</td>\n",
              "      <td>[]</td>\n",
              "      <td>[]</td>\n",
              "      <td>[]</td>\n",
              "      <td>False</td>\n",
              "      <td>{'id': 'between3And6', 'name': 'От 3 до 6 лет'}</td>\n",
              "      <td>[{'name': 'Обучение и развитие'}, {'name': 'Ко...</td>\n",
              "      <td>Республика Татарстан</td>\n",
              "    </tr>\n",
              "    <tr>\n",
              "      <th>3</th>\n",
              "      <td>3</td>\n",
              "      <td>69837495</td>\n",
              "      <td>False</td>\n",
              "      <td>Ведущий юрисконсульт (отдел правовой аналитики)</td>\n",
              "      <td>NaN</td>\n",
              "      <td>False</td>\n",
              "      <td>False</td>\n",
              "      <td>{'id': '88', 'name': 'Казань', 'url': 'https:/...</td>\n",
              "      <td>{'from': 55000, 'to': None, 'currency': 'RUR',...</td>\n",
              "      <td>{'id': 'open', 'name': 'Открытая'}</td>\n",
              "      <td>...</td>\n",
              "      <td>{'requirement': 'Высшее профильное образование...</td>\n",
              "      <td>NaN</td>\n",
              "      <td>{'id': 'fullDay', 'name': 'Полный день'}</td>\n",
              "      <td>[]</td>\n",
              "      <td>[]</td>\n",
              "      <td>[]</td>\n",
              "      <td>False</td>\n",
              "      <td>{'id': 'between3And6', 'name': 'От 3 до 6 лет'}</td>\n",
              "      <td>[{'name': 'Многозадачность'}, {'name': 'Юрист'...</td>\n",
              "      <td>Республика Татарстан</td>\n",
              "    </tr>\n",
              "    <tr>\n",
              "      <th>4</th>\n",
              "      <td>4</td>\n",
              "      <td>71102790</td>\n",
              "      <td>False</td>\n",
              "      <td>Старший специалист HR</td>\n",
              "      <td>{'id': '68587-68587-school', 'name': 'Алабуга....</td>\n",
              "      <td>False</td>\n",
              "      <td>False</td>\n",
              "      <td>{'id': '88', 'name': 'Казань', 'url': 'https:/...</td>\n",
              "      <td>{'from': 96000, 'to': 160000, 'currency': 'RUR...</td>\n",
              "      <td>{'id': 'open', 'name': 'Открытая'}</td>\n",
              "      <td>...</td>\n",
              "      <td>{'requirement': 'Образование в области психоло...</td>\n",
              "      <td>NaN</td>\n",
              "      <td>{'id': 'fullDay', 'name': 'Полный день'}</td>\n",
              "      <td>[]</td>\n",
              "      <td>[]</td>\n",
              "      <td>[]</td>\n",
              "      <td>False</td>\n",
              "      <td>{'id': 'between3And6', 'name': 'От 3 до 6 лет'}</td>\n",
              "      <td>[{'name': 'Обучение и развитие'}, {'name': 'Ко...</td>\n",
              "      <td>Республика Татарстан</td>\n",
              "    </tr>\n",
              "    <tr>\n",
              "      <th>...</th>\n",
              "      <td>...</td>\n",
              "      <td>...</td>\n",
              "      <td>...</td>\n",
              "      <td>...</td>\n",
              "      <td>...</td>\n",
              "      <td>...</td>\n",
              "      <td>...</td>\n",
              "      <td>...</td>\n",
              "      <td>...</td>\n",
              "      <td>...</td>\n",
              "      <td>...</td>\n",
              "      <td>...</td>\n",
              "      <td>...</td>\n",
              "      <td>...</td>\n",
              "      <td>...</td>\n",
              "      <td>...</td>\n",
              "      <td>...</td>\n",
              "      <td>...</td>\n",
              "      <td>...</td>\n",
              "      <td>...</td>\n",
              "      <td>...</td>\n",
              "    </tr>\n",
              "    <tr>\n",
              "      <th>53442</th>\n",
              "      <td>284</td>\n",
              "      <td>70505805</td>\n",
              "      <td>False</td>\n",
              "      <td>Переводчик с английского языка</td>\n",
              "      <td>NaN</td>\n",
              "      <td>False</td>\n",
              "      <td>True</td>\n",
              "      <td>{'id': '24', 'name': 'Волгоград', 'url': 'http...</td>\n",
              "      <td>{'from': 30000, 'to': None, 'currency': 'RUR',...</td>\n",
              "      <td>{'id': 'open', 'name': 'Открытая'}</td>\n",
              "      <td>...</td>\n",
              "      <td>{'requirement': 'Мы готовы обучить подходящего...</td>\n",
              "      <td>NaN</td>\n",
              "      <td>{'id': 'fullDay', 'name': 'Полный день'}</td>\n",
              "      <td>[]</td>\n",
              "      <td>[]</td>\n",
              "      <td>[]</td>\n",
              "      <td>False</td>\n",
              "      <td>{'id': 'between1And3', 'name': 'От 1 года до 3...</td>\n",
              "      <td>[{'name': 'Internet Marketing'}, {'name': 'Орг...</td>\n",
              "      <td>Волгоградская область</td>\n",
              "    </tr>\n",
              "    <tr>\n",
              "      <th>53443</th>\n",
              "      <td>285</td>\n",
              "      <td>71320484</td>\n",
              "      <td>False</td>\n",
              "      <td>Middle Golang-разработчик</td>\n",
              "      <td>NaN</td>\n",
              "      <td>False</td>\n",
              "      <td>False</td>\n",
              "      <td>{'id': '76', 'name': 'Ростов-на-Дону', 'url': ...</td>\n",
              "      <td>{'from': 150000, 'to': 200000, 'currency': 'RU...</td>\n",
              "      <td>{'id': 'open', 'name': 'Открытая'}</td>\n",
              "      <td>...</td>\n",
              "      <td>{'requirement': 'Опыт в коммерческих проектах ...</td>\n",
              "      <td>NaN</td>\n",
              "      <td>{'id': 'remote', 'name': 'Удаленная работа'}</td>\n",
              "      <td>[]</td>\n",
              "      <td>[]</td>\n",
              "      <td>[]</td>\n",
              "      <td>False</td>\n",
              "      <td>{'id': 'between1And3', 'name': 'От 1 года до 3...</td>\n",
              "      <td>[{'name': 'Golang'}, {'name': 'Go'}, {'name': ...</td>\n",
              "      <td>Ростовская область</td>\n",
              "    </tr>\n",
              "    <tr>\n",
              "      <th>53444</th>\n",
              "      <td>286</td>\n",
              "      <td>69753095</td>\n",
              "      <td>False</td>\n",
              "      <td>Java-разработчик в OPS platform</td>\n",
              "      <td>NaN</td>\n",
              "      <td>False</td>\n",
              "      <td>False</td>\n",
              "      <td>{'id': '76', 'name': 'Ростов-на-Дону', 'url': ...</td>\n",
              "      <td>NaN</td>\n",
              "      <td>{'id': 'open', 'name': 'Открытая'}</td>\n",
              "      <td>...</td>\n",
              "      <td>{'requirement': 'Высшее техническое образовани...</td>\n",
              "      <td>NaN</td>\n",
              "      <td>{'id': 'fullDay', 'name': 'Полный день'}</td>\n",
              "      <td>[]</td>\n",
              "      <td>[]</td>\n",
              "      <td>[]</td>\n",
              "      <td>False</td>\n",
              "      <td>{'id': 'between3And6', 'name': 'От 3 до 6 лет'}</td>\n",
              "      <td>[{'name': 'Java'}, {'name': 'Spring Framework'...</td>\n",
              "      <td>Ростовская область</td>\n",
              "    </tr>\n",
              "    <tr>\n",
              "      <th>53445</th>\n",
              "      <td>287</td>\n",
              "      <td>69541122</td>\n",
              "      <td>False</td>\n",
              "      <td>Account Manager</td>\n",
              "      <td>NaN</td>\n",
              "      <td>False</td>\n",
              "      <td>False</td>\n",
              "      <td>{'id': '76', 'name': 'Ростов-на-Дону', 'url': ...</td>\n",
              "      <td>NaN</td>\n",
              "      <td>{'id': 'open', 'name': 'Открытая'}</td>\n",
              "      <td>...</td>\n",
              "      <td>{'requirement': 'Есть опыт в финтех индустрии ...</td>\n",
              "      <td>NaN</td>\n",
              "      <td>{'id': 'flexible', 'name': 'Гибкий график'}</td>\n",
              "      <td>[]</td>\n",
              "      <td>[]</td>\n",
              "      <td>[]</td>\n",
              "      <td>False</td>\n",
              "      <td>{'id': 'between1And3', 'name': 'От 1 года до 3...</td>\n",
              "      <td>[{'name': 'Английский язык'}, {'name': 'Englis...</td>\n",
              "      <td>Ростовская область</td>\n",
              "    </tr>\n",
              "    <tr>\n",
              "      <th>53446</th>\n",
              "      <td>288</td>\n",
              "      <td>70512354</td>\n",
              "      <td>False</td>\n",
              "      <td>QA Engineer (Vostok team)</td>\n",
              "      <td>NaN</td>\n",
              "      <td>False</td>\n",
              "      <td>False</td>\n",
              "      <td>{'id': '76', 'name': 'Ростов-на-Дону', 'url': ...</td>\n",
              "      <td>NaN</td>\n",
              "      <td>{'id': 'open', 'name': 'Открытая'}</td>\n",
              "      <td>...</td>\n",
              "      <td>{'requirement': 'Умение/способность читать лог...</td>\n",
              "      <td>NaN</td>\n",
              "      <td>{'id': 'fullDay', 'name': 'Полный день'}</td>\n",
              "      <td>[]</td>\n",
              "      <td>[]</td>\n",
              "      <td>[]</td>\n",
              "      <td>False</td>\n",
              "      <td>{'id': 'noExperience', 'name': 'Нет опыта'}</td>\n",
              "      <td>[{'name': 'Git'}, {'name': 'Bash'}, {'name': '...</td>\n",
              "      <td>Ростовская область</td>\n",
              "    </tr>\n",
              "  </tbody>\n",
              "</table>\n",
              "<p>53447 rows × 33 columns</p>\n",
              "</div>\n",
              "      <button class=\"colab-df-convert\" onclick=\"convertToInteractive('df-7f4fc220-9bce-44ca-81f7-a1420daac409')\"\n",
              "              title=\"Convert this dataframe to an interactive table.\"\n",
              "              style=\"display:none;\">\n",
              "        \n",
              "  <svg xmlns=\"http://www.w3.org/2000/svg\" height=\"24px\"viewBox=\"0 0 24 24\"\n",
              "       width=\"24px\">\n",
              "    <path d=\"M0 0h24v24H0V0z\" fill=\"none\"/>\n",
              "    <path d=\"M18.56 5.44l.94 2.06.94-2.06 2.06-.94-2.06-.94-.94-2.06-.94 2.06-2.06.94zm-11 1L8.5 8.5l.94-2.06 2.06-.94-2.06-.94L8.5 2.5l-.94 2.06-2.06.94zm10 10l.94 2.06.94-2.06 2.06-.94-2.06-.94-.94-2.06-.94 2.06-2.06.94z\"/><path d=\"M17.41 7.96l-1.37-1.37c-.4-.4-.92-.59-1.43-.59-.52 0-1.04.2-1.43.59L10.3 9.45l-7.72 7.72c-.78.78-.78 2.05 0 2.83L4 21.41c.39.39.9.59 1.41.59.51 0 1.02-.2 1.41-.59l7.78-7.78 2.81-2.81c.8-.78.8-2.07 0-2.86zM5.41 20L4 18.59l7.72-7.72 1.47 1.35L5.41 20z\"/>\n",
              "  </svg>\n",
              "      </button>\n",
              "      \n",
              "  <style>\n",
              "    .colab-df-container {\n",
              "      display:flex;\n",
              "      flex-wrap:wrap;\n",
              "      gap: 12px;\n",
              "    }\n",
              "\n",
              "    .colab-df-convert {\n",
              "      background-color: #E8F0FE;\n",
              "      border: none;\n",
              "      border-radius: 50%;\n",
              "      cursor: pointer;\n",
              "      display: none;\n",
              "      fill: #1967D2;\n",
              "      height: 32px;\n",
              "      padding: 0 0 0 0;\n",
              "      width: 32px;\n",
              "    }\n",
              "\n",
              "    .colab-df-convert:hover {\n",
              "      background-color: #E2EBFA;\n",
              "      box-shadow: 0px 1px 2px rgba(60, 64, 67, 0.3), 0px 1px 3px 1px rgba(60, 64, 67, 0.15);\n",
              "      fill: #174EA6;\n",
              "    }\n",
              "\n",
              "    [theme=dark] .colab-df-convert {\n",
              "      background-color: #3B4455;\n",
              "      fill: #D2E3FC;\n",
              "    }\n",
              "\n",
              "    [theme=dark] .colab-df-convert:hover {\n",
              "      background-color: #434B5C;\n",
              "      box-shadow: 0px 1px 3px 1px rgba(0, 0, 0, 0.15);\n",
              "      filter: drop-shadow(0px 1px 2px rgba(0, 0, 0, 0.3));\n",
              "      fill: #FFFFFF;\n",
              "    }\n",
              "  </style>\n",
              "\n",
              "      <script>\n",
              "        const buttonEl =\n",
              "          document.querySelector('#df-7f4fc220-9bce-44ca-81f7-a1420daac409 button.colab-df-convert');\n",
              "        buttonEl.style.display =\n",
              "          google.colab.kernel.accessAllowed ? 'block' : 'none';\n",
              "\n",
              "        async function convertToInteractive(key) {\n",
              "          const element = document.querySelector('#df-7f4fc220-9bce-44ca-81f7-a1420daac409');\n",
              "          const dataTable =\n",
              "            await google.colab.kernel.invokeFunction('convertToInteractive',\n",
              "                                                     [key], {});\n",
              "          if (!dataTable) return;\n",
              "\n",
              "          const docLinkHtml = 'Like what you see? Visit the ' +\n",
              "            '<a target=\"_blank\" href=https://colab.research.google.com/notebooks/data_table.ipynb>data table notebook</a>'\n",
              "            + ' to learn more about interactive tables.';\n",
              "          element.innerHTML = '';\n",
              "          dataTable['output_type'] = 'display_data';\n",
              "          await google.colab.output.renderOutput(dataTable, element);\n",
              "          const docLink = document.createElement('div');\n",
              "          docLink.innerHTML = docLinkHtml;\n",
              "          element.appendChild(docLink);\n",
              "        }\n",
              "      </script>\n",
              "    </div>\n",
              "  </div>\n",
              "  "
            ]
          },
          "metadata": {},
          "execution_count": 4
        }
      ]
    },
    {
      "cell_type": "code",
      "source": [
        "#удалим идентичные и полностью повторяющиеся строки в датасете\n",
        "marketjob = marketjob_first.drop_duplicates()\n",
        "marketjob.info()"
      ],
      "metadata": {
        "colab": {
          "base_uri": "https://localhost:8080/"
        },
        "id": "-7pxHT_hrNTs",
        "outputId": "01cd6987-29ed-4e9e-e721-33e59292fd2e"
      },
      "execution_count": 5,
      "outputs": [
        {
          "output_type": "stream",
          "name": "stdout",
          "text": [
            "<class 'pandas.core.frame.DataFrame'>\n",
            "Int64Index: 51200 entries, 0 to 53446\n",
            "Data columns (total 33 columns):\n",
            " #   Column                    Non-Null Count  Dtype  \n",
            "---  ------                    --------------  -----  \n",
            " 0   Unnamed: 0                51200 non-null  int64  \n",
            " 1   id                        51200 non-null  int64  \n",
            " 2   premium                   51200 non-null  bool   \n",
            " 3   name                      51200 non-null  object \n",
            " 4   department                6098 non-null   object \n",
            " 5   has_test                  51200 non-null  bool   \n",
            " 6   response_letter_required  51200 non-null  bool   \n",
            " 7   area                      51200 non-null  object \n",
            " 8   salary                    19835 non-null  object \n",
            " 9   type                      51200 non-null  object \n",
            " 10  address                   24564 non-null  object \n",
            " 11  response_url              2 non-null      object \n",
            " 12  sort_point_distance       0 non-null      float64\n",
            " 13  published_at              51200 non-null  object \n",
            " 14  created_at                51200 non-null  object \n",
            " 15  archived                  51200 non-null  bool   \n",
            " 16  apply_alternate_url       51200 non-null  object \n",
            " 17  insider_interview         939 non-null    object \n",
            " 18  url                       51200 non-null  object \n",
            " 19  adv_response_url          51200 non-null  object \n",
            " 20  alternate_url             51200 non-null  object \n",
            " 21  relations                 51200 non-null  object \n",
            " 22  employer                  51200 non-null  object \n",
            " 23  snippet                   51200 non-null  object \n",
            " 24  contacts                  0 non-null      float64\n",
            " 25  schedule                  51200 non-null  object \n",
            " 26  working_days              51200 non-null  object \n",
            " 27  working_time_intervals    51200 non-null  object \n",
            " 28  working_time_modes        51200 non-null  object \n",
            " 29  accept_temporary          51200 non-null  bool   \n",
            " 30  experience                51200 non-null  object \n",
            " 31  key_skills                44226 non-null  object \n",
            " 32  region                    51200 non-null  object \n",
            "dtypes: bool(5), float64(2), int64(2), object(24)\n",
            "memory usage: 11.6+ MB\n"
          ]
        }
      ]
    },
    {
      "cell_type": "markdown",
      "source": [
        "# Анализ наименований вакансий\n",
        "\n"
      ],
      "metadata": {
        "id": "vhgmny_7sWp0"
      }
    },
    {
      "cell_type": "code",
      "source": [
        "# посмотрим количество вакансий по должностям\n",
        "marketjob['name'].value_counts()[:55]"
      ],
      "metadata": {
        "colab": {
          "base_uri": "https://localhost:8080/"
        },
        "id": "jH1hACujsVWs",
        "outputId": "d78e2d01-a026-4c0f-955e-0e6ba4e24d3b"
      },
      "execution_count": 6,
      "outputs": [
        {
          "output_type": "execute_result",
          "data": {
            "text/plain": [
              "Системный аналитик                                                    782\n",
              "Программист 1С                                                        592\n",
              "Бизнес-аналитик                                                       298\n",
              "Аналитик                                                              270\n",
              "Специалист технической поддержки                                      222\n",
              "Аналитик 1С                                                           206\n",
              "Контент-менеджер                                                      205\n",
              "Помощник системного администратора в Yandex Cloud                     165\n",
              "Технический писатель                                                  156\n",
              "Программист 1C                                                        151\n",
              "DevOps инженер                                                        146\n",
              "Руководитель проектов                                                 144\n",
              "Java-разработчик                                                      144\n",
              "Руководитель проекта                                                  143\n",
              "Специалист поддержки поиска Яндекса                                   143\n",
              "Маркетолог                                                            141\n",
              "Ночной консультант службы поддержки пользователей                     136\n",
              "Менеджер по продажам                                                  132\n",
              "Разработчик 1С                                                        132\n",
              "Специалист службы поддержки в Яндекс Бизнес                           131\n",
              "Ночной консультант технической поддержки                              130\n",
              "Интернет-маркетолог                                                   130\n",
              "Ведущий системный аналитик                                            124\n",
              "Frontend-разработчик                                                  120\n",
              "Главный инженер проекта                                               116\n",
              "Product manager                                                       114\n",
              "Специалист службы поддержки с техническими знаниями в Яндекс Поиск    109\n",
              "Специалист службы поддержки с техническими знаниями                   100\n",
              "Специалист службы поддержки умных устройств Яндекса                    99\n",
              "Специалист службы поддержки в Яндекс Станцию                           97\n",
              "Заместитель руководителя финансового блока/Финансист                   91\n",
              "Специалист службы поддержки пользователей                              90\n",
              "Менеджер проектов                                                      89\n",
              "DevOps Engineer                                                        88\n",
              "Ведущий программист 1С                                                 86\n",
              "Системный администратор                                                82\n",
              "PHP-разработчик                                                        82\n",
              "SEO-специалист                                                         80\n",
              "DevOps-инженер                                                         80\n",
              "Сотрудник поддержки поиска Яндекса                                     80\n",
              "Инженер-программист                                                    76\n",
              "Специалист службы поддержки с техническими знаниями (Браузер)          76\n",
              "QA Engineer                                                            75\n",
              "Ведущий аналитик                                                       72\n",
              "Финансовый аналитик                                                    71\n",
              "Data Engineer                                                          71\n",
              "Маркетолог-аналитик                                                    70\n",
              "Аналитик данных                                                        69\n",
              "Project manager                                                        66\n",
              "Эксперт по ответам на вопросы о Яндекс Бизнесе                         65\n",
              "Руководитель отдела продаж                                             63\n",
              "Специалист по общению с клиентами в Яндекс Бизнес                      63\n",
              "Специалист поддержки в Яндекс Бизнес                                   63\n",
              "Сотрудник службы поддержки в Яндекс Бизнес                             61\n",
              "Инженер ПТО                                                            60\n",
              "Name: name, dtype: int64"
            ]
          },
          "metadata": {},
          "execution_count": 6
        }
      ]
    },
    {
      "cell_type": "code",
      "source": [],
      "metadata": {
        "id": "TTulBjhhsfGM"
      },
      "execution_count": 6,
      "outputs": []
    },
    {
      "cell_type": "code",
      "source": [
        "# приводим разные наименования одинаковых профессий к одному\n",
        "import numpy as np\n",
        "vacancy = [\n",
        "    (marketjob['name'].str.contains('программист', case=False, regex=False), 'Программист'),\n",
        "    (marketjob['name'].str.contains('Программист', case=False,  regex=False), 'Программист'),\n",
        "    (marketjob['name'].str.contains('верстальщик', case=False,  regex=False), 'Программист'),\n",
        "    (marketjob['name'].str.contains('Инженер Linux', case=False,  regex=False), 'Программист'),\n",
        "    (marketjob['name'].str.contains('разработчик', case=False,  regex=False), 'Разработчик'),\n",
        "    (marketjob['name'].str.contains('Разработчик', case=False, regex=False), 'Разработчик'),\n",
        "    (marketjob['name'].str.contains('developer', case=False, regex=False), 'Разработчик'),\n",
        "    (marketjob['name'].str.contains('Developer', case=False, regex=False), 'Разработчик'),\n",
        "    (marketjob['name'].str.contains('Backend', case=False, regex=False), 'Разработчик'),\n",
        "    (marketjob['name'].str.contains('Back-end', case=False, regex=False), 'Разработчик'),\n",
        "    (marketjob['name'].str.contains('Таргетолог', case=False, regex=False), 'Таргетолог'),\n",
        "    (marketjob['name'].str.contains('Таргетинг', case=False, regex=False), 'Таргетолог'),\n",
        "\n",
        "\n",
        "\n",
        "    (marketjob['name'].str.contains('Веб-дизайн', case=False, regex=False), 'Веб-дизайнер'),\n",
        "    (marketjob['name'].str.contains('веб-дизайнера', case=False, regex=False), 'Веб-дизайнер'),\n",
        "    (marketjob['name'].str.contains('веб-дизайна', case=False, regex=False), 'Веб-дизайнер'),\n",
        "    (marketjob['name'].str.contains('WEB-дизайн', case=False, regex=False), 'Веб-дизайнер'),\n",
        "    (marketjob['name'].str.contains('Web-дизайн', case=False, regex=False), 'Веб-дизайнер'),\n",
        "    (marketjob['name'].str.contains('WEB дизайн', case=False, regex=False), 'Веб-дизайнер'),\n",
        "    (marketjob['name'].str.contains('3D', case=False, regex=False), 'Графический дизайн, моделирование (2D, 3D)'),\n",
        "    (marketjob['name'].str.contains('2D', case=False, regex=False), 'Графический дизайн, моделирование (2D, 3D)'),\n",
        "    (marketjob['name'].str.contains('UX', case=False, regex=False), 'UX/UI дизайнер'),\n",
        "    (marketjob['name'].str.contains('UI', case=False, regex=False), 'UX/UI дизайнер'),\n",
        "\n",
        "\n",
        "\n",
        "    (marketjob['name'].str.contains('Руководитель проектов', case=False,  regex=False), 'Project manager'),\n",
        "    (marketjob['name'].str.contains('Менеджер проектов', case=False,  regex=False), 'Project manager'),\n",
        "    (marketjob['name'].str.contains('Менеджер проекта', case=False,  regex=False), 'Project manager'),\n",
        "    (marketjob['name'].str.contains('Project', case=False,  regex=False), 'Project manager'),\n",
        "    (marketjob['name'].str.contains('Проектный менеджер', case=False,  regex=False), 'Project manager'),\n",
        "    (marketjob['name'].str.contains('Менеджер IT-проектов', case=False,  regex=False), 'Project manager'),\n",
        "\n",
        "\n",
        "    (marketjob['name'].str.contains('Devops', regex=False, case=False), 'DevOps-инженер'),\n",
        "    (marketjob['name'].str.contains('devops', regex=False, case=False), 'DevOps-инженер'),\n",
        "\n",
        "    (marketjob['name'].str.contains('тестировщик', regex=False, case=False), 'Тестировщик'),\n",
        "    (marketjob['name'].str.contains('Тестировщик', regex=False, case=False), 'Тестировщик'),\n",
        "    (marketjob['name'].str.contains('тестирования', regex=False, case=False), 'Тестировщик'),\n",
        "    (marketjob['name'].str.contains('QA', regex=False, case=False), 'Тестировщик'),\n",
        "    (marketjob['name'].str.contains('тестированию', regex=False, case=False), 'Тестировщик'),\n",
        "    (marketjob['name'].str.contains('Пентестер', regex=False, case=False), 'Тестировщик'),\n",
        "    (marketjob['name'].str.contains('тест', regex=False, case=False), 'Тестировщик'),\n",
        "    (marketjob['name'].str.contains('test', regex=False, case=False), 'Тестировщик'),\n",
        "\n",
        "    (marketjob['name'].str.contains('Контент', case=False, regex=False), 'Контент-менеджер'),\n",
        "    (marketjob['name'].str.contains('Дизайн мобильных приложений', case=False, regex=False), 'Веб-дизайнер'),\n",
        "    (marketjob['name'].str.contains('Дизайнер мобильных приложений', case=False, regex=False), 'Веб-дизайнер'),\n",
        "    (marketjob['name'].str.contains('Дизайн сайтов', case=False, regex=False), 'Веб-дизайнер'),\n",
        "    (marketjob['name'].str.contains('Дизайнер сайтов', case=False, regex=False), 'Веб-дизайнер'),\n",
        "\n",
        "    (marketjob['name'].str.contains('Геймдизайнер', case=False, regex=False), 'Графический дизайн, моделирование (2D, 3D)'),\n",
        "    (marketjob['name'].str.contains('Графический дизайн', case=False, regex=False), 'Графический дизайн, моделирование (2D, 3D)'),\n",
        "    (marketjob['name'].str.contains('Графическая подача', case=False, regex=False), 'Графический дизайн, моделирование (2D, 3D)'),\n",
        "\n",
        "    (marketjob['name'].str.contains('по IT', regex=False, case=False), 'IT-специалист'),\n",
        "    (marketjob['name'].str.contains('IT-инженер', regex=False, case=False), 'IT-специалист'),\n",
        "    (marketjob['name'].str.contains('Специалист ИТ', regex=False, case=False), 'IT-специалист'),\n",
        "    (marketjob['name'].str.contains('Специалист IT', regex=False, case=False), 'IT-специалист'),\n",
        "    (marketjob['name'].str.contains('Team lead', regex=False, case=False), 'IT-специалист'),\n",
        "    (marketjob['name'].str.contains('аналитик', regex=False, case=False), 'Аналитик'),\n",
        "    (marketjob['name'].str.contains('Аналитик', regex=False, case=False), 'Аналитик'),\n",
        "    (marketjob['name'].str.contains('Analyst', regex=False, case=False), 'Аналитик'),\n",
        "    (marketjob['name'].str.contains('Analytics', regex=False, case=False), 'Аналитик'),\n",
        "\n",
        "    (marketjob['name'].str.contains('Project manager', regex=False, case=False), 'Project manager'),\n",
        "    (marketjob['name'].str.contains('Project Manager', regex=False, case=False), 'Project manager'),\n",
        "    (marketjob['name'].str.contains('project manager', regex=False, case=False), 'Project manager'),\n",
        "    (marketjob['name'].str.contains('Product manager', regex=False, case=False), 'Product manager'),\n",
        "    (marketjob['name'].str.contains('Product Manager', regex=False, case=False), 'Product manager'),\n",
        "    (marketjob['name'].str.contains('product manager', regex=False, case=False), 'Product manager'),\n",
        "    (marketjob['name'].str.contains('Руководитель продуктового', regex=False, case=False), 'Product manager'),\n",
        "    (marketjob['name'].str.contains('Руководитель продукта', regex=False, case=False), 'Product manager'),\n",
        "    (marketjob['name'].str.contains('Руководитель продуктов', regex=False, case=False), 'Product manager'),\n",
        "    (marketjob['name'].str.contains('продуктовый менеджер', regex=False, case=False), 'Product manager'),\n",
        "    (marketjob['name'].str.contains('продуктовый менеджер', regex=False, case=False), 'Product manager'),\n",
        "    (marketjob['name'].str.contains('CPO', regex=False, case=False), 'Product manager'),\n",
        "    (marketjob['name'].str.contains('Chief product', regex=False, case=False), 'Product manager'),\n",
        "    (marketjob['name'].str.contains('Верстальщик', case=False, regex=False), 'Верстальщик'),\n",
        "    (marketjob['name'].str.contains('Вёрстка', case=False, regex=False), 'Верстальщик'),\n",
        "    (marketjob['name'].str.contains('Верстка', case=False, regex=False), 'Верстальщик')\n",
        "\n",
        "]"
      ],
      "metadata": {
        "id": "G7260nWBTk8Z"
      },
      "execution_count": 7,
      "outputs": []
    },
    {
      "cell_type": "code",
      "source": [
        "vacancy_criteria, vacancy_values = zip(*vacancy)\n",
        "marketjob['Vacancy'] = np.select(vacancy_criteria, vacancy_values, 'Прочие вакансии')"
      ],
      "metadata": {
        "id": "wFM794KyX1nJ",
        "colab": {
          "base_uri": "https://localhost:8080/"
        },
        "outputId": "beed0a2e-03e9-4b0e-99d1-ffea3f1cf891"
      },
      "execution_count": 8,
      "outputs": [
        {
          "output_type": "stream",
          "name": "stderr",
          "text": [
            "<ipython-input-8-b27ff2e0d322>:2: SettingWithCopyWarning: \n",
            "A value is trying to be set on a copy of a slice from a DataFrame.\n",
            "Try using .loc[row_indexer,col_indexer] = value instead\n",
            "\n",
            "See the caveats in the documentation: https://pandas.pydata.org/pandas-docs/stable/user_guide/indexing.html#returning-a-view-versus-a-copy\n",
            "  marketjob['Vacancy'] = np.select(vacancy_criteria, vacancy_values, 'Прочие вакансии')\n"
          ]
        }
      ]
    },
    {
      "cell_type": "code",
      "source": [
        "vacancy_counts = marketjob['Vacancy'].value_counts()\n",
        "vacancy_counts"
      ],
      "metadata": {
        "id": "cYJgzcroedr9",
        "colab": {
          "base_uri": "https://localhost:8080/"
        },
        "outputId": "2739a0fe-56e5-4a62-cfe9-e692ba64fabb"
      },
      "execution_count": 9,
      "outputs": [
        {
          "output_type": "execute_result",
          "data": {
            "text/plain": [
              "Прочие вакансии                               25317\n",
              "Аналитик                                       7672\n",
              "Разработчик                                    7627\n",
              "Программист                                    3190\n",
              "Project manager                                2002\n",
              "Тестировщик                                    1967\n",
              "DevOps-инженер                                  898\n",
              "Product manager                                 693\n",
              "Контент-менеджер                                602\n",
              "UX/UI дизайнер                                  560\n",
              "IT-специалист                                   337\n",
              "Веб-дизайнер                                    119\n",
              "Таргетолог                                      116\n",
              "Графический дизайн, моделирование (2D, 3D)      100\n",
              "Name: Vacancy, dtype: int64"
            ]
          },
          "metadata": {},
          "execution_count": 9
        }
      ]
    },
    {
      "cell_type": "code",
      "source": [
        "top_10 = marketjob['Vacancy'].value_counts()\n",
        "top_10"
      ],
      "metadata": {
        "colab": {
          "base_uri": "https://localhost:8080/"
        },
        "id": "qWUTy8iFimlf",
        "outputId": "1c5fe8c2-c1b5-44e7-f6c7-16e4889fd568"
      },
      "execution_count": 10,
      "outputs": [
        {
          "output_type": "execute_result",
          "data": {
            "text/plain": [
              "Прочие вакансии                               25317\n",
              "Аналитик                                       7672\n",
              "Разработчик                                    7627\n",
              "Программист                                    3190\n",
              "Project manager                                2002\n",
              "Тестировщик                                    1967\n",
              "DevOps-инженер                                  898\n",
              "Product manager                                 693\n",
              "Контент-менеджер                                602\n",
              "UX/UI дизайнер                                  560\n",
              "IT-специалист                                   337\n",
              "Веб-дизайнер                                    119\n",
              "Таргетолог                                      116\n",
              "Графический дизайн, моделирование (2D, 3D)      100\n",
              "Name: Vacancy, dtype: int64"
            ]
          },
          "metadata": {},
          "execution_count": 10
        }
      ]
    },
    {
      "cell_type": "code",
      "source": [
        "top_10.to_excel('Топ_вакансий_на_октябрь_22.xlsx')\n"
      ],
      "metadata": {
        "id": "t4VyjmAvArSv"
      },
      "execution_count": 11,
      "outputs": []
    },
    {
      "cell_type": "code",
      "source": [
        "# соберем it вакансии в группу \"IT вакансии\"\n",
        "other_vacancy_counts = vacancy_counts[vacancy_counts<25000]\n",
        "vacancy_counts = vacancy_counts[vacancy_counts>25000]"
      ],
      "metadata": {
        "id": "U9KcgldldxK9"
      },
      "execution_count": 12,
      "outputs": []
    },
    {
      "cell_type": "code",
      "source": [
        "vacancy_counts['IT вакансии'] = other_vacancy_counts.sum()"
      ],
      "metadata": {
        "id": "KcrEkS2tgeYW"
      },
      "execution_count": 13,
      "outputs": []
    },
    {
      "cell_type": "code",
      "source": [
        "# построим круговую диаграмму распределения количества вакансий по специализации\n",
        "import matplotlib.pyplot as plt\n",
        "\n",
        "\n",
        "\n",
        "fig, ax = plt.subplots()\n",
        "explode = (0, 0, 0, 0, 0, 0) \n",
        "ax.pie(vacancy_counts.values, labels = vacancy_counts.index, autopct='%1.1f%%', startangle=90, pctdistance = 0.85)\n",
        "plt.title('Круговая диаграмма распределения вакансий по специализации', fontweight=\"bold\")\n",
        "plt.show()"
      ],
      "metadata": {
        "colab": {
          "base_uri": "https://localhost:8080/",
          "height": 264
        },
        "id": "MtJFS4v3agaN",
        "outputId": "96fcee5a-52d3-4c61-b92b-23cd5658284a"
      },
      "execution_count": 14,
      "outputs": [
        {
          "output_type": "display_data",
          "data": {
            "text/plain": [
              "<Figure size 432x288 with 1 Axes>"
            ],
            "image/png": "[encoded data removed]"
          },
          "metadata": {}
        }
      ]
    },
    {
      "cell_type": "code",
      "source": [
        "vacancy_counts.to_excel('Рынок_вакансий_на_октябрь_22.xlsx')"
      ],
      "metadata": {
        "id": "5I0Yc4Wvfau-"
      },
      "execution_count": 15,
      "outputs": []
    },
    {
      "cell_type": "code",
      "source": [
        "# создам дубликат столбца названия должности для дальнейшего преобразования\n",
        "name_job = marketjob['name']\n",
        "marketjob['name_job'] = name_job\n",
        "# приводим разные наименования одинаковых профессий к одному\n",
        "import numpy as np\n",
        "name_job = [\n",
        "    (marketjob['name_job'].str.contains('программист', case=False, regex=False), 'IT-специалисты'),\n",
        "    (marketjob['name_job'].str.contains('Программист', case=False,  regex=False), 'IT-специалисты'),\n",
        "    (marketjob['name_job'].str.contains('верстальщик', case=False,  regex=False), 'IT-специалисты'),\n",
        "    (marketjob['name_job'].str.contains('Инженер Linux', case=False,  regex=False), 'IT-специалисты'),\n",
        "    (marketjob['name_job'].str.contains('разработчик', case=False,  regex=False), 'IT-специалисты'),\n",
        "    (marketjob['name_job'].str.contains('Разработчик', case=False, regex=False), 'IT-специалисты'),\n",
        "    (marketjob['name_job'].str.contains('developer', case=False, regex=False), 'IT-специалисты'),\n",
        "    (marketjob['name_job'].str.contains('Developer', case=False, regex=False), 'IT-специалисты'),\n",
        "    (marketjob['name_job'].str.contains('Backend', case=False, regex=False), 'IT-специалисты'),\n",
        "    (marketjob['name_job'].str.contains('Back-end', case=False, regex=False), 'IT-специалисты'),\n",
        "    (marketjob['name_job'].str.contains('Таргетолог', case=False, regex=False), 'IT-специалисты'),\n",
        "    (marketjob['name_job'].str.contains('Таргетинг', case=False, regex=False), 'IT-специалисты'),\n",
        "\n",
        "\n",
        "\n",
        "    (marketjob['name_job'].str.contains('Веб-дизайн', case=False, regex=False), 'IT-специалисты'),\n",
        "    (marketjob['name_job'].str.contains('веб-дизайнера', case=False, regex=False), 'IT-специалисты'),\n",
        "    (marketjob['name_job'].str.contains('веб-дизайна', case=False, regex=False), 'IT-специалисты'),\n",
        "    (marketjob['name_job'].str.contains('WEB-дизайн', case=False, regex=False), 'IT-специалисты'),\n",
        "    (marketjob['name_job'].str.contains('Web-дизайн', case=False, regex=False), 'IT-специалисты'),\n",
        "    (marketjob['name_job'].str.contains('WEB дизайн', case=False, regex=False), 'IT-специалисты'),\n",
        "    (marketjob['name_job'].str.contains('3D', case=False, regex=False), 'IT-специалисты'),\n",
        "    (marketjob['name_job'].str.contains('2D', case=False, regex=False), 'IT-специалисты'),\n",
        "    (marketjob['name_job'].str.contains('UX', case=False, regex=False), 'IT-специалисты'),\n",
        "    (marketjob['name_job'].str.contains('UI', case=False, regex=False), 'IT-специалисты'),\n",
        "\n",
        "\n",
        "\n",
        "    (marketjob['name_job'].str.contains('Руководитель проектов', case=False,  regex=False), 'IT-специалисты'),\n",
        "    (marketjob['name_job'].str.contains('Менеджер проектов', case=False,  regex=False), 'IT-специалисты'),\n",
        "    (marketjob['name_job'].str.contains('Менеджер проекта', case=False,  regex=False), 'IT-специалисты'),\n",
        "    (marketjob['name_job'].str.contains('Project', case=False,  regex=False), 'IT-специалисты'),\n",
        "    (marketjob['name_job'].str.contains('Проектный менеджер', case=False,  regex=False), 'IT-специалисты'),\n",
        "    (marketjob['name_job'].str.contains('Менеджер IT-проектов', case=False,  regex=False), 'IT-специалисты'),\n",
        "\n",
        "\n",
        "    (marketjob['name_job'].str.contains('Devops', regex=False, case=False), 'IT-специалисты'),\n",
        "    (marketjob['name_job'].str.contains('devops', regex=False, case=False), 'IT-специалисты'),\n",
        "\n",
        "    (marketjob['name_job'].str.contains('тестировщик', regex=False, case=False), 'IT-специалисты'),\n",
        "    (marketjob['name_job'].str.contains('Тестировщик', regex=False, case=False), 'IT-специалисты'),\n",
        "    (marketjob['name_job'].str.contains('тестирования', regex=False, case=False), 'IT-специалисты'),\n",
        "    (marketjob['name_job'].str.contains('QA', regex=False, case=False), 'IT-специалисты'),\n",
        "    (marketjob['name_job'].str.contains('тестированию', regex=False, case=False), 'IT-специалисты'),\n",
        "    (marketjob['name_job'].str.contains('Пентестер', regex=False, case=False), 'IT-специалисты'),\n",
        "    (marketjob['name_job'].str.contains('тест', regex=False, case=False), 'IT-специалисты'),\n",
        "    (marketjob['name_job'].str.contains('test', regex=False, case=False), 'IT-специалисты'),\n",
        "\n",
        "    (marketjob['name_job'].str.contains('Контент', case=False, regex=False), 'IT-специалисты'),\n",
        "    (marketjob['name_job'].str.contains('Дизайн мобильных приложений', case=False, regex=False), 'IT-специалисты'),\n",
        "    (marketjob['name_job'].str.contains('Дизайнер мобильных приложений', case=False, regex=False), 'IT-специалисты'),\n",
        "    (marketjob['name_job'].str.contains('Дизайн сайтов', case=False, regex=False), 'IT-специалисты'),\n",
        "    (marketjob['name_job'].str.contains('Дизайнер сайтов', case=False, regex=False), 'IT-специалисты'),\n",
        "\n",
        "    (marketjob['name_job'].str.contains('Геймдизайнер', case=False, regex=False), 'IT-специалисты'),\n",
        "    (marketjob['name_job'].str.contains('Графический дизайн', case=False, regex=False), 'IT-специалисты'),\n",
        "    (marketjob['name_job'].str.contains('Графическая подача', case=False, regex=False), 'IT-специалисты'),\n",
        "\n",
        "    (marketjob['name_job'].str.contains('по IT', regex=False, case=False), 'IT-специалисты'),\n",
        "    (marketjob['name_job'].str.contains('IT-инженер', regex=False, case=False), 'IT-специалисты'),\n",
        "    (marketjob['name_job'].str.contains('Специалист ИТ', regex=False, case=False), 'IT-специалисты'),\n",
        "    (marketjob['name_job'].str.contains('Специалист IT', regex=False, case=False), 'IT-специалисты'),\n",
        "    (marketjob['name_job'].str.contains('Team lead', regex=False, case=False), 'IT-специалисты'),\n",
        "    (marketjob['name_job'].str.contains('Team lead', regex=False, case=False), 'IT-специалисты'),\n",
        "    (marketjob['name_job'].str.contains('аналитик', regex=False, case=False), 'IT-специалисты'),\n",
        "    (marketjob['name_job'].str.contains('Аналитик', regex=False, case=False), 'IT-специалисты'),\n",
        "    (marketjob['name_job'].str.contains('Analyst', regex=False, case=False), 'IT-специалисты'),\n",
        "    (marketjob['name_job'].str.contains('Analytics', regex=False, case=False), 'IT-специалисты'),\n",
        "\n",
        "    (marketjob['name_job'].str.contains('Project manager', regex=False, case=False), 'IT-специалисты'),\n",
        "    (marketjob['name_job'].str.contains('Project Manager', regex=False, case=False), 'IT-специалисты'),\n",
        "    (marketjob['name_job'].str.contains('project manager', regex=False, case=False), 'IT-специалисты'),\n",
        "    (marketjob['name_job'].str.contains('Product manager', regex=False, case=False), 'IT-специалисты'),\n",
        "    (marketjob['name_job'].str.contains('Product Manager', regex=False, case=False), 'IT-специалисты'),\n",
        "    (marketjob['name_job'].str.contains('product manager', regex=False, case=False), 'IT-специалисты'),\n",
        "    (marketjob['name_job'].str.contains('Руководитель продуктового', regex=False, case=False), 'IT-специалисты'),\n",
        "    (marketjob['name_job'].str.contains('Руководитель продукта', regex=False, case=False), 'IT-специалисты'),\n",
        "    (marketjob['name_job'].str.contains('Руководитель продуктов', regex=False, case=False), 'IT-специалисты'),\n",
        "    (marketjob['name_job'].str.contains('продуктовый менеджер', regex=False, case=False), 'IT-специалисты'),\n",
        "    (marketjob['name_job'].str.contains('продуктовый менеджер', regex=False, case=False), 'IT-специалисты'),\n",
        "    (marketjob['name_job'].str.contains('CPO', regex=False, case=False), 'IT-специалисты'),\n",
        "    (marketjob['name_job'].str.contains('Chief product', regex=False, case=False), 'IT-специалисты'),\n",
        "    (marketjob['name_job'].str.contains('Верстальщик', case=False, regex=False), 'IT-специалисты'),\n",
        "    (marketjob['name_job'].str.contains('Вёрстка', case=False, regex=False), 'IT-специалисты'),\n",
        "    (marketjob['name_job'].str.contains('Верстка', case=False, regex=False), 'IT-специалисты'),\n",
        "    (marketjob['name_job'].str.contains('продажи', case=False, regex=False), 'Продажи'),\n",
        "\n",
        "    (marketjob['name_job'].str.contains('продажам', case=False, regex=False), 'Продажи'),\n",
        "    (marketjob['name_job'].str.contains('продавец', case=False, regex=False), 'Продажи'),\n",
        "    (marketjob['name_job'].str.contains('кассир', case=False, regex=False), 'Продажи'),\n",
        "    (marketjob['name_job'].str.contains('продаж', case=False, regex=False), 'Продажи'),\n",
        "    (marketjob['name_job'].str.contains('Продажи', case=False, regex=False), 'Продажи'),\n",
        "    (marketjob['name_job'].str.contains('риелтор', case=False, regex=False), 'Продажи'),    \n",
        "    (marketjob['name_job'].str.contains('риэлтор', case=False, regex=False), 'Продажи'),\n",
        "    (marketjob['name_job'].str.contains('недвижимости', case=False, regex=False), 'Продажи'),\n",
        "    (marketjob['name_job'].str.contains('продаже', case=False, regex=False), 'Продажи'),\n",
        "    (marketjob['name_job'].str.contains('недвижимостью', case=False, regex=False), 'Продажи'),\n",
        "    (marketjob['name_job'].str.contains('аренде', case=False, regex=False), 'Продажи'),\n",
        "    (marketjob['name_job'].str.contains('брокер', case=False, regex=False), 'Продажи'),\n",
        "\n",
        "    (marketjob['name_job'].str.contains('консультант', case=False, regex=False), 'Консультирование'),\n",
        "    (marketjob['name_job'].str.contains('консультантирование', case=False, regex=False), 'Консультирование'),\n",
        "    (marketjob['name_job'].str.contains('Консультант', case=False, regex=False), 'Консультирование'),\n",
        "    (marketjob['name_job'].str.contains('консультанта', case=False, regex=False), 'Консультирование'),\n",
        "    (marketjob['name_job'].str.contains('консультации', case=False, regex=False), 'Консультирование'),\n",
        "    (marketjob['name_job'].str.contains('консультация', case=False, regex=False), 'Консультирование'),\n",
        "    (marketjob['name_job'].str.contains('маркетолог', case=False, regex=False), 'Маркетинг, реклама, PR'),\n",
        "    (marketjob['name_job'].str.contains('маркетолога', case=False, regex=False), 'Маркетинг, реклама, PR'),\n",
        "    (marketjob['name_job'].str.contains('Маркетолог', case=False, regex=False), 'Маркетинг, реклама, PR'),\n",
        "    (marketjob['name_job'].str.contains('маркетинг', case=False, regex=False), 'Маркетинг, реклама, PR'),\n",
        "    (marketjob['name_job'].str.contains('маркетинга', case=False, regex=False), 'Маркетинг, реклама, PR'),\n",
        "    (marketjob['name_job'].str.contains('PR', case=False, regex=False), 'Маркетинг, реклама, PR'),\n",
        "    (marketjob['name_job'].str.contains('реклама', case=False, regex=False), 'Маркетинг, реклама, PR'),\n",
        "    (marketjob['name_job'].str.contains('рекламе', case=False, regex=False), 'Маркетинг, реклама, PR'),\n",
        "    (marketjob['name_job'].str.contains('рекламы', case=False, regex=False), 'Маркетинг, реклама, PR'),\n",
        "    (marketjob['name_job'].str.contains('персонал', case=False, regex=False), 'Управление персоналом, тренинги'),\n",
        "    (marketjob['name_job'].str.contains('HR', case=False, regex=False), 'Управление персоналом, тренинги'),\n",
        "    (marketjob['name_job'].str.contains('персоналом', case=False, regex=False), 'Управление персоналом, тренинги'),\n",
        "    (marketjob['name_job'].str.contains('трениг', case=False, regex=False), 'Управление персоналом, тренинги'),\n",
        "    (marketjob['name_job'].str.contains('тренига', case=False, regex=False), 'Управление персоналом, тренинги'),\n",
        "    (marketjob['name_job'].str.contains('тренигов', case=False, regex=False), 'Управление персоналом, тренинги'),\n",
        "    (marketjob['name_job'].str.contains('кадров', case=False, regex=False), 'Управление персоналом, тренинги'),\n",
        "    (marketjob['name_job'].str.contains('персонала', case=False, regex=False), 'Управление персоналом, тренинги'),\n",
        "    (marketjob['name_job'].str.contains('Рекрутер', case=False, regex=False), 'Управление персоналом, тренинги'),    \n",
        "    (marketjob['name_job'].str.contains('рекрутер', case=False, regex=False), 'Управление персоналом, тренинги'),\n",
        "    (marketjob['name_job'].str.contains('кадрам', case=False, regex=False), 'Управление персоналом, тренинги'),\n",
        "    (marketjob['name_job'].str.contains('кадравому', case=False, regex=False), 'Управление персоналом, тренинги'),\n",
        "    (marketjob['name_job'].str.contains('Табельщик', case=False, regex=False), 'Управление персоналом, тренинги'),\n",
        "    (marketjob['name_job'].str.contains('табельщик', case=False, regex=False), 'Управление персоналом, тренинги'),\n",
        "]\n"
      ],
      "metadata": {
        "colab": {
          "base_uri": "https://localhost:8080/"
        },
        "id": "PwLa9KxoBdmL",
        "outputId": "f8316402-7d9d-46c0-f541-e0612059a2dd"
      },
      "execution_count": 16,
      "outputs": [
        {
          "output_type": "stream",
          "name": "stderr",
          "text": [
            "<ipython-input-16-c8a22cbe88b5>:3: SettingWithCopyWarning: \n",
            "A value is trying to be set on a copy of a slice from a DataFrame.\n",
            "Try using .loc[row_indexer,col_indexer] = value instead\n",
            "\n",
            "See the caveats in the documentation: https://pandas.pydata.org/pandas-docs/stable/user_guide/indexing.html#returning-a-view-versus-a-copy\n",
            "  marketjob['name_job'] = name_job\n"
          ]
        }
      ]
    },
    {
      "cell_type": "code",
      "source": [
        "name_job_criteria, name_job_values = zip(*name_job)\n",
        "marketjob['name_job'] = np.select(name_job_criteria, name_job_values, 'Другое')"
      ],
      "metadata": {
        "colab": {
          "base_uri": "https://localhost:8080/"
        },
        "id": "PZE6yv7DE-nc",
        "outputId": "aa6fdb99-0b8e-4260-b74a-4bc396b231fe"
      },
      "execution_count": 17,
      "outputs": [
        {
          "output_type": "stream",
          "name": "stderr",
          "text": [
            "<ipython-input-17-365e607d18f8>:2: SettingWithCopyWarning: \n",
            "A value is trying to be set on a copy of a slice from a DataFrame.\n",
            "Try using .loc[row_indexer,col_indexer] = value instead\n",
            "\n",
            "See the caveats in the documentation: https://pandas.pydata.org/pandas-docs/stable/user_guide/indexing.html#returning-a-view-versus-a-copy\n",
            "  marketjob['name_job'] = np.select(name_job_criteria, name_job_values, 'Другое')\n"
          ]
        }
      ]
    },
    {
      "cell_type": "code",
      "source": [
        "marketjob['name_job'].value_counts()"
      ],
      "metadata": {
        "colab": {
          "base_uri": "https://localhost:8080/"
        },
        "id": "GSqYbjs4Gz1D",
        "outputId": "b97947b2-68c4-4b75-f5c7-d6f7f4f218d9"
      },
      "execution_count": 18,
      "outputs": [
        {
          "output_type": "execute_result",
          "data": {
            "text/plain": [
              "IT-специалисты                     25883\n",
              "Другое                             20141\n",
              "Маркетинг, реклама, PR              2131\n",
              "Продажи                             1475\n",
              "Консультирование                    1020\n",
              "Управление персоналом, тренинги      550\n",
              "Name: name_job, dtype: int64"
            ]
          },
          "metadata": {},
          "execution_count": 18
        }
      ]
    },
    {
      "cell_type": "code",
      "source": [
        "specializations_counts = marketjob['name_job'].value_counts()\n",
        "other_specializations_counts = specializations_counts[specializations_counts<549]\n",
        "specializations_counts = specializations_counts[specializations_counts>549]\n",
        "\n",
        "fig, ax = plt.subplots()\n",
        "explode = (0, 0, 0, 0, 0, 0) \n",
        "ax.pie(specializations_counts.values, labels = specializations_counts.index, autopct='%1.1f%%', startangle=90, pctdistance = 0.85)\n",
        "plt.title('Круговая диаграмма распределения вакансий по специализации', fontweight=\"bold\")\n",
        "plt.show()"
      ],
      "metadata": {
        "colab": {
          "base_uri": "https://localhost:8080/",
          "height": 264
        },
        "id": "t6dvZ3Z8PoMl",
        "outputId": "4c35cfba-24e6-4db4-d5da-504170391533"
      },
      "execution_count": 19,
      "outputs": [
        {
          "output_type": "display_data",
          "data": {
            "text/plain": [
              "<Figure size 432x288 with 1 Axes>"
            ],
            "image/png": "[encoded data removed]"
          },
          "metadata": {}
        }
      ]
    },
    {
      "cell_type": "code",
      "source": [
        "# собирем ИТ вакансии в отдельный датасет\n",
        "filter = marketjob['Vacancy'] != 'Прочие вакансии'\n",
        "marketjob_IT = marketjob[filter]\n",
        "marketjob_IT"
      ],
      "metadata": {
        "id": "9F_9vkPCFwhO",
        "colab": {
          "base_uri": "https://localhost:8080/",
          "height": 1000
        },
        "outputId": "217dad61-0609-4d10-b7da-6a401c1fd874"
      },
      "execution_count": 20,
      "outputs": [
        {
          "output_type": "execute_result",
          "data": {
            "text/plain": [
              "       Unnamed: 0        id  premium  \\\n",
              "3               3  69837495    False   \n",
              "6               6  66671984    False   \n",
              "8               8  71259652    False   \n",
              "10             10  70702916    False   \n",
              "17             17  71422513    False   \n",
              "...           ...       ...      ...   \n",
              "53439         281  71735340    False   \n",
              "53440         282  70576178    False   \n",
              "53443         285  71320484    False   \n",
              "53444         286  69753095    False   \n",
              "53446         288  70512354    False   \n",
              "\n",
              "                                                  name  \\\n",
              "3      Ведущий юрисконсульт (отдел правовой аналитики)   \n",
              "6                         Аналитик BI (отчетность DWH)   \n",
              "8                            Java разработчик Big Data   \n",
              "10                              Scala/Java-разработчик   \n",
              "17                               Программист-математик   \n",
              "...                                                ...   \n",
              "53439                              Битрикс-программист   \n",
              "53440                     Программист 1C (IT компания)   \n",
              "53443                        Middle Golang-разработчик   \n",
              "53444                  Java-разработчик в OPS platform   \n",
              "53446                        QA Engineer (Vostok team)   \n",
              "\n",
              "                                       department  has_test  \\\n",
              "3                                             NaN     False   \n",
              "6                                             NaN     False   \n",
              "8                                             NaN     False   \n",
              "10     {'id': '3529-3529-it', 'name': 'Сбер. IT'}     False   \n",
              "17                                            NaN     False   \n",
              "...                                           ...       ...   \n",
              "53439                                         NaN     False   \n",
              "53440                                         NaN     False   \n",
              "53443                                         NaN     False   \n",
              "53444                                         NaN     False   \n",
              "53446                                         NaN     False   \n",
              "\n",
              "       response_letter_required  \\\n",
              "3                         False   \n",
              "6                         False   \n",
              "8                         False   \n",
              "10                        False   \n",
              "17                        False   \n",
              "...                         ...   \n",
              "53439                     False   \n",
              "53440                     False   \n",
              "53443                     False   \n",
              "53444                     False   \n",
              "53446                     False   \n",
              "\n",
              "                                                    area  \\\n",
              "3      {'id': '88', 'name': 'Казань', 'url': 'https:/...   \n",
              "6      {'id': '96', 'name': 'Ижевск', 'url': 'https:/...   \n",
              "8      {'id': '96', 'name': 'Ижевск', 'url': 'https:/...   \n",
              "10     {'id': '66', 'name': 'Нижний Новгород', 'url':...   \n",
              "17     {'id': '77', 'name': 'Рязань', 'url': 'https:/...   \n",
              "...                                                  ...   \n",
              "53439  {'id': '58', 'name': 'Липецк', 'url': 'https:/...   \n",
              "53440  {'id': '24', 'name': 'Волгоград', 'url': 'http...   \n",
              "53443  {'id': '76', 'name': 'Ростов-на-Дону', 'url': ...   \n",
              "53444  {'id': '76', 'name': 'Ростов-на-Дону', 'url': ...   \n",
              "53446  {'id': '76', 'name': 'Ростов-на-Дону', 'url': ...   \n",
              "\n",
              "                                                  salary  \\\n",
              "3      {'from': 55000, 'to': None, 'currency': 'RUR',...   \n",
              "6                                                    NaN   \n",
              "8                                                    NaN   \n",
              "10                                                   NaN   \n",
              "17     {'from': 70000, 'to': None, 'currency': 'RUR',...   \n",
              "...                                                  ...   \n",
              "53439  {'from': 70000, 'to': None, 'currency': 'RUR',...   \n",
              "53440                                                NaN   \n",
              "53443  {'from': 150000, 'to': 200000, 'currency': 'RU...   \n",
              "53444                                                NaN   \n",
              "53446                                                NaN   \n",
              "\n",
              "                                     type  ...  \\\n",
              "3      {'id': 'open', 'name': 'Открытая'}  ...   \n",
              "6      {'id': 'open', 'name': 'Открытая'}  ...   \n",
              "8      {'id': 'open', 'name': 'Открытая'}  ...   \n",
              "10     {'id': 'open', 'name': 'Открытая'}  ...   \n",
              "17     {'id': 'open', 'name': 'Открытая'}  ...   \n",
              "...                                   ...  ...   \n",
              "53439  {'id': 'open', 'name': 'Открытая'}  ...   \n",
              "53440  {'id': 'open', 'name': 'Открытая'}  ...   \n",
              "53443  {'id': 'open', 'name': 'Открытая'}  ...   \n",
              "53444  {'id': 'open', 'name': 'Открытая'}  ...   \n",
              "53446  {'id': 'open', 'name': 'Открытая'}  ...   \n",
              "\n",
              "                                           schedule working_days  \\\n",
              "3          {'id': 'fullDay', 'name': 'Полный день'}           []   \n",
              "6          {'id': 'fullDay', 'name': 'Полный день'}           []   \n",
              "8          {'id': 'fullDay', 'name': 'Полный день'}           []   \n",
              "10         {'id': 'fullDay', 'name': 'Полный день'}           []   \n",
              "17         {'id': 'fullDay', 'name': 'Полный день'}           []   \n",
              "...                                             ...          ...   \n",
              "53439      {'id': 'fullDay', 'name': 'Полный день'}           []   \n",
              "53440      {'id': 'fullDay', 'name': 'Полный день'}           []   \n",
              "53443  {'id': 'remote', 'name': 'Удаленная работа'}           []   \n",
              "53444      {'id': 'fullDay', 'name': 'Полный день'}           []   \n",
              "53446      {'id': 'fullDay', 'name': 'Полный день'}           []   \n",
              "\n",
              "       working_time_intervals working_time_modes accept_temporary  \\\n",
              "3                          []                 []            False   \n",
              "6                          []                 []            False   \n",
              "8                          []                 []            False   \n",
              "10                         []                 []            False   \n",
              "17                         []                 []            False   \n",
              "...                       ...                ...              ...   \n",
              "53439                      []                 []            False   \n",
              "53440                      []                 []            False   \n",
              "53443                      []                 []            False   \n",
              "53444                      []                 []            False   \n",
              "53446                      []                 []            False   \n",
              "\n",
              "                                              experience  \\\n",
              "3        {'id': 'between3And6', 'name': 'От 3 до 6 лет'}   \n",
              "6        {'id': 'between3And6', 'name': 'От 3 до 6 лет'}   \n",
              "8      {'id': 'between1And3', 'name': 'От 1 года до 3...   \n",
              "10       {'id': 'between3And6', 'name': 'От 3 до 6 лет'}   \n",
              "17     {'id': 'between1And3', 'name': 'От 1 года до 3...   \n",
              "...                                                  ...   \n",
              "53439  {'id': 'between1And3', 'name': 'От 1 года до 3...   \n",
              "53440  {'id': 'between1And3', 'name': 'От 1 года до 3...   \n",
              "53443  {'id': 'between1And3', 'name': 'От 1 года до 3...   \n",
              "53444    {'id': 'between3And6', 'name': 'От 3 до 6 лет'}   \n",
              "53446        {'id': 'noExperience', 'name': 'Нет опыта'}   \n",
              "\n",
              "                                              key_skills  \\\n",
              "3      [{'name': 'Многозадачность'}, {'name': 'Юрист'...   \n",
              "6      [{'name': 'SQL'}, {'name': 'Tableau'}, {'name'...   \n",
              "8      [{'name': 'Java'}, {'name': 'ООП'}, {'name': '...   \n",
              "10                                                    []   \n",
              "17                                                    []   \n",
              "...                                                  ...   \n",
              "53439  [{'name': 'PHP'}, {'name': '1С-Битрикс'}, {'na...   \n",
              "53440  [{'name': '1С программирование'}, {'name': '1С...   \n",
              "53443  [{'name': 'Golang'}, {'name': 'Go'}, {'name': ...   \n",
              "53444  [{'name': 'Java'}, {'name': 'Spring Framework'...   \n",
              "53446  [{'name': 'Git'}, {'name': 'Bash'}, {'name': '...   \n",
              "\n",
              "                      region      Vacancy        name_job  \n",
              "3       Республика Татарстан     Аналитик  IT-специалисты  \n",
              "6      Удмуртская Республика     Аналитик  IT-специалисты  \n",
              "8      Удмуртская Республика  Разработчик  IT-специалисты  \n",
              "10     Нижегородская область  Разработчик  IT-специалисты  \n",
              "17         Рязанская область  Программист  IT-специалисты  \n",
              "...                      ...          ...             ...  \n",
              "53439       Липецкая область  Программист  IT-специалисты  \n",
              "53440  Волгоградская область  Программист  IT-специалисты  \n",
              "53443     Ростовская область  Разработчик  IT-специалисты  \n",
              "53444     Ростовская область  Разработчик  IT-специалисты  \n",
              "53446     Ростовская область  Тестировщик  IT-специалисты  \n",
              "\n",
              "[25883 rows x 35 columns]"
            ],
            "text/html": [
              "\n",
              "  <div id=\"df-d67bcfff-0cfa-409b-af80-41f7bed31c5a\">\n",
              "    <div class=\"colab-df-container\">\n",
              "      <div>\n",
              "<style scoped>\n",
              "    .dataframe tbody tr th:only-of-type {\n",
              "        vertical-align: middle;\n",
              "    }\n",
              "\n",
              "    .dataframe tbody tr th {\n",
              "        vertical-align: top;\n",
              "    }\n",
              "\n",
              "    .dataframe thead th {\n",
              "        text-align: right;\n",
              "    }\n",
              "</style>\n",
              "<table border=\"1\" class=\"dataframe\">\n",
              "  <thead>\n",
              "    <tr style=\"text-align: right;\">\n",
              "      <th></th>\n",
              "      <th>Unnamed: 0</th>\n",
              "      <th>id</th>\n",
              "      <th>premium</th>\n",
              "      <th>name</th>\n",
              "      <th>department</th>\n",
              "      <th>has_test</th>\n",
              "      <th>response_letter_required</th>\n",
              "      <th>area</th>\n",
              "      <th>salary</th>\n",
              "      <th>type</th>\n",
              "      <th>...</th>\n",
              "      <th>schedule</th>\n",
              "      <th>working_days</th>\n",
              "      <th>working_time_intervals</th>\n",
              "      <th>working_time_modes</th>\n",
              "      <th>accept_temporary</th>\n",
              "      <th>experience</th>\n",
              "      <th>key_skills</th>\n",
              "      <th>region</th>\n",
              "      <th>Vacancy</th>\n",
              "      <th>name_job</th>\n",
              "    </tr>\n",
              "  </thead>\n",
              "  <tbody>\n",
              "    <tr>\n",
              "      <th>3</th>\n",
              "      <td>3</td>\n",
              "      <td>69837495</td>\n",
              "      <td>False</td>\n",
              "      <td>Ведущий юрисконсульт (отдел правовой аналитики)</td>\n",
              "      <td>NaN</td>\n",
              "      <td>False</td>\n",
              "      <td>False</td>\n",
              "      <td>{'id': '88', 'name': 'Казань', 'url': 'https:/...</td>\n",
              "      <td>{'from': 55000, 'to': None, 'currency': 'RUR',...</td>\n",
              "      <td>{'id': 'open', 'name': 'Открытая'}</td>\n",
              "      <td>...</td>\n",
              "      <td>{'id': 'fullDay', 'name': 'Полный день'}</td>\n",
              "      <td>[]</td>\n",
              "      <td>[]</td>\n",
              "      <td>[]</td>\n",
              "      <td>False</td>\n",
              "      <td>{'id': 'between3And6', 'name': 'От 3 до 6 лет'}</td>\n",
              "      <td>[{'name': 'Многозадачность'}, {'name': 'Юрист'...</td>\n",
              "      <td>Республика Татарстан</td>\n",
              "      <td>Аналитик</td>\n",
              "      <td>IT-специалисты</td>\n",
              "    </tr>\n",
              "    <tr>\n",
              "      <th>6</th>\n",
              "      <td>6</td>\n",
              "      <td>66671984</td>\n",
              "      <td>False</td>\n",
              "      <td>Аналитик BI (отчетность DWH)</td>\n",
              "      <td>NaN</td>\n",
              "      <td>False</td>\n",
              "      <td>False</td>\n",
              "      <td>{'id': '96', 'name': 'Ижевск', 'url': 'https:/...</td>\n",
              "      <td>NaN</td>\n",
              "      <td>{'id': 'open', 'name': 'Открытая'}</td>\n",
              "      <td>...</td>\n",
              "      <td>{'id': 'fullDay', 'name': 'Полный день'}</td>\n",
              "      <td>[]</td>\n",
              "      <td>[]</td>\n",
              "      <td>[]</td>\n",
              "      <td>False</td>\n",
              "      <td>{'id': 'between3And6', 'name': 'От 3 до 6 лет'}</td>\n",
              "      <td>[{'name': 'SQL'}, {'name': 'Tableau'}, {'name'...</td>\n",
              "      <td>Удмуртская Республика</td>\n",
              "      <td>Аналитик</td>\n",
              "      <td>IT-специалисты</td>\n",
              "    </tr>\n",
              "    <tr>\n",
              "      <th>8</th>\n",
              "      <td>8</td>\n",
              "      <td>71259652</td>\n",
              "      <td>False</td>\n",
              "      <td>Java разработчик Big Data</td>\n",
              "      <td>NaN</td>\n",
              "      <td>False</td>\n",
              "      <td>False</td>\n",
              "      <td>{'id': '96', 'name': 'Ижевск', 'url': 'https:/...</td>\n",
              "      <td>NaN</td>\n",
              "      <td>{'id': 'open', 'name': 'Открытая'}</td>\n",
              "      <td>...</td>\n",
              "      <td>{'id': 'fullDay', 'name': 'Полный день'}</td>\n",
              "      <td>[]</td>\n",
              "      <td>[]</td>\n",
              "      <td>[]</td>\n",
              "      <td>False</td>\n",
              "      <td>{'id': 'between1And3', 'name': 'От 1 года до 3...</td>\n",
              "      <td>[{'name': 'Java'}, {'name': 'ООП'}, {'name': '...</td>\n",
              "      <td>Удмуртская Республика</td>\n",
              "      <td>Разработчик</td>\n",
              "      <td>IT-специалисты</td>\n",
              "    </tr>\n",
              "    <tr>\n",
              "      <th>10</th>\n",
              "      <td>10</td>\n",
              "      <td>70702916</td>\n",
              "      <td>False</td>\n",
              "      <td>Scala/Java-разработчик</td>\n",
              "      <td>{'id': '3529-3529-it', 'name': 'Сбер. IT'}</td>\n",
              "      <td>False</td>\n",
              "      <td>False</td>\n",
              "      <td>{'id': '66', 'name': 'Нижний Новгород', 'url':...</td>\n",
              "      <td>NaN</td>\n",
              "      <td>{'id': 'open', 'name': 'Открытая'}</td>\n",
              "      <td>...</td>\n",
              "      <td>{'id': 'fullDay', 'name': 'Полный день'}</td>\n",
              "      <td>[]</td>\n",
              "      <td>[]</td>\n",
              "      <td>[]</td>\n",
              "      <td>False</td>\n",
              "      <td>{'id': 'between3And6', 'name': 'От 3 до 6 лет'}</td>\n",
              "      <td>[]</td>\n",
              "      <td>Нижегородская область</td>\n",
              "      <td>Разработчик</td>\n",
              "      <td>IT-специалисты</td>\n",
              "    </tr>\n",
              "    <tr>\n",
              "      <th>17</th>\n",
              "      <td>17</td>\n",
              "      <td>71422513</td>\n",
              "      <td>False</td>\n",
              "      <td>Программист-математик</td>\n",
              "      <td>NaN</td>\n",
              "      <td>False</td>\n",
              "      <td>False</td>\n",
              "      <td>{'id': '77', 'name': 'Рязань', 'url': 'https:/...</td>\n",
              "      <td>{'from': 70000, 'to': None, 'currency': 'RUR',...</td>\n",
              "      <td>{'id': 'open', 'name': 'Открытая'}</td>\n",
              "      <td>...</td>\n",
              "      <td>{'id': 'fullDay', 'name': 'Полный день'}</td>\n",
              "      <td>[]</td>\n",
              "      <td>[]</td>\n",
              "      <td>[]</td>\n",
              "      <td>False</td>\n",
              "      <td>{'id': 'between1And3', 'name': 'От 1 года до 3...</td>\n",
              "      <td>[]</td>\n",
              "      <td>Рязанская область</td>\n",
              "      <td>Программист</td>\n",
              "      <td>IT-специалисты</td>\n",
              "    </tr>\n",
              "    <tr>\n",
              "      <th>...</th>\n",
              "      <td>...</td>\n",
              "      <td>...</td>\n",
              "      <td>...</td>\n",
              "      <td>...</td>\n",
              "      <td>...</td>\n",
              "      <td>...</td>\n",
              "      <td>...</td>\n",
              "      <td>...</td>\n",
              "      <td>...</td>\n",
              "      <td>...</td>\n",
              "      <td>...</td>\n",
              "      <td>...</td>\n",
              "      <td>...</td>\n",
              "      <td>...</td>\n",
              "      <td>...</td>\n",
              "      <td>...</td>\n",
              "      <td>...</td>\n",
              "      <td>...</td>\n",
              "      <td>...</td>\n",
              "      <td>...</td>\n",
              "      <td>...</td>\n",
              "    </tr>\n",
              "    <tr>\n",
              "      <th>53439</th>\n",
              "      <td>281</td>\n",
              "      <td>71735340</td>\n",
              "      <td>False</td>\n",
              "      <td>Битрикс-программист</td>\n",
              "      <td>NaN</td>\n",
              "      <td>False</td>\n",
              "      <td>False</td>\n",
              "      <td>{'id': '58', 'name': 'Липецк', 'url': 'https:/...</td>\n",
              "      <td>{'from': 70000, 'to': None, 'currency': 'RUR',...</td>\n",
              "      <td>{'id': 'open', 'name': 'Открытая'}</td>\n",
              "      <td>...</td>\n",
              "      <td>{'id': 'fullDay', 'name': 'Полный день'}</td>\n",
              "      <td>[]</td>\n",
              "      <td>[]</td>\n",
              "      <td>[]</td>\n",
              "      <td>False</td>\n",
              "      <td>{'id': 'between1And3', 'name': 'От 1 года до 3...</td>\n",
              "      <td>[{'name': 'PHP'}, {'name': '1С-Битрикс'}, {'na...</td>\n",
              "      <td>Липецкая область</td>\n",
              "      <td>Программист</td>\n",
              "      <td>IT-специалисты</td>\n",
              "    </tr>\n",
              "    <tr>\n",
              "      <th>53440</th>\n",
              "      <td>282</td>\n",
              "      <td>70576178</td>\n",
              "      <td>False</td>\n",
              "      <td>Программист 1C (IT компания)</td>\n",
              "      <td>NaN</td>\n",
              "      <td>False</td>\n",
              "      <td>False</td>\n",
              "      <td>{'id': '24', 'name': 'Волгоград', 'url': 'http...</td>\n",
              "      <td>NaN</td>\n",
              "      <td>{'id': 'open', 'name': 'Открытая'}</td>\n",
              "      <td>...</td>\n",
              "      <td>{'id': 'fullDay', 'name': 'Полный день'}</td>\n",
              "      <td>[]</td>\n",
              "      <td>[]</td>\n",
              "      <td>[]</td>\n",
              "      <td>False</td>\n",
              "      <td>{'id': 'between1And3', 'name': 'От 1 года до 3...</td>\n",
              "      <td>[{'name': '1С программирование'}, {'name': '1С...</td>\n",
              "      <td>Волгоградская область</td>\n",
              "      <td>Программист</td>\n",
              "      <td>IT-специалисты</td>\n",
              "    </tr>\n",
              "    <tr>\n",
              "      <th>53443</th>\n",
              "      <td>285</td>\n",
              "      <td>71320484</td>\n",
              "      <td>False</td>\n",
              "      <td>Middle Golang-разработчик</td>\n",
              "      <td>NaN</td>\n",
              "      <td>False</td>\n",
              "      <td>False</td>\n",
              "      <td>{'id': '76', 'name': 'Ростов-на-Дону', 'url': ...</td>\n",
              "      <td>{'from': 150000, 'to': 200000, 'currency': 'RU...</td>\n",
              "      <td>{'id': 'open', 'name': 'Открытая'}</td>\n",
              "      <td>...</td>\n",
              "      <td>{'id': 'remote', 'name': 'Удаленная работа'}</td>\n",
              "      <td>[]</td>\n",
              "      <td>[]</td>\n",
              "      <td>[]</td>\n",
              "      <td>False</td>\n",
              "      <td>{'id': 'between1And3', 'name': 'От 1 года до 3...</td>\n",
              "      <td>[{'name': 'Golang'}, {'name': 'Go'}, {'name': ...</td>\n",
              "      <td>Ростовская область</td>\n",
              "      <td>Разработчик</td>\n",
              "      <td>IT-специалисты</td>\n",
              "    </tr>\n",
              "    <tr>\n",
              "      <th>53444</th>\n",
              "      <td>286</td>\n",
              "      <td>69753095</td>\n",
              "      <td>False</td>\n",
              "      <td>Java-разработчик в OPS platform</td>\n",
              "      <td>NaN</td>\n",
              "      <td>False</td>\n",
              "      <td>False</td>\n",
              "      <td>{'id': '76', 'name': 'Ростов-на-Дону', 'url': ...</td>\n",
              "      <td>NaN</td>\n",
              "      <td>{'id': 'open', 'name': 'Открытая'}</td>\n",
              "      <td>...</td>\n",
              "      <td>{'id': 'fullDay', 'name': 'Полный день'}</td>\n",
              "      <td>[]</td>\n",
              "      <td>[]</td>\n",
              "      <td>[]</td>\n",
              "      <td>False</td>\n",
              "      <td>{'id': 'between3And6', 'name': 'От 3 до 6 лет'}</td>\n",
              "      <td>[{'name': 'Java'}, {'name': 'Spring Framework'...</td>\n",
              "      <td>Ростовская область</td>\n",
              "      <td>Разработчик</td>\n",
              "      <td>IT-специалисты</td>\n",
              "    </tr>\n",
              "    <tr>\n",
              "      <th>53446</th>\n",
              "      <td>288</td>\n",
              "      <td>70512354</td>\n",
              "      <td>False</td>\n",
              "      <td>QA Engineer (Vostok team)</td>\n",
              "      <td>NaN</td>\n",
              "      <td>False</td>\n",
              "      <td>False</td>\n",
              "      <td>{'id': '76', 'name': 'Ростов-на-Дону', 'url': ...</td>\n",
              "      <td>NaN</td>\n",
              "      <td>{'id': 'open', 'name': 'Открытая'}</td>\n",
              "      <td>...</td>\n",
              "      <td>{'id': 'fullDay', 'name': 'Полный день'}</td>\n",
              "      <td>[]</td>\n",
              "      <td>[]</td>\n",
              "      <td>[]</td>\n",
              "      <td>False</td>\n",
              "      <td>{'id': 'noExperience', 'name': 'Нет опыта'}</td>\n",
              "      <td>[{'name': 'Git'}, {'name': 'Bash'}, {'name': '...</td>\n",
              "      <td>Ростовская область</td>\n",
              "      <td>Тестировщик</td>\n",
              "      <td>IT-специалисты</td>\n",
              "    </tr>\n",
              "  </tbody>\n",
              "</table>\n",
              "<p>25883 rows × 35 columns</p>\n",
              "</div>\n",
              "      <button class=\"colab-df-convert\" onclick=\"convertToInteractive('df-d67bcfff-0cfa-409b-af80-41f7bed31c5a')\"\n",
              "              title=\"Convert this dataframe to an interactive table.\"\n",
              "              style=\"display:none;\">\n",
              "        \n",
              "  <svg xmlns=\"http://www.w3.org/2000/svg\" height=\"24px\"viewBox=\"0 0 24 24\"\n",
              "       width=\"24px\">\n",
              "    <path d=\"M0 0h24v24H0V0z\" fill=\"none\"/>\n",
              "    <path d=\"M18.56 5.44l.94 2.06.94-2.06 2.06-.94-2.06-.94-.94-2.06-.94 2.06-2.06.94zm-11 1L8.5 8.5l.94-2.06 2.06-.94-2.06-.94L8.5 2.5l-.94 2.06-2.06.94zm10 10l.94 2.06.94-2.06 2.06-.94-2.06-.94-.94-2.06-.94 2.06-2.06.94z\"/><path d=\"M17.41 7.96l-1.37-1.37c-.4-.4-.92-.59-1.43-.59-.52 0-1.04.2-1.43.59L10.3 9.45l-7.72 7.72c-.78.78-.78 2.05 0 2.83L4 21.41c.39.39.9.59 1.41.59.51 0 1.02-.2 1.41-.59l7.78-7.78 2.81-2.81c.8-.78.8-2.07 0-2.86zM5.41 20L4 18.59l7.72-7.72 1.47 1.35L5.41 20z\"/>\n",
              "  </svg>\n",
              "      </button>\n",
              "      \n",
              "  <style>\n",
              "    .colab-df-container {\n",
              "      display:flex;\n",
              "      flex-wrap:wrap;\n",
              "      gap: 12px;\n",
              "    }\n",
              "\n",
              "    .colab-df-convert {\n",
              "      background-color: #E8F0FE;\n",
              "      border: none;\n",
              "      border-radius: 50%;\n",
              "      cursor: pointer;\n",
              "      display: none;\n",
              "      fill: #1967D2;\n",
              "      height: 32px;\n",
              "      padding: 0 0 0 0;\n",
              "      width: 32px;\n",
              "    }\n",
              "\n",
              "    .colab-df-convert:hover {\n",
              "      background-color: #E2EBFA;\n",
              "      box-shadow: 0px 1px 2px rgba(60, 64, 67, 0.3), 0px 1px 3px 1px rgba(60, 64, 67, 0.15);\n",
              "      fill: #174EA6;\n",
              "    }\n",
              "\n",
              "    [theme=dark] .colab-df-convert {\n",
              "      background-color: #3B4455;\n",
              "      fill: #D2E3FC;\n",
              "    }\n",
              "\n",
              "    [theme=dark] .colab-df-convert:hover {\n",
              "      background-color: #434B5C;\n",
              "      box-shadow: 0px 1px 3px 1px rgba(0, 0, 0, 0.15);\n",
              "      filter: drop-shadow(0px 1px 2px rgba(0, 0, 0, 0.3));\n",
              "      fill: #FFFFFF;\n",
              "    }\n",
              "  </style>\n",
              "\n",
              "      <script>\n",
              "        const buttonEl =\n",
              "          document.querySelector('#df-d67bcfff-0cfa-409b-af80-41f7bed31c5a button.colab-df-convert');\n",
              "        buttonEl.style.display =\n",
              "          google.colab.kernel.accessAllowed ? 'block' : 'none';\n",
              "\n",
              "        async function convertToInteractive(key) {\n",
              "          const element = document.querySelector('#df-d67bcfff-0cfa-409b-af80-41f7bed31c5a');\n",
              "          const dataTable =\n",
              "            await google.colab.kernel.invokeFunction('convertToInteractive',\n",
              "                                                     [key], {});\n",
              "          if (!dataTable) return;\n",
              "\n",
              "          const docLinkHtml = 'Like what you see? Visit the ' +\n",
              "            '<a target=\"_blank\" href=https://colab.research.google.com/notebooks/data_table.ipynb>data table notebook</a>'\n",
              "            + ' to learn more about interactive tables.';\n",
              "          element.innerHTML = '';\n",
              "          dataTable['output_type'] = 'display_data';\n",
              "          await google.colab.output.renderOutput(dataTable, element);\n",
              "          const docLink = document.createElement('div');\n",
              "          docLink.innerHTML = docLinkHtml;\n",
              "          element.appendChild(docLink);\n",
              "        }\n",
              "      </script>\n",
              "    </div>\n",
              "  </div>\n",
              "  "
            ]
          },
          "metadata": {},
          "execution_count": 20
        }
      ]
    },
    {
      "cell_type": "markdown",
      "source": [
        "# Преобразуем навыки"
      ],
      "metadata": {
        "id": "RCXDurDObPSu"
      }
    },
    {
      "cell_type": "code",
      "source": [
        "import json\n",
        "def text_to_json(text):\n",
        "  try:\n",
        "    return json.loads(text.replace('\"', '').replace(\"'\", '\"'))\n",
        "  except:\n",
        "    return []\n",
        "marketjob_IT['key_skills_json'] = marketjob_IT['key_skills'].apply(text_to_json)\n",
        "\n",
        "# возвращаем пустой список в случае каких-либо проблем\n",
        "def get_values(json):\n",
        "  try:\n",
        "    out = []\n",
        "    if len(json)>0:\n",
        "      for i in json:\n",
        "        out.append(i['name'])\n",
        "    return out\n",
        "  except:\n",
        "    return []\n",
        "marketjob_IT['key_skills_list'] = marketjob_IT['key_skills_json'].apply(get_values)"
      ],
      "metadata": {
        "colab": {
          "base_uri": "https://localhost:8080/"
        },
        "id": "DNO5TIgEbVMr",
        "outputId": "34168f00-93fc-4ab4-903c-ede468834224"
      },
      "execution_count": 21,
      "outputs": [
        {
          "output_type": "stream",
          "name": "stderr",
          "text": [
            "<ipython-input-21-6b52cb144001>:7: SettingWithCopyWarning: \n",
            "A value is trying to be set on a copy of a slice from a DataFrame.\n",
            "Try using .loc[row_indexer,col_indexer] = value instead\n",
            "\n",
            "See the caveats in the documentation: https://pandas.pydata.org/pandas-docs/stable/user_guide/indexing.html#returning-a-view-versus-a-copy\n",
            "  marketjob_IT['key_skills_json'] = marketjob_IT['key_skills'].apply(text_to_json)\n",
            "<ipython-input-21-6b52cb144001>:19: SettingWithCopyWarning: \n",
            "A value is trying to be set on a copy of a slice from a DataFrame.\n",
            "Try using .loc[row_indexer,col_indexer] = value instead\n",
            "\n",
            "See the caveats in the documentation: https://pandas.pydata.org/pandas-docs/stable/user_guide/indexing.html#returning-a-view-versus-a-copy\n",
            "  marketjob_IT['key_skills_list'] = marketjob_IT['key_skills_json'].apply(get_values)\n"
          ]
        }
      ]
    },
    {
      "cell_type": "code",
      "source": [
        "marketjob_IT['key_skills_list']"
      ],
      "metadata": {
        "colab": {
          "base_uri": "https://localhost:8080/"
        },
        "id": "MoxuGXXNcvl9",
        "outputId": "3b5c54e3-86a7-4137-b9ba-ac1237c0ad94"
      },
      "execution_count": 22,
      "outputs": [
        {
          "output_type": "execute_result",
          "data": {
            "text/plain": [
              "3        [Многозадачность, Юрист, Знание законодательст...\n",
              "6        [SQL, Tableau, PowerBI, Аналитика, Data Analys...\n",
              "8         [Java, ООП, ORACLE, Kafka, SCALA, Hadoop, Spark]\n",
              "10                                                      []\n",
              "17                                                      []\n",
              "                               ...                        \n",
              "53439             [PHP, 1С-Битрикс, JavaScript, HTML, CSS]\n",
              "53440    [1С программирование, 1С: Зарплата и управлени...\n",
              "53443                       [Golang, Go, PostgreSQL, gRPC]\n",
              "53444    [Java, Spring Framework, Hibernate ORM, SQL, G...\n",
              "53446    [Git, Bash, Английский язык, QA, Linux, SQL, J...\n",
              "Name: key_skills_list, Length: 25883, dtype: object"
            ]
          },
          "metadata": {},
          "execution_count": 22
        }
      ]
    },
    {
      "cell_type": "code",
      "source": [
        "# разобъем списки в столбце скиллов\n",
        "marketjob_IT_skills = marketjob_IT.explode('key_skills_list'). reset_index(drop= True )\n",
        "marketjob_IT_skills"
      ],
      "metadata": {
        "colab": {
          "base_uri": "https://localhost:8080/",
          "height": 1000
        },
        "id": "sDpUDphpc0Zm",
        "outputId": "7d92e6ac-cce5-4fd1-a871-b1b189c84d4c"
      },
      "execution_count": 23,
      "outputs": [
        {
          "output_type": "execute_result",
          "data": {
            "text/plain": [
              "        Unnamed: 0        id  premium  \\\n",
              "0                3  69837495    False   \n",
              "1                3  69837495    False   \n",
              "2                3  69837495    False   \n",
              "3                3  69837495    False   \n",
              "4                3  69837495    False   \n",
              "...            ...       ...      ...   \n",
              "152858         288  70512354    False   \n",
              "152859         288  70512354    False   \n",
              "152860         288  70512354    False   \n",
              "152861         288  70512354    False   \n",
              "152862         288  70512354    False   \n",
              "\n",
              "                                                   name department  has_test  \\\n",
              "0       Ведущий юрисконсульт (отдел правовой аналитики)        NaN     False   \n",
              "1       Ведущий юрисконсульт (отдел правовой аналитики)        NaN     False   \n",
              "2       Ведущий юрисконсульт (отдел правовой аналитики)        NaN     False   \n",
              "3       Ведущий юрисконсульт (отдел правовой аналитики)        NaN     False   \n",
              "4       Ведущий юрисконсульт (отдел правовой аналитики)        NaN     False   \n",
              "...                                                 ...        ...       ...   \n",
              "152858                        QA Engineer (Vostok team)        NaN     False   \n",
              "152859                        QA Engineer (Vostok team)        NaN     False   \n",
              "152860                        QA Engineer (Vostok team)        NaN     False   \n",
              "152861                        QA Engineer (Vostok team)        NaN     False   \n",
              "152862                        QA Engineer (Vostok team)        NaN     False   \n",
              "\n",
              "        response_letter_required  \\\n",
              "0                          False   \n",
              "1                          False   \n",
              "2                          False   \n",
              "3                          False   \n",
              "4                          False   \n",
              "...                          ...   \n",
              "152858                     False   \n",
              "152859                     False   \n",
              "152860                     False   \n",
              "152861                     False   \n",
              "152862                     False   \n",
              "\n",
              "                                                     area  \\\n",
              "0       {'id': '88', 'name': 'Казань', 'url': 'https:/...   \n",
              "1       {'id': '88', 'name': 'Казань', 'url': 'https:/...   \n",
              "2       {'id': '88', 'name': 'Казань', 'url': 'https:/...   \n",
              "3       {'id': '88', 'name': 'Казань', 'url': 'https:/...   \n",
              "4       {'id': '88', 'name': 'Казань', 'url': 'https:/...   \n",
              "...                                                   ...   \n",
              "152858  {'id': '76', 'name': 'Ростов-на-Дону', 'url': ...   \n",
              "152859  {'id': '76', 'name': 'Ростов-на-Дону', 'url': ...   \n",
              "152860  {'id': '76', 'name': 'Ростов-на-Дону', 'url': ...   \n",
              "152861  {'id': '76', 'name': 'Ростов-на-Дону', 'url': ...   \n",
              "152862  {'id': '76', 'name': 'Ростов-на-Дону', 'url': ...   \n",
              "\n",
              "                                                   salary  \\\n",
              "0       {'from': 55000, 'to': None, 'currency': 'RUR',...   \n",
              "1       {'from': 55000, 'to': None, 'currency': 'RUR',...   \n",
              "2       {'from': 55000, 'to': None, 'currency': 'RUR',...   \n",
              "3       {'from': 55000, 'to': None, 'currency': 'RUR',...   \n",
              "4       {'from': 55000, 'to': None, 'currency': 'RUR',...   \n",
              "...                                                   ...   \n",
              "152858                                                NaN   \n",
              "152859                                                NaN   \n",
              "152860                                                NaN   \n",
              "152861                                                NaN   \n",
              "152862                                                NaN   \n",
              "\n",
              "                                      type  ... working_time_intervals  \\\n",
              "0       {'id': 'open', 'name': 'Открытая'}  ...                     []   \n",
              "1       {'id': 'open', 'name': 'Открытая'}  ...                     []   \n",
              "2       {'id': 'open', 'name': 'Открытая'}  ...                     []   \n",
              "3       {'id': 'open', 'name': 'Открытая'}  ...                     []   \n",
              "4       {'id': 'open', 'name': 'Открытая'}  ...                     []   \n",
              "...                                    ...  ...                    ...   \n",
              "152858  {'id': 'open', 'name': 'Открытая'}  ...                     []   \n",
              "152859  {'id': 'open', 'name': 'Открытая'}  ...                     []   \n",
              "152860  {'id': 'open', 'name': 'Открытая'}  ...                     []   \n",
              "152861  {'id': 'open', 'name': 'Открытая'}  ...                     []   \n",
              "152862  {'id': 'open', 'name': 'Открытая'}  ...                     []   \n",
              "\n",
              "       working_time_modes  accept_temporary  \\\n",
              "0                      []             False   \n",
              "1                      []             False   \n",
              "2                      []             False   \n",
              "3                      []             False   \n",
              "4                      []             False   \n",
              "...                   ...               ...   \n",
              "152858                 []             False   \n",
              "152859                 []             False   \n",
              "152860                 []             False   \n",
              "152861                 []             False   \n",
              "152862                 []             False   \n",
              "\n",
              "                                             experience  \\\n",
              "0       {'id': 'between3And6', 'name': 'От 3 до 6 лет'}   \n",
              "1       {'id': 'between3And6', 'name': 'От 3 до 6 лет'}   \n",
              "2       {'id': 'between3And6', 'name': 'От 3 до 6 лет'}   \n",
              "3       {'id': 'between3And6', 'name': 'От 3 до 6 лет'}   \n",
              "4       {'id': 'between3And6', 'name': 'От 3 до 6 лет'}   \n",
              "...                                                 ...   \n",
              "152858      {'id': 'noExperience', 'name': 'Нет опыта'}   \n",
              "152859      {'id': 'noExperience', 'name': 'Нет опыта'}   \n",
              "152860      {'id': 'noExperience', 'name': 'Нет опыта'}   \n",
              "152861      {'id': 'noExperience', 'name': 'Нет опыта'}   \n",
              "152862      {'id': 'noExperience', 'name': 'Нет опыта'}   \n",
              "\n",
              "                                               key_skills  \\\n",
              "0       [{'name': 'Многозадачность'}, {'name': 'Юрист'...   \n",
              "1       [{'name': 'Многозадачность'}, {'name': 'Юрист'...   \n",
              "2       [{'name': 'Многозадачность'}, {'name': 'Юрист'...   \n",
              "3       [{'name': 'Многозадачность'}, {'name': 'Юрист'...   \n",
              "4       [{'name': 'Многозадачность'}, {'name': 'Юрист'...   \n",
              "...                                                   ...   \n",
              "152858  [{'name': 'Git'}, {'name': 'Bash'}, {'name': '...   \n",
              "152859  [{'name': 'Git'}, {'name': 'Bash'}, {'name': '...   \n",
              "152860  [{'name': 'Git'}, {'name': 'Bash'}, {'name': '...   \n",
              "152861  [{'name': 'Git'}, {'name': 'Bash'}, {'name': '...   \n",
              "152862  [{'name': 'Git'}, {'name': 'Bash'}, {'name': '...   \n",
              "\n",
              "                      region      Vacancy        name_job  \\\n",
              "0       Республика Татарстан     Аналитик  IT-специалисты   \n",
              "1       Республика Татарстан     Аналитик  IT-специалисты   \n",
              "2       Республика Татарстан     Аналитик  IT-специалисты   \n",
              "3       Республика Татарстан     Аналитик  IT-специалисты   \n",
              "4       Республика Татарстан     Аналитик  IT-специалисты   \n",
              "...                      ...          ...             ...   \n",
              "152858    Ростовская область  Тестировщик  IT-специалисты   \n",
              "152859    Ростовская область  Тестировщик  IT-специалисты   \n",
              "152860    Ростовская область  Тестировщик  IT-специалисты   \n",
              "152861    Ростовская область  Тестировщик  IT-специалисты   \n",
              "152862    Ростовская область  Тестировщик  IT-специалисты   \n",
              "\n",
              "                                          key_skills_json  \\\n",
              "0       [{'name': 'Многозадачность'}, {'name': 'Юрист'...   \n",
              "1       [{'name': 'Многозадачность'}, {'name': 'Юрист'...   \n",
              "2       [{'name': 'Многозадачность'}, {'name': 'Юрист'...   \n",
              "3       [{'name': 'Многозадачность'}, {'name': 'Юрист'...   \n",
              "4       [{'name': 'Многозадачность'}, {'name': 'Юрист'...   \n",
              "...                                                   ...   \n",
              "152858  [{'name': 'Git'}, {'name': 'Bash'}, {'name': '...   \n",
              "152859  [{'name': 'Git'}, {'name': 'Bash'}, {'name': '...   \n",
              "152860  [{'name': 'Git'}, {'name': 'Bash'}, {'name': '...   \n",
              "152861  [{'name': 'Git'}, {'name': 'Bash'}, {'name': '...   \n",
              "152862  [{'name': 'Git'}, {'name': 'Bash'}, {'name': '...   \n",
              "\n",
              "                   key_skills_list  \n",
              "0                  Многозадачность  \n",
              "1                            Юрист  \n",
              "2       Знание законодательства РФ  \n",
              "3         судебные разбирательства  \n",
              "4                 Проектная работа  \n",
              "...                            ...  \n",
              "152858                          QA  \n",
              "152859                       Linux  \n",
              "152860                         SQL  \n",
              "152861                        Jira  \n",
              "152862                     English  \n",
              "\n",
              "[152863 rows x 37 columns]"
            ],
            "text/html": [
              "\n",
              "  <div id=\"df-8b0740fa-a9c7-46d5-abae-29b0daec3149\">\n",
              "    <div class=\"colab-df-container\">\n",
              "      <div>\n",
              "<style scoped>\n",
              "    .dataframe tbody tr th:only-of-type {\n",
              "        vertical-align: middle;\n",
              "    }\n",
              "\n",
              "    .dataframe tbody tr th {\n",
              "        vertical-align: top;\n",
              "    }\n",
              "\n",
              "    .dataframe thead th {\n",
              "        text-align: right;\n",
              "    }\n",
              "</style>\n",
              "<table border=\"1\" class=\"dataframe\">\n",
              "  <thead>\n",
              "    <tr style=\"text-align: right;\">\n",
              "      <th></th>\n",
              "      <th>Unnamed: 0</th>\n",
              "      <th>id</th>\n",
              "      <th>premium</th>\n",
              "      <th>name</th>\n",
              "      <th>department</th>\n",
              "      <th>has_test</th>\n",
              "      <th>response_letter_required</th>\n",
              "      <th>area</th>\n",
              "      <th>salary</th>\n",
              "      <th>type</th>\n",
              "      <th>...</th>\n",
              "      <th>working_time_intervals</th>\n",
              "      <th>working_time_modes</th>\n",
              "      <th>accept_temporary</th>\n",
              "      <th>experience</th>\n",
              "      <th>key_skills</th>\n",
              "      <th>region</th>\n",
              "      <th>Vacancy</th>\n",
              "      <th>name_job</th>\n",
              "      <th>key_skills_json</th>\n",
              "      <th>key_skills_list</th>\n",
              "    </tr>\n",
              "  </thead>\n",
              "  <tbody>\n",
              "    <tr>\n",
              "      <th>0</th>\n",
              "      <td>3</td>\n",
              "      <td>69837495</td>\n",
              "      <td>False</td>\n",
              "      <td>Ведущий юрисконсульт (отдел правовой аналитики)</td>\n",
              "      <td>NaN</td>\n",
              "      <td>False</td>\n",
              "      <td>False</td>\n",
              "      <td>{'id': '88', 'name': 'Казань', 'url': 'https:/...</td>\n",
              "      <td>{'from': 55000, 'to': None, 'currency': 'RUR',...</td>\n",
              "      <td>{'id': 'open', 'name': 'Открытая'}</td>\n",
              "      <td>...</td>\n",
              "      <td>[]</td>\n",
              "      <td>[]</td>\n",
              "      <td>False</td>\n",
              "      <td>{'id': 'between3And6', 'name': 'От 3 до 6 лет'}</td>\n",
              "      <td>[{'name': 'Многозадачность'}, {'name': 'Юрист'...</td>\n",
              "      <td>Республика Татарстан</td>\n",
              "      <td>Аналитик</td>\n",
              "      <td>IT-специалисты</td>\n",
              "      <td>[{'name': 'Многозадачность'}, {'name': 'Юрист'...</td>\n",
              "      <td>Многозадачность</td>\n",
              "    </tr>\n",
              "    <tr>\n",
              "      <th>1</th>\n",
              "      <td>3</td>\n",
              "      <td>69837495</td>\n",
              "      <td>False</td>\n",
              "      <td>Ведущий юрисконсульт (отдел правовой аналитики)</td>\n",
              "      <td>NaN</td>\n",
              "      <td>False</td>\n",
              "      <td>False</td>\n",
              "      <td>{'id': '88', 'name': 'Казань', 'url': 'https:/...</td>\n",
              "      <td>{'from': 55000, 'to': None, 'currency': 'RUR',...</td>\n",
              "      <td>{'id': 'open', 'name': 'Открытая'}</td>\n",
              "      <td>...</td>\n",
              "      <td>[]</td>\n",
              "      <td>[]</td>\n",
              "      <td>False</td>\n",
              "      <td>{'id': 'between3And6', 'name': 'От 3 до 6 лет'}</td>\n",
              "      <td>[{'name': 'Многозадачность'}, {'name': 'Юрист'...</td>\n",
              "      <td>Республика Татарстан</td>\n",
              "      <td>Аналитик</td>\n",
              "      <td>IT-специалисты</td>\n",
              "      <td>[{'name': 'Многозадачность'}, {'name': 'Юрист'...</td>\n",
              "      <td>Юрист</td>\n",
              "    </tr>\n",
              "    <tr>\n",
              "      <th>2</th>\n",
              "      <td>3</td>\n",
              "      <td>69837495</td>\n",
              "      <td>False</td>\n",
              "      <td>Ведущий юрисконсульт (отдел правовой аналитики)</td>\n",
              "      <td>NaN</td>\n",
              "      <td>False</td>\n",
              "      <td>False</td>\n",
              "      <td>{'id': '88', 'name': 'Казань', 'url': 'https:/...</td>\n",
              "      <td>{'from': 55000, 'to': None, 'currency': 'RUR',...</td>\n",
              "      <td>{'id': 'open', 'name': 'Открытая'}</td>\n",
              "      <td>...</td>\n",
              "      <td>[]</td>\n",
              "      <td>[]</td>\n",
              "      <td>False</td>\n",
              "      <td>{'id': 'between3And6', 'name': 'От 3 до 6 лет'}</td>\n",
              "      <td>[{'name': 'Многозадачность'}, {'name': 'Юрист'...</td>\n",
              "      <td>Республика Татарстан</td>\n",
              "      <td>Аналитик</td>\n",
              "      <td>IT-специалисты</td>\n",
              "      <td>[{'name': 'Многозадачность'}, {'name': 'Юрист'...</td>\n",
              "      <td>Знание законодательства РФ</td>\n",
              "    </tr>\n",
              "    <tr>\n",
              "      <th>3</th>\n",
              "      <td>3</td>\n",
              "      <td>69837495</td>\n",
              "      <td>False</td>\n",
              "      <td>Ведущий юрисконсульт (отдел правовой аналитики)</td>\n",
              "      <td>NaN</td>\n",
              "      <td>False</td>\n",
              "      <td>False</td>\n",
              "      <td>{'id': '88', 'name': 'Казань', 'url': 'https:/...</td>\n",
              "      <td>{'from': 55000, 'to': None, 'currency': 'RUR',...</td>\n",
              "      <td>{'id': 'open', 'name': 'Открытая'}</td>\n",
              "      <td>...</td>\n",
              "      <td>[]</td>\n",
              "      <td>[]</td>\n",
              "      <td>False</td>\n",
              "      <td>{'id': 'between3And6', 'name': 'От 3 до 6 лет'}</td>\n",
              "      <td>[{'name': 'Многозадачность'}, {'name': 'Юрист'...</td>\n",
              "      <td>Республика Татарстан</td>\n",
              "      <td>Аналитик</td>\n",
              "      <td>IT-специалисты</td>\n",
              "      <td>[{'name': 'Многозадачность'}, {'name': 'Юрист'...</td>\n",
              "      <td>судебные разбирательства</td>\n",
              "    </tr>\n",
              "    <tr>\n",
              "      <th>4</th>\n",
              "      <td>3</td>\n",
              "      <td>69837495</td>\n",
              "      <td>False</td>\n",
              "      <td>Ведущий юрисконсульт (отдел правовой аналитики)</td>\n",
              "      <td>NaN</td>\n",
              "      <td>False</td>\n",
              "      <td>False</td>\n",
              "      <td>{'id': '88', 'name': 'Казань', 'url': 'https:/...</td>\n",
              "      <td>{'from': 55000, 'to': None, 'currency': 'RUR',...</td>\n",
              "      <td>{'id': 'open', 'name': 'Открытая'}</td>\n",
              "      <td>...</td>\n",
              "      <td>[]</td>\n",
              "      <td>[]</td>\n",
              "      <td>False</td>\n",
              "      <td>{'id': 'between3And6', 'name': 'От 3 до 6 лет'}</td>\n",
              "      <td>[{'name': 'Многозадачность'}, {'name': 'Юрист'...</td>\n",
              "      <td>Республика Татарстан</td>\n",
              "      <td>Аналитик</td>\n",
              "      <td>IT-специалисты</td>\n",
              "      <td>[{'name': 'Многозадачность'}, {'name': 'Юрист'...</td>\n",
              "      <td>Проектная работа</td>\n",
              "    </tr>\n",
              "    <tr>\n",
              "      <th>...</th>\n",
              "      <td>...</td>\n",
              "      <td>...</td>\n",
              "      <td>...</td>\n",
              "      <td>...</td>\n",
              "      <td>...</td>\n",
              "      <td>...</td>\n",
              "      <td>...</td>\n",
              "      <td>...</td>\n",
              "      <td>...</td>\n",
              "      <td>...</td>\n",
              "      <td>...</td>\n",
              "      <td>...</td>\n",
              "      <td>...</td>\n",
              "      <td>...</td>\n",
              "      <td>...</td>\n",
              "      <td>...</td>\n",
              "      <td>...</td>\n",
              "      <td>...</td>\n",
              "      <td>...</td>\n",
              "      <td>...</td>\n",
              "      <td>...</td>\n",
              "    </tr>\n",
              "    <tr>\n",
              "      <th>152858</th>\n",
              "      <td>288</td>\n",
              "      <td>70512354</td>\n",
              "      <td>False</td>\n",
              "      <td>QA Engineer (Vostok team)</td>\n",
              "      <td>NaN</td>\n",
              "      <td>False</td>\n",
              "      <td>False</td>\n",
              "      <td>{'id': '76', 'name': 'Ростов-на-Дону', 'url': ...</td>\n",
              "      <td>NaN</td>\n",
              "      <td>{'id': 'open', 'name': 'Открытая'}</td>\n",
              "      <td>...</td>\n",
              "      <td>[]</td>\n",
              "      <td>[]</td>\n",
              "      <td>False</td>\n",
              "      <td>{'id': 'noExperience', 'name': 'Нет опыта'}</td>\n",
              "      <td>[{'name': 'Git'}, {'name': 'Bash'}, {'name': '...</td>\n",
              "      <td>Ростовская область</td>\n",
              "      <td>Тестировщик</td>\n",
              "      <td>IT-специалисты</td>\n",
              "      <td>[{'name': 'Git'}, {'name': 'Bash'}, {'name': '...</td>\n",
              "      <td>QA</td>\n",
              "    </tr>\n",
              "    <tr>\n",
              "      <th>152859</th>\n",
              "      <td>288</td>\n",
              "      <td>70512354</td>\n",
              "      <td>False</td>\n",
              "      <td>QA Engineer (Vostok team)</td>\n",
              "      <td>NaN</td>\n",
              "      <td>False</td>\n",
              "      <td>False</td>\n",
              "      <td>{'id': '76', 'name': 'Ростов-на-Дону', 'url': ...</td>\n",
              "      <td>NaN</td>\n",
              "      <td>{'id': 'open', 'name': 'Открытая'}</td>\n",
              "      <td>...</td>\n",
              "      <td>[]</td>\n",
              "      <td>[]</td>\n",
              "      <td>False</td>\n",
              "      <td>{'id': 'noExperience', 'name': 'Нет опыта'}</td>\n",
              "      <td>[{'name': 'Git'}, {'name': 'Bash'}, {'name': '...</td>\n",
              "      <td>Ростовская область</td>\n",
              "      <td>Тестировщик</td>\n",
              "      <td>IT-специалисты</td>\n",
              "      <td>[{'name': 'Git'}, {'name': 'Bash'}, {'name': '...</td>\n",
              "      <td>Linux</td>\n",
              "    </tr>\n",
              "    <tr>\n",
              "      <th>152860</th>\n",
              "      <td>288</td>\n",
              "      <td>70512354</td>\n",
              "      <td>False</td>\n",
              "      <td>QA Engineer (Vostok team)</td>\n",
              "      <td>NaN</td>\n",
              "      <td>False</td>\n",
              "      <td>False</td>\n",
              "      <td>{'id': '76', 'name': 'Ростов-на-Дону', 'url': ...</td>\n",
              "      <td>NaN</td>\n",
              "      <td>{'id': 'open', 'name': 'Открытая'}</td>\n",
              "      <td>...</td>\n",
              "      <td>[]</td>\n",
              "      <td>[]</td>\n",
              "      <td>False</td>\n",
              "      <td>{'id': 'noExperience', 'name': 'Нет опыта'}</td>\n",
              "      <td>[{'name': 'Git'}, {'name': 'Bash'}, {'name': '...</td>\n",
              "      <td>Ростовская область</td>\n",
              "      <td>Тестировщик</td>\n",
              "      <td>IT-специалисты</td>\n",
              "      <td>[{'name': 'Git'}, {'name': 'Bash'}, {'name': '...</td>\n",
              "      <td>SQL</td>\n",
              "    </tr>\n",
              "    <tr>\n",
              "      <th>152861</th>\n",
              "      <td>288</td>\n",
              "      <td>70512354</td>\n",
              "      <td>False</td>\n",
              "      <td>QA Engineer (Vostok team)</td>\n",
              "      <td>NaN</td>\n",
              "      <td>False</td>\n",
              "      <td>False</td>\n",
              "      <td>{'id': '76', 'name': 'Ростов-на-Дону', 'url': ...</td>\n",
              "      <td>NaN</td>\n",
              "      <td>{'id': 'open', 'name': 'Открытая'}</td>\n",
              "      <td>...</td>\n",
              "      <td>[]</td>\n",
              "      <td>[]</td>\n",
              "      <td>False</td>\n",
              "      <td>{'id': 'noExperience', 'name': 'Нет опыта'}</td>\n",
              "      <td>[{'name': 'Git'}, {'name': 'Bash'}, {'name': '...</td>\n",
              "      <td>Ростовская область</td>\n",
              "      <td>Тестировщик</td>\n",
              "      <td>IT-специалисты</td>\n",
              "      <td>[{'name': 'Git'}, {'name': 'Bash'}, {'name': '...</td>\n",
              "      <td>Jira</td>\n",
              "    </tr>\n",
              "    <tr>\n",
              "      <th>152862</th>\n",
              "      <td>288</td>\n",
              "      <td>70512354</td>\n",
              "      <td>False</td>\n",
              "      <td>QA Engineer (Vostok team)</td>\n",
              "      <td>NaN</td>\n",
              "      <td>False</td>\n",
              "      <td>False</td>\n",
              "      <td>{'id': '76', 'name': 'Ростов-на-Дону', 'url': ...</td>\n",
              "      <td>NaN</td>\n",
              "      <td>{'id': 'open', 'name': 'Открытая'}</td>\n",
              "      <td>...</td>\n",
              "      <td>[]</td>\n",
              "      <td>[]</td>\n",
              "      <td>False</td>\n",
              "      <td>{'id': 'noExperience', 'name': 'Нет опыта'}</td>\n",
              "      <td>[{'name': 'Git'}, {'name': 'Bash'}, {'name': '...</td>\n",
              "      <td>Ростовская область</td>\n",
              "      <td>Тестировщик</td>\n",
              "      <td>IT-специалисты</td>\n",
              "      <td>[{'name': 'Git'}, {'name': 'Bash'}, {'name': '...</td>\n",
              "      <td>English</td>\n",
              "    </tr>\n",
              "  </tbody>\n",
              "</table>\n",
              "<p>152863 rows × 37 columns</p>\n",
              "</div>\n",
              "      <button class=\"colab-df-convert\" onclick=\"convertToInteractive('df-8b0740fa-a9c7-46d5-abae-29b0daec3149')\"\n",
              "              title=\"Convert this dataframe to an interactive table.\"\n",
              "              style=\"display:none;\">\n",
              "        \n",
              "  <svg xmlns=\"http://www.w3.org/2000/svg\" height=\"24px\"viewBox=\"0 0 24 24\"\n",
              "       width=\"24px\">\n",
              "    <path d=\"M0 0h24v24H0V0z\" fill=\"none\"/>\n",
              "    <path d=\"M18.56 5.44l.94 2.06.94-2.06 2.06-.94-2.06-.94-.94-2.06-.94 2.06-2.06.94zm-11 1L8.5 8.5l.94-2.06 2.06-.94-2.06-.94L8.5 2.5l-.94 2.06-2.06.94zm10 10l.94 2.06.94-2.06 2.06-.94-2.06-.94-.94-2.06-.94 2.06-2.06.94z\"/><path d=\"M17.41 7.96l-1.37-1.37c-.4-.4-.92-.59-1.43-.59-.52 0-1.04.2-1.43.59L10.3 9.45l-7.72 7.72c-.78.78-.78 2.05 0 2.83L4 21.41c.39.39.9.59 1.41.59.51 0 1.02-.2 1.41-.59l7.78-7.78 2.81-2.81c.8-.78.8-2.07 0-2.86zM5.41 20L4 18.59l7.72-7.72 1.47 1.35L5.41 20z\"/>\n",
              "  </svg>\n",
              "      </button>\n",
              "      \n",
              "  <style>\n",
              "    .colab-df-container {\n",
              "      display:flex;\n",
              "      flex-wrap:wrap;\n",
              "      gap: 12px;\n",
              "    }\n",
              "\n",
              "    .colab-df-convert {\n",
              "      background-color: #E8F0FE;\n",
              "      border: none;\n",
              "      border-radius: 50%;\n",
              "      cursor: pointer;\n",
              "      display: none;\n",
              "      fill: #1967D2;\n",
              "      height: 32px;\n",
              "      padding: 0 0 0 0;\n",
              "      width: 32px;\n",
              "    }\n",
              "\n",
              "    .colab-df-convert:hover {\n",
              "      background-color: #E2EBFA;\n",
              "      box-shadow: 0px 1px 2px rgba(60, 64, 67, 0.3), 0px 1px 3px 1px rgba(60, 64, 67, 0.15);\n",
              "      fill: #174EA6;\n",
              "    }\n",
              "\n",
              "    [theme=dark] .colab-df-convert {\n",
              "      background-color: #3B4455;\n",
              "      fill: #D2E3FC;\n",
              "    }\n",
              "\n",
              "    [theme=dark] .colab-df-convert:hover {\n",
              "      background-color: #434B5C;\n",
              "      box-shadow: 0px 1px 3px 1px rgba(0, 0, 0, 0.15);\n",
              "      filter: drop-shadow(0px 1px 2px rgba(0, 0, 0, 0.3));\n",
              "      fill: #FFFFFF;\n",
              "    }\n",
              "  </style>\n",
              "\n",
              "      <script>\n",
              "        const buttonEl =\n",
              "          document.querySelector('#df-8b0740fa-a9c7-46d5-abae-29b0daec3149 button.colab-df-convert');\n",
              "        buttonEl.style.display =\n",
              "          google.colab.kernel.accessAllowed ? 'block' : 'none';\n",
              "\n",
              "        async function convertToInteractive(key) {\n",
              "          const element = document.querySelector('#df-8b0740fa-a9c7-46d5-abae-29b0daec3149');\n",
              "          const dataTable =\n",
              "            await google.colab.kernel.invokeFunction('convertToInteractive',\n",
              "                                                     [key], {});\n",
              "          if (!dataTable) return;\n",
              "\n",
              "          const docLinkHtml = 'Like what you see? Visit the ' +\n",
              "            '<a target=\"_blank\" href=https://colab.research.google.com/notebooks/data_table.ipynb>data table notebook</a>'\n",
              "            + ' to learn more about interactive tables.';\n",
              "          element.innerHTML = '';\n",
              "          dataTable['output_type'] = 'display_data';\n",
              "          await google.colab.output.renderOutput(dataTable, element);\n",
              "          const docLink = document.createElement('div');\n",
              "          docLink.innerHTML = docLinkHtml;\n",
              "          element.appendChild(docLink);\n",
              "        }\n",
              "      </script>\n",
              "    </div>\n",
              "  </div>\n",
              "  "
            ]
          },
          "metadata": {},
          "execution_count": 23
        }
      ]
    },
    {
      "cell_type": "code",
      "source": [
        "#ТОП-10 скиллов для IT-специалистов\n",
        "marketjob_IT_skills_all = marketjob_IT_skills['key_skills_list'].value_counts().head(10)\n",
        "marketjob_IT_skills_all"
      ],
      "metadata": {
        "colab": {
          "base_uri": "https://localhost:8080/"
        },
        "id": "UQOOaiTAc790",
        "outputId": "eae33064-04f4-49a0-99df-2c9b38839c27"
      },
      "execution_count": 24,
      "outputs": [
        {
          "output_type": "execute_result",
          "data": {
            "text/plain": [
              "SQL                     6116\n",
              "Git                     3591\n",
              "Управление проектами    2747\n",
              "Python                  2597\n",
              "PostgreSQL              2242\n",
              "Linux                   2237\n",
              "Английский язык         2200\n",
              "JavaScript              1944\n",
              "Java                    1882\n",
              "BPMN                    1784\n",
              "Name: key_skills_list, dtype: int64"
            ]
          },
          "metadata": {},
          "execution_count": 24
        }
      ]
    },
    {
      "cell_type": "code",
      "source": [
        "# выделим  ТОП-10 навыков для разработчика\n",
        "def is_Vacancy_IT_1(Vacancy):\n",
        "  return 'Аналитик' in Vacancy\n",
        "\n",
        "filter = marketjob_IT['Vacancy'].apply(is_Vacancy_IT_1)\n",
        "marketjob_IT_top_1 = marketjob_IT[filter]\n",
        "marketjob_IT_top_1\n",
        "# ТОП-10 навыков для разработчика\n",
        "marketjob_IT_top_1_developer = marketjob_IT_top_1['key_skills_list'].explode().value_counts()[:60]\n",
        "marketjob_IT_top_1_developer"
      ],
      "metadata": {
        "id": "bnqPqlBmvp8D",
        "colab": {
          "base_uri": "https://localhost:8080/"
        },
        "outputId": "6e906ec6-b9a6-4ac7-e0be-ddb37162f4cd"
      },
      "execution_count": 25,
      "outputs": [
        {
          "output_type": "execute_result",
          "data": {
            "text/plain": [
              "SQL                                             2880\n",
              "BPMN                                            1601\n",
              "UML                                             1341\n",
              "Бизнес-анализ                                   1317\n",
              "Аналитическое мышление                          1253\n",
              "Системный анализ                                1203\n",
              "Разработка технических заданий                  1193\n",
              "Постановка задач разработчикам                   949\n",
              "Анализ данных                                    924\n",
              "Управление проектами                             863\n",
              "Python                                           816\n",
              "Atlassian Jira                                   804\n",
              "MS PowerPoint                                    672\n",
              "Английский язык                                  603\n",
              "MS Visio                                         555\n",
              "Atlassian Confluence                             555\n",
              "REST                                             548\n",
              "Аналитика                                        501\n",
              "Моделирование бизнес процессов                   478\n",
              "Работа с большим объемом информации              467\n",
              "XML                                              458\n",
              "MS SQL                                           445\n",
              "SOAP                                             413\n",
              "Базы данных                                      364\n",
              "Работа в команде                                 345\n",
              "Power BI                                         336\n",
              "Аналитические исследования                       318\n",
              "MS Excel                                         305\n",
              "1С: Предприятие 8                                293\n",
              "ERP-системы на базе 1С                           274\n",
              "Системное мышление                               271\n",
              "Оптимизация бизнес-процессов                     252\n",
              "Scrum                                            251\n",
              "PostgreSQL                                       232\n",
              "Tableau                                          227\n",
              "Agile Project Management                         219\n",
              "API                                              217\n",
              "Работа с базами данных                           204\n",
              "Разработка инструкций                            191\n",
              "JSON API                                         185\n",
              "Статистический анализ                            175\n",
              "Подготовка презентаций                           171\n",
              "Грамотная речь                                   169\n",
              "Математическая статистика                        166\n",
              "Анализ рынка                                     164\n",
              "Сбор и анализ информации                         161\n",
              "1С программирование                              159\n",
              "Excel                                            156\n",
              "СУБД                                             148\n",
              "1С: Зарплата и управление персоналом             146\n",
              "A/B тесты                                        145\n",
              "Деловая коммуникация                             141\n",
              "Data Analysis                                    137\n",
              "DWH                                              137\n",
              "ETL                                              134\n",
              "Linux                                            129\n",
              "Прогнозирование                                  126\n",
              "1С: Управление Производственным Предприятием     125\n",
              "Техническая документация                         125\n",
              "Системная интеграция                             125\n",
              "Name: key_skills_list, dtype: int64"
            ]
          },
          "metadata": {},
          "execution_count": 25
        }
      ]
    },
    {
      "cell_type": "markdown",
      "source": [
        "# Преобразуем зарплату"
      ],
      "metadata": {
        "id": "tQ6Ugq3pdHof"
      }
    },
    {
      "cell_type": "code",
      "source": [
        "import ast \n",
        "x = ast.literal_eval(\"{'from': 25000, 'to': 50000, 'currency': 'RUR', 'gross': True}\")\n",
        "print(x)\n",
        "type(x)"
      ],
      "metadata": {
        "colab": {
          "base_uri": "https://localhost:8080/"
        },
        "id": "u8sun6BndM0D",
        "outputId": "bc8dda7b-5034-4e89-8da2-4bf6ec14db53"
      },
      "execution_count": 26,
      "outputs": [
        {
          "output_type": "stream",
          "name": "stdout",
          "text": [
            "{'from': 25000, 'to': 50000, 'currency': 'RUR', 'gross': True}\n"
          ]
        },
        {
          "output_type": "execute_result",
          "data": {
            "text/plain": [
              "dict"
            ]
          },
          "metadata": {},
          "execution_count": 26
        }
      ]
    },
    {
      "cell_type": "code",
      "source": [
        "dict1 = eval(\"{'from': 25000, 'to': 50000, 'currency': 'RUR', 'gross': True}\")"
      ],
      "metadata": {
        "id": "iLQ_ZjbtdSis"
      },
      "execution_count": 27,
      "outputs": []
    },
    {
      "cell_type": "code",
      "source": [
        "# выведем мин значение зарплаты в отдельный столбец\n",
        "marketjob_IT['salary_json'] = marketjob_IT['salary'].fillna('{}').apply(eval)\n",
        "def get_values(json):\n",
        "  try:\n",
        "    return json['from']\n",
        "  except:\n",
        "    return None\n",
        "marketjob_IT['salary_from'] = marketjob_IT['salary_json'].apply(get_values)"
      ],
      "metadata": {
        "colab": {
          "base_uri": "https://localhost:8080/"
        },
        "id": "O-r2xJA9djdV",
        "outputId": "5206bfde-a3a9-487b-a6c2-533835aea756"
      },
      "execution_count": 28,
      "outputs": [
        {
          "output_type": "stream",
          "name": "stderr",
          "text": [
            "<ipython-input-28-0e898c23a38e>:2: SettingWithCopyWarning: \n",
            "A value is trying to be set on a copy of a slice from a DataFrame.\n",
            "Try using .loc[row_indexer,col_indexer] = value instead\n",
            "\n",
            "See the caveats in the documentation: https://pandas.pydata.org/pandas-docs/stable/user_guide/indexing.html#returning-a-view-versus-a-copy\n",
            "  marketjob_IT['salary_json'] = marketjob_IT['salary'].fillna('{}').apply(eval)\n",
            "<ipython-input-28-0e898c23a38e>:8: SettingWithCopyWarning: \n",
            "A value is trying to be set on a copy of a slice from a DataFrame.\n",
            "Try using .loc[row_indexer,col_indexer] = value instead\n",
            "\n",
            "See the caveats in the documentation: https://pandas.pydata.org/pandas-docs/stable/user_guide/indexing.html#returning-a-view-versus-a-copy\n",
            "  marketjob_IT['salary_from'] = marketjob_IT['salary_json'].apply(get_values)\n"
          ]
        }
      ]
    },
    {
      "cell_type": "code",
      "source": [
        "# выведем макс значение зарплаты в отдельный столбец\n",
        "def get_values(json):\n",
        "  try:\n",
        "    return json['to']\n",
        "  except:\n",
        "    return None\n",
        "marketjob_IT['salary_to'] = marketjob_IT['salary_json'].apply(get_values)"
      ],
      "metadata": {
        "colab": {
          "base_uri": "https://localhost:8080/"
        },
        "id": "HPgrZpY_dnH9",
        "outputId": "ada976d0-194e-4589-9885-87299958b070"
      },
      "execution_count": 29,
      "outputs": [
        {
          "output_type": "stream",
          "name": "stderr",
          "text": [
            "<ipython-input-29-f72dec1145d5>:7: SettingWithCopyWarning: \n",
            "A value is trying to be set on a copy of a slice from a DataFrame.\n",
            "Try using .loc[row_indexer,col_indexer] = value instead\n",
            "\n",
            "See the caveats in the documentation: https://pandas.pydata.org/pandas-docs/stable/user_guide/indexing.html#returning-a-view-versus-a-copy\n",
            "  marketjob_IT['salary_to'] = marketjob_IT['salary_json'].apply(get_values)\n"
          ]
        }
      ]
    },
    {
      "cell_type": "code",
      "source": [
        "# выведем  значение валют в отдельный столбец\n",
        "def get_values(json):\n",
        "  try:\n",
        "    return json['currency']\n",
        "  except:\n",
        "    return None\n",
        "marketjob_IT['salary_currency'] = marketjob_IT['salary_json'].apply(get_values)"
      ],
      "metadata": {
        "colab": {
          "base_uri": "https://localhost:8080/"
        },
        "id": "p5gRwYzvdoZd",
        "outputId": "de95e0d3-5e3f-4cdb-fb53-585472c6f940"
      },
      "execution_count": 30,
      "outputs": [
        {
          "output_type": "stream",
          "name": "stderr",
          "text": [
            "<ipython-input-30-b680d59f1b84>:7: SettingWithCopyWarning: \n",
            "A value is trying to be set on a copy of a slice from a DataFrame.\n",
            "Try using .loc[row_indexer,col_indexer] = value instead\n",
            "\n",
            "See the caveats in the documentation: https://pandas.pydata.org/pandas-docs/stable/user_guide/indexing.html#returning-a-view-versus-a-copy\n",
            "  marketjob_IT['salary_currency'] = marketjob_IT['salary_json'].apply(get_values)\n"
          ]
        }
      ]
    },
    {
      "cell_type": "code",
      "source": [
        "# конвертируем зарплату в рубли\n",
        "rates = dict(RUR=1, USD=61.5343, EUR=61.1328, KZT=0.132229) # курс валют по состоянию на 26.05.2022 (источник https://cbr.ru/)\n",
        "marketjob_IT['salary_from_converted_to_rur'] = marketjob_IT['salary_currency'].map(rates) * marketjob_IT['salary_from']\n",
        "marketjob_IT['salary_to_converted_to_rur'] = marketjob_IT['salary_currency'].map(rates) * marketjob_IT['salary_to']"
      ],
      "metadata": {
        "id": "05YWO5bVdr3s",
        "colab": {
          "base_uri": "https://localhost:8080/"
        },
        "outputId": "62595085-df38-4295-ba5a-efd16d09ae55"
      },
      "execution_count": 31,
      "outputs": [
        {
          "output_type": "stream",
          "name": "stderr",
          "text": [
            "<ipython-input-31-03fec279dde2>:3: SettingWithCopyWarning: \n",
            "A value is trying to be set on a copy of a slice from a DataFrame.\n",
            "Try using .loc[row_indexer,col_indexer] = value instead\n",
            "\n",
            "See the caveats in the documentation: https://pandas.pydata.org/pandas-docs/stable/user_guide/indexing.html#returning-a-view-versus-a-copy\n",
            "  marketjob_IT['salary_from_converted_to_rur'] = marketjob_IT['salary_currency'].map(rates) * marketjob_IT['salary_from']\n",
            "<ipython-input-31-03fec279dde2>:4: SettingWithCopyWarning: \n",
            "A value is trying to be set on a copy of a slice from a DataFrame.\n",
            "Try using .loc[row_indexer,col_indexer] = value instead\n",
            "\n",
            "See the caveats in the documentation: https://pandas.pydata.org/pandas-docs/stable/user_guide/indexing.html#returning-a-view-versus-a-copy\n",
            "  marketjob_IT['salary_to_converted_to_rur'] = marketjob_IT['salary_currency'].map(rates) * marketjob_IT['salary_to']\n"
          ]
        }
      ]
    },
    {
      "cell_type": "code",
      "source": [
        "# выведем среднее значение заработной платы\n",
        "marketjob_IT[['salary_from_converted_to_rur', 'salary_to_converted_to_rur']].mean(axis= 1)\n",
        "marketjob_IT['salary_mean_to_rub'] = marketjob_IT[['salary_from_converted_to_rur', 'salary_to_converted_to_rur']].mean(axis= 1)\n",
        "marketjob_IT.info()"
      ],
      "metadata": {
        "colab": {
          "base_uri": "https://localhost:8080/"
        },
        "id": "5O9MgDSIeHY0",
        "outputId": "4d393b86-9aad-441c-93c3-6aa54fb1e40d"
      },
      "execution_count": 32,
      "outputs": [
        {
          "output_type": "stream",
          "name": "stderr",
          "text": [
            "<ipython-input-32-11b6cabcd69c>:3: SettingWithCopyWarning: \n",
            "A value is trying to be set on a copy of a slice from a DataFrame.\n",
            "Try using .loc[row_indexer,col_indexer] = value instead\n",
            "\n",
            "See the caveats in the documentation: https://pandas.pydata.org/pandas-docs/stable/user_guide/indexing.html#returning-a-view-versus-a-copy\n",
            "  marketjob_IT['salary_mean_to_rub'] = marketjob_IT[['salary_from_converted_to_rur', 'salary_to_converted_to_rur']].mean(axis= 1)\n"
          ]
        },
        {
          "output_type": "stream",
          "name": "stdout",
          "text": [
            "<class 'pandas.core.frame.DataFrame'>\n",
            "Int64Index: 25883 entries, 3 to 53446\n",
            "Data columns (total 44 columns):\n",
            " #   Column                        Non-Null Count  Dtype  \n",
            "---  ------                        --------------  -----  \n",
            " 0   Unnamed: 0                    25883 non-null  int64  \n",
            " 1   id                            25883 non-null  int64  \n",
            " 2   premium                       25883 non-null  bool   \n",
            " 3   name                          25883 non-null  object \n",
            " 4   department                    3516 non-null   object \n",
            " 5   has_test                      25883 non-null  bool   \n",
            " 6   response_letter_required      25883 non-null  bool   \n",
            " 7   area                          25883 non-null  object \n",
            " 8   salary                        7711 non-null   object \n",
            " 9   type                          25883 non-null  object \n",
            " 10  address                       12057 non-null  object \n",
            " 11  response_url                  2 non-null      object \n",
            " 12  sort_point_distance           0 non-null      float64\n",
            " 13  published_at                  25883 non-null  object \n",
            " 14  created_at                    25883 non-null  object \n",
            " 15  archived                      25883 non-null  bool   \n",
            " 16  apply_alternate_url           25883 non-null  object \n",
            " 17  insider_interview             458 non-null    object \n",
            " 18  url                           25883 non-null  object \n",
            " 19  adv_response_url              25883 non-null  object \n",
            " 20  alternate_url                 25883 non-null  object \n",
            " 21  relations                     25883 non-null  object \n",
            " 22  employer                      25883 non-null  object \n",
            " 23  snippet                       25883 non-null  object \n",
            " 24  contacts                      0 non-null      float64\n",
            " 25  schedule                      25883 non-null  object \n",
            " 26  working_days                  25883 non-null  object \n",
            " 27  working_time_intervals        25883 non-null  object \n",
            " 28  working_time_modes            25883 non-null  object \n",
            " 29  accept_temporary              25883 non-null  bool   \n",
            " 30  experience                    25883 non-null  object \n",
            " 31  key_skills                    23210 non-null  object \n",
            " 32  region                        25883 non-null  object \n",
            " 33  Vacancy                       25883 non-null  object \n",
            " 34  name_job                      25883 non-null  object \n",
            " 35  key_skills_json               25883 non-null  object \n",
            " 36  key_skills_list               25883 non-null  object \n",
            " 37  salary_json                   25883 non-null  object \n",
            " 38  salary_from                   6590 non-null   float64\n",
            " 39  salary_to                     4708 non-null   float64\n",
            " 40  salary_currency               7711 non-null   object \n",
            " 41  salary_from_converted_to_rur  6590 non-null   float64\n",
            " 42  salary_to_converted_to_rur    4708 non-null   float64\n",
            " 43  salary_mean_to_rub            7711 non-null   float64\n",
            "dtypes: bool(5), float64(7), int64(2), object(30)\n",
            "memory usage: 8.0+ MB\n"
          ]
        }
      ]
    },
    {
      "cell_type": "code",
      "source": [
        "marketjob_IT.to_excel('Вакансии_IT_на_октябрь_22.xlsx')"
      ],
      "metadata": {
        "id": "rMnZYuNdah6a"
      },
      "execution_count": 33,
      "outputs": []
    },
    {
      "cell_type": "code",
      "source": [
        "marketjob_IT.describe()"
      ],
      "metadata": {
        "colab": {
          "base_uri": "https://localhost:8080/",
          "height": 300
        },
        "id": "94xJp_1UcZgN",
        "outputId": "92496eaf-bdd0-450f-e5cd-ca94ff4abe3c"
      },
      "execution_count": 34,
      "outputs": [
        {
          "output_type": "execute_result",
          "data": {
            "text/plain": [
              "         Unnamed: 0            id  sort_point_distance  contacts  \\\n",
              "count  25883.000000  2.588300e+04                  0.0       0.0   \n",
              "mean    1144.034540  6.952435e+07                  NaN       NaN   \n",
              "std      874.896013  4.623179e+06                  NaN       NaN   \n",
              "min        0.000000  1.469467e+07                  NaN       NaN   \n",
              "25%      421.500000  6.974634e+07                  NaN       NaN   \n",
              "50%      916.000000  7.091181e+07                  NaN       NaN   \n",
              "75%     1773.000000  7.134048e+07                  NaN       NaN   \n",
              "max     4336.000000  7.174462e+07                  NaN       NaN   \n",
              "\n",
              "         salary_from     salary_to  salary_from_converted_to_rur  \\\n",
              "count    6590.000000  4.708000e+03                   6590.000000   \n",
              "mean   103821.348710  1.529951e+05                 112847.654361   \n",
              "std     67736.190541  9.925273e+04                  71723.525454   \n",
              "min        40.000000  6.000000e+01                     40.000000   \n",
              "25%     50000.000000  8.000000e+04                  60000.000000   \n",
              "50%     90000.000000  1.400000e+05                 100000.000000   \n",
              "75%    150000.000000  2.100000e+05                 150000.000000   \n",
              "max    750000.000000  1.570000e+06                 750000.000000   \n",
              "\n",
              "       salary_to_converted_to_rur  salary_mean_to_rub  \n",
              "count                4.708000e+03         7711.000000  \n",
              "mean                 1.692502e+05       137040.529979  \n",
              "std                  1.031133e+05        86254.986154  \n",
              "min                  6.000000e+01           50.000000  \n",
              "25%                  9.000000e+04        70000.000000  \n",
              "50%                  1.500000e+05       120000.000000  \n",
              "75%                  2.400000e+05       185000.000000  \n",
              "max                  1.570000e+06       984548.800000  "
            ],
            "text/html": [
              "\n",
              "  <div id=\"df-32ec8e3c-cce1-4807-8316-a58ef76dd83a\">\n",
              "    <div class=\"colab-df-container\">\n",
              "      <div>\n",
              "<style scoped>\n",
              "    .dataframe tbody tr th:only-of-type {\n",
              "        vertical-align: middle;\n",
              "    }\n",
              "\n",
              "    .dataframe tbody tr th {\n",
              "        vertical-align: top;\n",
              "    }\n",
              "\n",
              "    .dataframe thead th {\n",
              "        text-align: right;\n",
              "    }\n",
              "</style>\n",
              "<table border=\"1\" class=\"dataframe\">\n",
              "  <thead>\n",
              "    <tr style=\"text-align: right;\">\n",
              "      <th></th>\n",
              "      <th>Unnamed: 0</th>\n",
              "      <th>id</th>\n",
              "      <th>sort_point_distance</th>\n",
              "      <th>contacts</th>\n",
              "      <th>salary_from</th>\n",
              "      <th>salary_to</th>\n",
              "      <th>salary_from_converted_to_rur</th>\n",
              "      <th>salary_to_converted_to_rur</th>\n",
              "      <th>salary_mean_to_rub</th>\n",
              "    </tr>\n",
              "  </thead>\n",
              "  <tbody>\n",
              "    <tr>\n",
              "      <th>count</th>\n",
              "      <td>25883.000000</td>\n",
              "      <td>2.588300e+04</td>\n",
              "      <td>0.0</td>\n",
              "      <td>0.0</td>\n",
              "      <td>6590.000000</td>\n",
              "      <td>4.708000e+03</td>\n",
              "      <td>6590.000000</td>\n",
              "      <td>4.708000e+03</td>\n",
              "      <td>7711.000000</td>\n",
              "    </tr>\n",
              "    <tr>\n",
              "      <th>mean</th>\n",
              "      <td>1144.034540</td>\n",
              "      <td>6.952435e+07</td>\n",
              "      <td>NaN</td>\n",
              "      <td>NaN</td>\n",
              "      <td>103821.348710</td>\n",
              "      <td>1.529951e+05</td>\n",
              "      <td>112847.654361</td>\n",
              "      <td>1.692502e+05</td>\n",
              "      <td>137040.529979</td>\n",
              "    </tr>\n",
              "    <tr>\n",
              "      <th>std</th>\n",
              "      <td>874.896013</td>\n",
              "      <td>4.623179e+06</td>\n",
              "      <td>NaN</td>\n",
              "      <td>NaN</td>\n",
              "      <td>67736.190541</td>\n",
              "      <td>9.925273e+04</td>\n",
              "      <td>71723.525454</td>\n",
              "      <td>1.031133e+05</td>\n",
              "      <td>86254.986154</td>\n",
              "    </tr>\n",
              "    <tr>\n",
              "      <th>min</th>\n",
              "      <td>0.000000</td>\n",
              "      <td>1.469467e+07</td>\n",
              "      <td>NaN</td>\n",
              "      <td>NaN</td>\n",
              "      <td>40.000000</td>\n",
              "      <td>6.000000e+01</td>\n",
              "      <td>40.000000</td>\n",
              "      <td>6.000000e+01</td>\n",
              "      <td>50.000000</td>\n",
              "    </tr>\n",
              "    <tr>\n",
              "      <th>25%</th>\n",
              "      <td>421.500000</td>\n",
              "      <td>6.974634e+07</td>\n",
              "      <td>NaN</td>\n",
              "      <td>NaN</td>\n",
              "      <td>50000.000000</td>\n",
              "      <td>8.000000e+04</td>\n",
              "      <td>60000.000000</td>\n",
              "      <td>9.000000e+04</td>\n",
              "      <td>70000.000000</td>\n",
              "    </tr>\n",
              "    <tr>\n",
              "      <th>50%</th>\n",
              "      <td>916.000000</td>\n",
              "      <td>7.091181e+07</td>\n",
              "      <td>NaN</td>\n",
              "      <td>NaN</td>\n",
              "      <td>90000.000000</td>\n",
              "      <td>1.400000e+05</td>\n",
              "      <td>100000.000000</td>\n",
              "      <td>1.500000e+05</td>\n",
              "      <td>120000.000000</td>\n",
              "    </tr>\n",
              "    <tr>\n",
              "      <th>75%</th>\n",
              "      <td>1773.000000</td>\n",
              "      <td>7.134048e+07</td>\n",
              "      <td>NaN</td>\n",
              "      <td>NaN</td>\n",
              "      <td>150000.000000</td>\n",
              "      <td>2.100000e+05</td>\n",
              "      <td>150000.000000</td>\n",
              "      <td>2.400000e+05</td>\n",
              "      <td>185000.000000</td>\n",
              "    </tr>\n",
              "    <tr>\n",
              "      <th>max</th>\n",
              "      <td>4336.000000</td>\n",
              "      <td>7.174462e+07</td>\n",
              "      <td>NaN</td>\n",
              "      <td>NaN</td>\n",
              "      <td>750000.000000</td>\n",
              "      <td>1.570000e+06</td>\n",
              "      <td>750000.000000</td>\n",
              "      <td>1.570000e+06</td>\n",
              "      <td>984548.800000</td>\n",
              "    </tr>\n",
              "  </tbody>\n",
              "</table>\n",
              "</div>\n",
              "      <button class=\"colab-df-convert\" onclick=\"convertToInteractive('df-32ec8e3c-cce1-4807-8316-a58ef76dd83a')\"\n",
              "              title=\"Convert this dataframe to an interactive table.\"\n",
              "              style=\"display:none;\">\n",
              "        \n",
              "  <svg xmlns=\"http://www.w3.org/2000/svg\" height=\"24px\"viewBox=\"0 0 24 24\"\n",
              "       width=\"24px\">\n",
              "    <path d=\"M0 0h24v24H0V0z\" fill=\"none\"/>\n",
              "    <path d=\"M18.56 5.44l.94 2.06.94-2.06 2.06-.94-2.06-.94-.94-2.06-.94 2.06-2.06.94zm-11 1L8.5 8.5l.94-2.06 2.06-.94-2.06-.94L8.5 2.5l-.94 2.06-2.06.94zm10 10l.94 2.06.94-2.06 2.06-.94-2.06-.94-.94-2.06-.94 2.06-2.06.94z\"/><path d=\"M17.41 7.96l-1.37-1.37c-.4-.4-.92-.59-1.43-.59-.52 0-1.04.2-1.43.59L10.3 9.45l-7.72 7.72c-.78.78-.78 2.05 0 2.83L4 21.41c.39.39.9.59 1.41.59.51 0 1.02-.2 1.41-.59l7.78-7.78 2.81-2.81c.8-.78.8-2.07 0-2.86zM5.41 20L4 18.59l7.72-7.72 1.47 1.35L5.41 20z\"/>\n",
              "  </svg>\n",
              "      </button>\n",
              "      \n",
              "  <style>\n",
              "    .colab-df-container {\n",
              "      display:flex;\n",
              "      flex-wrap:wrap;\n",
              "      gap: 12px;\n",
              "    }\n",
              "\n",
              "    .colab-df-convert {\n",
              "      background-color: #E8F0FE;\n",
              "      border: none;\n",
              "      border-radius: 50%;\n",
              "      cursor: pointer;\n",
              "      display: none;\n",
              "      fill: #1967D2;\n",
              "      height: 32px;\n",
              "      padding: 0 0 0 0;\n",
              "      width: 32px;\n",
              "    }\n",
              "\n",
              "    .colab-df-convert:hover {\n",
              "      background-color: #E2EBFA;\n",
              "      box-shadow: 0px 1px 2px rgba(60, 64, 67, 0.3), 0px 1px 3px 1px rgba(60, 64, 67, 0.15);\n",
              "      fill: #174EA6;\n",
              "    }\n",
              "\n",
              "    [theme=dark] .colab-df-convert {\n",
              "      background-color: #3B4455;\n",
              "      fill: #D2E3FC;\n",
              "    }\n",
              "\n",
              "    [theme=dark] .colab-df-convert:hover {\n",
              "      background-color: #434B5C;\n",
              "      box-shadow: 0px 1px 3px 1px rgba(0, 0, 0, 0.15);\n",
              "      filter: drop-shadow(0px 1px 2px rgba(0, 0, 0, 0.3));\n",
              "      fill: #FFFFFF;\n",
              "    }\n",
              "  </style>\n",
              "\n",
              "      <script>\n",
              "        const buttonEl =\n",
              "          document.querySelector('#df-32ec8e3c-cce1-4807-8316-a58ef76dd83a button.colab-df-convert');\n",
              "        buttonEl.style.display =\n",
              "          google.colab.kernel.accessAllowed ? 'block' : 'none';\n",
              "\n",
              "        async function convertToInteractive(key) {\n",
              "          const element = document.querySelector('#df-32ec8e3c-cce1-4807-8316-a58ef76dd83a');\n",
              "          const dataTable =\n",
              "            await google.colab.kernel.invokeFunction('convertToInteractive',\n",
              "                                                     [key], {});\n",
              "          if (!dataTable) return;\n",
              "\n",
              "          const docLinkHtml = 'Like what you see? Visit the ' +\n",
              "            '<a target=\"_blank\" href=https://colab.research.google.com/notebooks/data_table.ipynb>data table notebook</a>'\n",
              "            + ' to learn more about interactive tables.';\n",
              "          element.innerHTML = '';\n",
              "          dataTable['output_type'] = 'display_data';\n",
              "          await google.colab.output.renderOutput(dataTable, element);\n",
              "          const docLink = document.createElement('div');\n",
              "          docLink.innerHTML = docLinkHtml;\n",
              "          element.appendChild(docLink);\n",
              "        }\n",
              "      </script>\n",
              "    </div>\n",
              "  </div>\n",
              "  "
            ]
          },
          "metadata": {},
          "execution_count": 34
        }
      ]
    },
    {
      "cell_type": "code",
      "source": [
        "marketjob_IT['salary_from_converted_to_rur'].max()"
      ],
      "metadata": {
        "colab": {
          "base_uri": "https://localhost:8080/"
        },
        "id": "Km51ZBzlcgm2",
        "outputId": "abb8771b-c4a3-45ee-9b08-5837a878a6ab"
      },
      "execution_count": 35,
      "outputs": [
        {
          "output_type": "execute_result",
          "data": {
            "text/plain": [
              "750000.0"
            ]
          },
          "metadata": {},
          "execution_count": 35
        }
      ]
    },
    {
      "cell_type": "code",
      "source": [
        "marketjob_IT['salary_to_converted_to_rur'].min()"
      ],
      "metadata": {
        "colab": {
          "base_uri": "https://localhost:8080/"
        },
        "id": "6-TEqwvmcuY2",
        "outputId": "5b2a6ca3-ce32-44b4-d2d2-000d33a47814"
      },
      "execution_count": 36,
      "outputs": [
        {
          "output_type": "execute_result",
          "data": {
            "text/plain": [
              "60.0"
            ]
          },
          "metadata": {},
          "execution_count": 36
        }
      ]
    },
    {
      "cell_type": "code",
      "source": [
        "marketjob_IT.info()"
      ],
      "metadata": {
        "colab": {
          "base_uri": "https://localhost:8080/"
        },
        "id": "Qm5X7oGMQh1g",
        "outputId": "3029398c-4edd-4da3-dc1b-79762d00142f"
      },
      "execution_count": 37,
      "outputs": [
        {
          "output_type": "stream",
          "name": "stdout",
          "text": [
            "<class 'pandas.core.frame.DataFrame'>\n",
            "Int64Index: 25883 entries, 3 to 53446\n",
            "Data columns (total 44 columns):\n",
            " #   Column                        Non-Null Count  Dtype  \n",
            "---  ------                        --------------  -----  \n",
            " 0   Unnamed: 0                    25883 non-null  int64  \n",
            " 1   id                            25883 non-null  int64  \n",
            " 2   premium                       25883 non-null  bool   \n",
            " 3   name                          25883 non-null  object \n",
            " 4   department                    3516 non-null   object \n",
            " 5   has_test                      25883 non-null  bool   \n",
            " 6   response_letter_required      25883 non-null  bool   \n",
            " 7   area                          25883 non-null  object \n",
            " 8   salary                        7711 non-null   object \n",
            " 9   type                          25883 non-null  object \n",
            " 10  address                       12057 non-null  object \n",
            " 11  response_url                  2 non-null      object \n",
            " 12  sort_point_distance           0 non-null      float64\n",
            " 13  published_at                  25883 non-null  object \n",
            " 14  created_at                    25883 non-null  object \n",
            " 15  archived                      25883 non-null  bool   \n",
            " 16  apply_alternate_url           25883 non-null  object \n",
            " 17  insider_interview             458 non-null    object \n",
            " 18  url                           25883 non-null  object \n",
            " 19  adv_response_url              25883 non-null  object \n",
            " 20  alternate_url                 25883 non-null  object \n",
            " 21  relations                     25883 non-null  object \n",
            " 22  employer                      25883 non-null  object \n",
            " 23  snippet                       25883 non-null  object \n",
            " 24  contacts                      0 non-null      float64\n",
            " 25  schedule                      25883 non-null  object \n",
            " 26  working_days                  25883 non-null  object \n",
            " 27  working_time_intervals        25883 non-null  object \n",
            " 28  working_time_modes            25883 non-null  object \n",
            " 29  accept_temporary              25883 non-null  bool   \n",
            " 30  experience                    25883 non-null  object \n",
            " 31  key_skills                    23210 non-null  object \n",
            " 32  region                        25883 non-null  object \n",
            " 33  Vacancy                       25883 non-null  object \n",
            " 34  name_job                      25883 non-null  object \n",
            " 35  key_skills_json               25883 non-null  object \n",
            " 36  key_skills_list               25883 non-null  object \n",
            " 37  salary_json                   25883 non-null  object \n",
            " 38  salary_from                   6590 non-null   float64\n",
            " 39  salary_to                     4708 non-null   float64\n",
            " 40  salary_currency               7711 non-null   object \n",
            " 41  salary_from_converted_to_rur  6590 non-null   float64\n",
            " 42  salary_to_converted_to_rur    4708 non-null   float64\n",
            " 43  salary_mean_to_rub            7711 non-null   float64\n",
            "dtypes: bool(5), float64(7), int64(2), object(30)\n",
            "memory usage: 8.0+ MB\n"
          ]
        }
      ]
    },
    {
      "cell_type": "markdown",
      "source": [
        "filter = marketjob_IT['salary_from_converted_to_rur']>10000 # величина мрот с 01.01.2022 https://www.nalog.gov.ru/rn27/news/activities_fts/11814295/?ysclid=l7w721m9mb425838704\n",
        "\n",
        "marketjob_IT = marketjob_IT[filter]\n",
        "\n",
        "marketjob_IT['salary_from_converted_to_rur'].min()\n"
      ],
      "metadata": {
        "id": "npQhAFhBKiu1"
      }
    },
    {
      "cell_type": "code",
      "source": [
        "marketjob_IT.info()"
      ],
      "metadata": {
        "id": "rLsW5qczPntK",
        "colab": {
          "base_uri": "https://localhost:8080/"
        },
        "outputId": "2264fd12-ab80-410d-e90b-92294b8e2d40"
      },
      "execution_count": 38,
      "outputs": [
        {
          "output_type": "stream",
          "name": "stdout",
          "text": [
            "<class 'pandas.core.frame.DataFrame'>\n",
            "Int64Index: 25883 entries, 3 to 53446\n",
            "Data columns (total 44 columns):\n",
            " #   Column                        Non-Null Count  Dtype  \n",
            "---  ------                        --------------  -----  \n",
            " 0   Unnamed: 0                    25883 non-null  int64  \n",
            " 1   id                            25883 non-null  int64  \n",
            " 2   premium                       25883 non-null  bool   \n",
            " 3   name                          25883 non-null  object \n",
            " 4   department                    3516 non-null   object \n",
            " 5   has_test                      25883 non-null  bool   \n",
            " 6   response_letter_required      25883 non-null  bool   \n",
            " 7   area                          25883 non-null  object \n",
            " 8   salary                        7711 non-null   object \n",
            " 9   type                          25883 non-null  object \n",
            " 10  address                       12057 non-null  object \n",
            " 11  response_url                  2 non-null      object \n",
            " 12  sort_point_distance           0 non-null      float64\n",
            " 13  published_at                  25883 non-null  object \n",
            " 14  created_at                    25883 non-null  object \n",
            " 15  archived                      25883 non-null  bool   \n",
            " 16  apply_alternate_url           25883 non-null  object \n",
            " 17  insider_interview             458 non-null    object \n",
            " 18  url                           25883 non-null  object \n",
            " 19  adv_response_url              25883 non-null  object \n",
            " 20  alternate_url                 25883 non-null  object \n",
            " 21  relations                     25883 non-null  object \n",
            " 22  employer                      25883 non-null  object \n",
            " 23  snippet                       25883 non-null  object \n",
            " 24  contacts                      0 non-null      float64\n",
            " 25  schedule                      25883 non-null  object \n",
            " 26  working_days                  25883 non-null  object \n",
            " 27  working_time_intervals        25883 non-null  object \n",
            " 28  working_time_modes            25883 non-null  object \n",
            " 29  accept_temporary              25883 non-null  bool   \n",
            " 30  experience                    25883 non-null  object \n",
            " 31  key_skills                    23210 non-null  object \n",
            " 32  region                        25883 non-null  object \n",
            " 33  Vacancy                       25883 non-null  object \n",
            " 34  name_job                      25883 non-null  object \n",
            " 35  key_skills_json               25883 non-null  object \n",
            " 36  key_skills_list               25883 non-null  object \n",
            " 37  salary_json                   25883 non-null  object \n",
            " 38  salary_from                   6590 non-null   float64\n",
            " 39  salary_to                     4708 non-null   float64\n",
            " 40  salary_currency               7711 non-null   object \n",
            " 41  salary_from_converted_to_rur  6590 non-null   float64\n",
            " 42  salary_to_converted_to_rur    4708 non-null   float64\n",
            " 43  salary_mean_to_rub            7711 non-null   float64\n",
            "dtypes: bool(5), float64(7), int64(2), object(30)\n",
            "memory usage: 8.0+ MB\n"
          ]
        }
      ]
    },
    {
      "cell_type": "code",
      "source": [
        "marketjob_IT.describe()"
      ],
      "metadata": {
        "id": "C-f2kFvBeP2l",
        "colab": {
          "base_uri": "https://localhost:8080/",
          "height": 300
        },
        "outputId": "6a834a86-838f-4ee1-8bd7-b5cbe8125174"
      },
      "execution_count": 39,
      "outputs": [
        {
          "output_type": "execute_result",
          "data": {
            "text/plain": [
              "         Unnamed: 0            id  sort_point_distance  contacts  \\\n",
              "count  25883.000000  2.588300e+04                  0.0       0.0   \n",
              "mean    1144.034540  6.952435e+07                  NaN       NaN   \n",
              "std      874.896013  4.623179e+06                  NaN       NaN   \n",
              "min        0.000000  1.469467e+07                  NaN       NaN   \n",
              "25%      421.500000  6.974634e+07                  NaN       NaN   \n",
              "50%      916.000000  7.091181e+07                  NaN       NaN   \n",
              "75%     1773.000000  7.134048e+07                  NaN       NaN   \n",
              "max     4336.000000  7.174462e+07                  NaN       NaN   \n",
              "\n",
              "         salary_from     salary_to  salary_from_converted_to_rur  \\\n",
              "count    6590.000000  4.708000e+03                   6590.000000   \n",
              "mean   103821.348710  1.529951e+05                 112847.654361   \n",
              "std     67736.190541  9.925273e+04                  71723.525454   \n",
              "min        40.000000  6.000000e+01                     40.000000   \n",
              "25%     50000.000000  8.000000e+04                  60000.000000   \n",
              "50%     90000.000000  1.400000e+05                 100000.000000   \n",
              "75%    150000.000000  2.100000e+05                 150000.000000   \n",
              "max    750000.000000  1.570000e+06                 750000.000000   \n",
              "\n",
              "       salary_to_converted_to_rur  salary_mean_to_rub  \n",
              "count                4.708000e+03         7711.000000  \n",
              "mean                 1.692502e+05       137040.529979  \n",
              "std                  1.031133e+05        86254.986154  \n",
              "min                  6.000000e+01           50.000000  \n",
              "25%                  9.000000e+04        70000.000000  \n",
              "50%                  1.500000e+05       120000.000000  \n",
              "75%                  2.400000e+05       185000.000000  \n",
              "max                  1.570000e+06       984548.800000  "
            ],
            "text/html": [
              "\n",
              "  <div id=\"df-97f79521-136c-4322-b748-527fa209a8e5\">\n",
              "    <div class=\"colab-df-container\">\n",
              "      <div>\n",
              "<style scoped>\n",
              "    .dataframe tbody tr th:only-of-type {\n",
              "        vertical-align: middle;\n",
              "    }\n",
              "\n",
              "    .dataframe tbody tr th {\n",
              "        vertical-align: top;\n",
              "    }\n",
              "\n",
              "    .dataframe thead th {\n",
              "        text-align: right;\n",
              "    }\n",
              "</style>\n",
              "<table border=\"1\" class=\"dataframe\">\n",
              "  <thead>\n",
              "    <tr style=\"text-align: right;\">\n",
              "      <th></th>\n",
              "      <th>Unnamed: 0</th>\n",
              "      <th>id</th>\n",
              "      <th>sort_point_distance</th>\n",
              "      <th>contacts</th>\n",
              "      <th>salary_from</th>\n",
              "      <th>salary_to</th>\n",
              "      <th>salary_from_converted_to_rur</th>\n",
              "      <th>salary_to_converted_to_rur</th>\n",
              "      <th>salary_mean_to_rub</th>\n",
              "    </tr>\n",
              "  </thead>\n",
              "  <tbody>\n",
              "    <tr>\n",
              "      <th>count</th>\n",
              "      <td>25883.000000</td>\n",
              "      <td>2.588300e+04</td>\n",
              "      <td>0.0</td>\n",
              "      <td>0.0</td>\n",
              "      <td>6590.000000</td>\n",
              "      <td>4.708000e+03</td>\n",
              "      <td>6590.000000</td>\n",
              "      <td>4.708000e+03</td>\n",
              "      <td>7711.000000</td>\n",
              "    </tr>\n",
              "    <tr>\n",
              "      <th>mean</th>\n",
              "      <td>1144.034540</td>\n",
              "      <td>6.952435e+07</td>\n",
              "      <td>NaN</td>\n",
              "      <td>NaN</td>\n",
              "      <td>103821.348710</td>\n",
              "      <td>1.529951e+05</td>\n",
              "      <td>112847.654361</td>\n",
              "      <td>1.692502e+05</td>\n",
              "      <td>137040.529979</td>\n",
              "    </tr>\n",
              "    <tr>\n",
              "      <th>std</th>\n",
              "      <td>874.896013</td>\n",
              "      <td>4.623179e+06</td>\n",
              "      <td>NaN</td>\n",
              "      <td>NaN</td>\n",
              "      <td>67736.190541</td>\n",
              "      <td>9.925273e+04</td>\n",
              "      <td>71723.525454</td>\n",
              "      <td>1.031133e+05</td>\n",
              "      <td>86254.986154</td>\n",
              "    </tr>\n",
              "    <tr>\n",
              "      <th>min</th>\n",
              "      <td>0.000000</td>\n",
              "      <td>1.469467e+07</td>\n",
              "      <td>NaN</td>\n",
              "      <td>NaN</td>\n",
              "      <td>40.000000</td>\n",
              "      <td>6.000000e+01</td>\n",
              "      <td>40.000000</td>\n",
              "      <td>6.000000e+01</td>\n",
              "      <td>50.000000</td>\n",
              "    </tr>\n",
              "    <tr>\n",
              "      <th>25%</th>\n",
              "      <td>421.500000</td>\n",
              "      <td>6.974634e+07</td>\n",
              "      <td>NaN</td>\n",
              "      <td>NaN</td>\n",
              "      <td>50000.000000</td>\n",
              "      <td>8.000000e+04</td>\n",
              "      <td>60000.000000</td>\n",
              "      <td>9.000000e+04</td>\n",
              "      <td>70000.000000</td>\n",
              "    </tr>\n",
              "    <tr>\n",
              "      <th>50%</th>\n",
              "      <td>916.000000</td>\n",
              "      <td>7.091181e+07</td>\n",
              "      <td>NaN</td>\n",
              "      <td>NaN</td>\n",
              "      <td>90000.000000</td>\n",
              "      <td>1.400000e+05</td>\n",
              "      <td>100000.000000</td>\n",
              "      <td>1.500000e+05</td>\n",
              "      <td>120000.000000</td>\n",
              "    </tr>\n",
              "    <tr>\n",
              "      <th>75%</th>\n",
              "      <td>1773.000000</td>\n",
              "      <td>7.134048e+07</td>\n",
              "      <td>NaN</td>\n",
              "      <td>NaN</td>\n",
              "      <td>150000.000000</td>\n",
              "      <td>2.100000e+05</td>\n",
              "      <td>150000.000000</td>\n",
              "      <td>2.400000e+05</td>\n",
              "      <td>185000.000000</td>\n",
              "    </tr>\n",
              "    <tr>\n",
              "      <th>max</th>\n",
              "      <td>4336.000000</td>\n",
              "      <td>7.174462e+07</td>\n",
              "      <td>NaN</td>\n",
              "      <td>NaN</td>\n",
              "      <td>750000.000000</td>\n",
              "      <td>1.570000e+06</td>\n",
              "      <td>750000.000000</td>\n",
              "      <td>1.570000e+06</td>\n",
              "      <td>984548.800000</td>\n",
              "    </tr>\n",
              "  </tbody>\n",
              "</table>\n",
              "</div>\n",
              "      <button class=\"colab-df-convert\" onclick=\"convertToInteractive('df-97f79521-136c-4322-b748-527fa209a8e5')\"\n",
              "              title=\"Convert this dataframe to an interactive table.\"\n",
              "              style=\"display:none;\">\n",
              "        \n",
              "  <svg xmlns=\"http://www.w3.org/2000/svg\" height=\"24px\"viewBox=\"0 0 24 24\"\n",
              "       width=\"24px\">\n",
              "    <path d=\"M0 0h24v24H0V0z\" fill=\"none\"/>\n",
              "    <path d=\"M18.56 5.44l.94 2.06.94-2.06 2.06-.94-2.06-.94-.94-2.06-.94 2.06-2.06.94zm-11 1L8.5 8.5l.94-2.06 2.06-.94-2.06-.94L8.5 2.5l-.94 2.06-2.06.94zm10 10l.94 2.06.94-2.06 2.06-.94-2.06-.94-.94-2.06-.94 2.06-2.06.94z\"/><path d=\"M17.41 7.96l-1.37-1.37c-.4-.4-.92-.59-1.43-.59-.52 0-1.04.2-1.43.59L10.3 9.45l-7.72 7.72c-.78.78-.78 2.05 0 2.83L4 21.41c.39.39.9.59 1.41.59.51 0 1.02-.2 1.41-.59l7.78-7.78 2.81-2.81c.8-.78.8-2.07 0-2.86zM5.41 20L4 18.59l7.72-7.72 1.47 1.35L5.41 20z\"/>\n",
              "  </svg>\n",
              "      </button>\n",
              "      \n",
              "  <style>\n",
              "    .colab-df-container {\n",
              "      display:flex;\n",
              "      flex-wrap:wrap;\n",
              "      gap: 12px;\n",
              "    }\n",
              "\n",
              "    .colab-df-convert {\n",
              "      background-color: #E8F0FE;\n",
              "      border: none;\n",
              "      border-radius: 50%;\n",
              "      cursor: pointer;\n",
              "      display: none;\n",
              "      fill: #1967D2;\n",
              "      height: 32px;\n",
              "      padding: 0 0 0 0;\n",
              "      width: 32px;\n",
              "    }\n",
              "\n",
              "    .colab-df-convert:hover {\n",
              "      background-color: #E2EBFA;\n",
              "      box-shadow: 0px 1px 2px rgba(60, 64, 67, 0.3), 0px 1px 3px 1px rgba(60, 64, 67, 0.15);\n",
              "      fill: #174EA6;\n",
              "    }\n",
              "\n",
              "    [theme=dark] .colab-df-convert {\n",
              "      background-color: #3B4455;\n",
              "      fill: #D2E3FC;\n",
              "    }\n",
              "\n",
              "    [theme=dark] .colab-df-convert:hover {\n",
              "      background-color: #434B5C;\n",
              "      box-shadow: 0px 1px 3px 1px rgba(0, 0, 0, 0.15);\n",
              "      filter: drop-shadow(0px 1px 2px rgba(0, 0, 0, 0.3));\n",
              "      fill: #FFFFFF;\n",
              "    }\n",
              "  </style>\n",
              "\n",
              "      <script>\n",
              "        const buttonEl =\n",
              "          document.querySelector('#df-97f79521-136c-4322-b748-527fa209a8e5 button.colab-df-convert');\n",
              "        buttonEl.style.display =\n",
              "          google.colab.kernel.accessAllowed ? 'block' : 'none';\n",
              "\n",
              "        async function convertToInteractive(key) {\n",
              "          const element = document.querySelector('#df-97f79521-136c-4322-b748-527fa209a8e5');\n",
              "          const dataTable =\n",
              "            await google.colab.kernel.invokeFunction('convertToInteractive',\n",
              "                                                     [key], {});\n",
              "          if (!dataTable) return;\n",
              "\n",
              "          const docLinkHtml = 'Like what you see? Visit the ' +\n",
              "            '<a target=\"_blank\" href=https://colab.research.google.com/notebooks/data_table.ipynb>data table notebook</a>'\n",
              "            + ' to learn more about interactive tables.';\n",
              "          element.innerHTML = '';\n",
              "          dataTable['output_type'] = 'display_data';\n",
              "          await google.colab.output.renderOutput(dataTable, element);\n",
              "          const docLink = document.createElement('div');\n",
              "          docLink.innerHTML = docLinkHtml;\n",
              "          element.appendChild(docLink);\n",
              "        }\n",
              "      </script>\n",
              "    </div>\n",
              "  </div>\n",
              "  "
            ]
          },
          "metadata": {},
          "execution_count": 39
        }
      ]
    },
    {
      "cell_type": "markdown",
      "source": [
        "# Преобразуем опыт"
      ],
      "metadata": {
        "id": "Flk1ZZ3BfOJu"
      }
    },
    {
      "cell_type": "code",
      "source": [
        "marketjob_IT['experience']"
      ],
      "metadata": {
        "colab": {
          "base_uri": "https://localhost:8080/"
        },
        "id": "WkqR5LWmfE08",
        "outputId": "73a810c2-7833-432a-85dc-a045a8b8fdf1"
      },
      "execution_count": 40,
      "outputs": [
        {
          "output_type": "execute_result",
          "data": {
            "text/plain": [
              "3          {'id': 'between3And6', 'name': 'От 3 до 6 лет'}\n",
              "6          {'id': 'between3And6', 'name': 'От 3 до 6 лет'}\n",
              "8        {'id': 'between1And3', 'name': 'От 1 года до 3...\n",
              "10         {'id': 'between3And6', 'name': 'От 3 до 6 лет'}\n",
              "17       {'id': 'between1And3', 'name': 'От 1 года до 3...\n",
              "                               ...                        \n",
              "53439    {'id': 'between1And3', 'name': 'От 1 года до 3...\n",
              "53440    {'id': 'between1And3', 'name': 'От 1 года до 3...\n",
              "53443    {'id': 'between1And3', 'name': 'От 1 года до 3...\n",
              "53444      {'id': 'between3And6', 'name': 'От 3 до 6 лет'}\n",
              "53446          {'id': 'noExperience', 'name': 'Нет опыта'}\n",
              "Name: experience, Length: 25883, dtype: object"
            ]
          },
          "metadata": {},
          "execution_count": 40
        }
      ]
    },
    {
      "cell_type": "code",
      "source": [
        "dict1 = eval(\"{'id': 'noExperience', 'name': 'Нет опыта'}\")"
      ],
      "metadata": {
        "id": "FM0WMIoUfV2L"
      },
      "execution_count": 41,
      "outputs": []
    },
    {
      "cell_type": "code",
      "source": [
        "marketjob_IT['experience_json'] = marketjob_IT['experience'].fillna('{}').apply(eval)\n",
        "def get_values(json):\n",
        "  try:\n",
        "    return json['name']\n",
        "  except:\n",
        "    return None\n",
        "marketjob_IT['experience_name'] = marketjob_IT['experience_json'].apply(get_values)"
      ],
      "metadata": {
        "id": "YuRuDaB-fcg8",
        "colab": {
          "base_uri": "https://localhost:8080/"
        },
        "outputId": "dfd73a33-d6be-4d63-c237-f8c3711fb32e"
      },
      "execution_count": 42,
      "outputs": [
        {
          "output_type": "stream",
          "name": "stderr",
          "text": [
            "<ipython-input-42-1cdcf8af7c7d>:1: SettingWithCopyWarning: \n",
            "A value is trying to be set on a copy of a slice from a DataFrame.\n",
            "Try using .loc[row_indexer,col_indexer] = value instead\n",
            "\n",
            "See the caveats in the documentation: https://pandas.pydata.org/pandas-docs/stable/user_guide/indexing.html#returning-a-view-versus-a-copy\n",
            "  marketjob_IT['experience_json'] = marketjob_IT['experience'].fillna('{}').apply(eval)\n",
            "<ipython-input-42-1cdcf8af7c7d>:7: SettingWithCopyWarning: \n",
            "A value is trying to be set on a copy of a slice from a DataFrame.\n",
            "Try using .loc[row_indexer,col_indexer] = value instead\n",
            "\n",
            "See the caveats in the documentation: https://pandas.pydata.org/pandas-docs/stable/user_guide/indexing.html#returning-a-view-versus-a-copy\n",
            "  marketjob_IT['experience_name'] = marketjob_IT['experience_json'].apply(get_values)\n"
          ]
        }
      ]
    },
    {
      "cell_type": "code",
      "source": [
        "marketjob_IT['experience_name'].value_counts()"
      ],
      "metadata": {
        "colab": {
          "base_uri": "https://localhost:8080/"
        },
        "id": "Ke86Mal7fgZ0",
        "outputId": "a6e760f8-ba15-4c58-d3c8-9473ca49b22a"
      },
      "execution_count": 43,
      "outputs": [
        {
          "output_type": "execute_result",
          "data": {
            "text/plain": [
              "От 1 года до 3 лет    12203\n",
              "От 3 до 6 лет         11825\n",
              "Нет опыта               968\n",
              "Более 6 лет             887\n",
              "Name: experience_name, dtype: int64"
            ]
          },
          "metadata": {},
          "execution_count": 43
        }
      ]
    },
    {
      "cell_type": "code",
      "source": [
        "marketjob_IT.to_excel('Вакансии_IT_динамич_на_октябрь_22.xlsx')"
      ],
      "metadata": {
        "id": "LikbPUUBjNws"
      },
      "execution_count": 44,
      "outputs": []
    },
    {
      "cell_type": "markdown",
      "source": [
        "Гипотезы"
      ],
      "metadata": {
        "id": "CoTbQVCeITTM"
      }
    },
    {
      "cell_type": "code",
      "source": [
        "\n"
      ],
      "metadata": {
        "id": "m9fqOTX3gPus"
      },
      "execution_count": 44,
      "outputs": []
    },
    {
      "cell_type": "markdown",
      "source": [
        "\n",
        "import ast \n",
        "x = ast.literal_eval(\"{'from': 25000, 'to': 50000, 'currency': 'RUR', 'gross': True}\")\n",
        "print(x)\n",
        "type(x)\n",
        "dict1 = eval(\"{'from': 25000, 'to': 50000, 'currency': 'RUR', 'gross': True}\")\n",
        "# выведем мин значение зарплаты в отдельный столбец\n",
        "marketjob['salary_json'] = marketjob['salary'].fillna('{}').apply(eval)\n",
        "def get_values(json):\n",
        "  try:\n",
        "    return json['from']\n",
        "  except:\n",
        "    return None\n",
        "marketjob['salary_from'] = marketjob['salary_json'].apply(get_values)\n",
        "# выведем макс значение зарплаты в отдельный столбец\n",
        "def get_values(json):\n",
        "  try:\n",
        "    return json['to']\n",
        "  except:\n",
        "    return None\n",
        "marketjob['salary_to'] = marketjob['salary_json'].apply(get_values)\n",
        "\n",
        "# выведем  значение валют в отдельный столбец\n",
        "def get_values(json):\n",
        "  try:\n",
        "    return json['currency']\n",
        "  except:\n",
        "    return None\n",
        "marketjob['salary_currency'] = marketjob['salary_json'].apply(get_values)\n",
        "\n",
        "# конвертируем зарплату в рубли\n",
        "rates = dict(RUR=1, USD=61.5343, EUR=61.1328, KZT=0.132229) # курс валют по состоянию на 26.05.2022 (источник https://cbr.ru/)\n",
        "marketjob['salary_from_converted_to_rur'] = marketjob['salary_currency'].map(rates) * marketjob['salary_from']\n",
        "marketjob['salary_to_converted_to_rur'] = marketjob['salary_currency'].map(rates) * marketjob['salary_to']\n",
        "\n",
        "# выведем среднее значение заработной платы\n",
        "marketjob[['salary_from_converted_to_rur', 'salary_to_converted_to_rur']].mean(axis= 1)\n",
        "marketjob['salary_mean_to_rub'] = marketjob[['salary_from_converted_to_rur', 'salary_to_converted_to_rur']].mean(axis= 1)\n",
        "marketjob.info()\n",
        "\n",
        "\n",
        "marketjob.to_excel('Рынок_всех_вакансий_на_октябрь_22.xlsx')"
      ],
      "metadata": {
        "id": "meDMPy2iIGWc"
      }
    },
    {
      "cell_type": "markdown",
      "source": [
        "# Гипотезы"
      ],
      "metadata": {
        "id": "bkqmzHWEIXEF"
      }
    },
    {
      "cell_type": "markdown",
      "source": [
        "# Гипотеза 1 в зависимости от опыта заработная плата специалиста вырастает"
      ],
      "metadata": {
        "id": "zGfjHJqSBccj"
      }
    },
    {
      "cell_type": "code",
      "source": [
        "import scipy\n",
        "import scipy.stats as stats\n",
        "import seaborn as sns\n",
        "import sklearn.linear_model as lm"
      ],
      "metadata": {
        "id": "FZGcHygmZ6np"
      },
      "execution_count": 45,
      "outputs": []
    },
    {
      "cell_type": "code",
      "source": [
        "# в зависимости от опыта заработная плата специалиста вырастает\n",
        "marketjob_IT.info()"
      ],
      "metadata": {
        "colab": {
          "base_uri": "https://localhost:8080/"
        },
        "id": "JA8MAPdUIauj",
        "outputId": "0fc3f054-4918-44f6-9499-a82a2f9ed51d"
      },
      "execution_count": 46,
      "outputs": [
        {
          "output_type": "stream",
          "name": "stdout",
          "text": [
            "<class 'pandas.core.frame.DataFrame'>\n",
            "Int64Index: 25883 entries, 3 to 53446\n",
            "Data columns (total 46 columns):\n",
            " #   Column                        Non-Null Count  Dtype  \n",
            "---  ------                        --------------  -----  \n",
            " 0   Unnamed: 0                    25883 non-null  int64  \n",
            " 1   id                            25883 non-null  int64  \n",
            " 2   premium                       25883 non-null  bool   \n",
            " 3   name                          25883 non-null  object \n",
            " 4   department                    3516 non-null   object \n",
            " 5   has_test                      25883 non-null  bool   \n",
            " 6   response_letter_required      25883 non-null  bool   \n",
            " 7   area                          25883 non-null  object \n",
            " 8   salary                        7711 non-null   object \n",
            " 9   type                          25883 non-null  object \n",
            " 10  address                       12057 non-null  object \n",
            " 11  response_url                  2 non-null      object \n",
            " 12  sort_point_distance           0 non-null      float64\n",
            " 13  published_at                  25883 non-null  object \n",
            " 14  created_at                    25883 non-null  object \n",
            " 15  archived                      25883 non-null  bool   \n",
            " 16  apply_alternate_url           25883 non-null  object \n",
            " 17  insider_interview             458 non-null    object \n",
            " 18  url                           25883 non-null  object \n",
            " 19  adv_response_url              25883 non-null  object \n",
            " 20  alternate_url                 25883 non-null  object \n",
            " 21  relations                     25883 non-null  object \n",
            " 22  employer                      25883 non-null  object \n",
            " 23  snippet                       25883 non-null  object \n",
            " 24  contacts                      0 non-null      float64\n",
            " 25  schedule                      25883 non-null  object \n",
            " 26  working_days                  25883 non-null  object \n",
            " 27  working_time_intervals        25883 non-null  object \n",
            " 28  working_time_modes            25883 non-null  object \n",
            " 29  accept_temporary              25883 non-null  bool   \n",
            " 30  experience                    25883 non-null  object \n",
            " 31  key_skills                    23210 non-null  object \n",
            " 32  region                        25883 non-null  object \n",
            " 33  Vacancy                       25883 non-null  object \n",
            " 34  name_job                      25883 non-null  object \n",
            " 35  key_skills_json               25883 non-null  object \n",
            " 36  key_skills_list               25883 non-null  object \n",
            " 37  salary_json                   25883 non-null  object \n",
            " 38  salary_from                   6590 non-null   float64\n",
            " 39  salary_to                     4708 non-null   float64\n",
            " 40  salary_currency               7711 non-null   object \n",
            " 41  salary_from_converted_to_rur  6590 non-null   float64\n",
            " 42  salary_to_converted_to_rur    4708 non-null   float64\n",
            " 43  salary_mean_to_rub            7711 non-null   float64\n",
            " 44  experience_json               25883 non-null  object \n",
            " 45  experience_name               25883 non-null  object \n",
            "dtypes: bool(5), float64(7), int64(2), object(32)\n",
            "memory usage: 8.4+ MB\n"
          ]
        }
      ]
    },
    {
      "cell_type": "markdown",
      "source": [],
      "metadata": {
        "id": "c-zgyl1GPW04"
      }
    },
    {
      "cell_type": "code",
      "source": [
        "new_marketjob_IT = marketjob_IT[['name', 'Vacancy', 'key_skills_list', 'salary_mean_to_rub', 'experience_name']].copy()\n",
        "new_marketjob_IT.info()"
      ],
      "metadata": {
        "colab": {
          "base_uri": "https://localhost:8080/"
        },
        "id": "icyV30NbJ__6",
        "outputId": "3cb093c6-0f53-45b0-fcbb-29e434d6a1e1"
      },
      "execution_count": 47,
      "outputs": [
        {
          "output_type": "stream",
          "name": "stdout",
          "text": [
            "<class 'pandas.core.frame.DataFrame'>\n",
            "Int64Index: 25883 entries, 3 to 53446\n",
            "Data columns (total 5 columns):\n",
            " #   Column              Non-Null Count  Dtype  \n",
            "---  ------              --------------  -----  \n",
            " 0   name                25883 non-null  object \n",
            " 1   Vacancy             25883 non-null  object \n",
            " 2   key_skills_list     25883 non-null  object \n",
            " 3   salary_mean_to_rub  7711 non-null   float64\n",
            " 4   experience_name     25883 non-null  object \n",
            "dtypes: float64(1), object(4)\n",
            "memory usage: 1.2+ MB\n"
          ]
        }
      ]
    },
    {
      "cell_type": "code",
      "source": [
        "marketjob_IT['salary_from_converted_to_rur'].median()"
      ],
      "metadata": {
        "colab": {
          "base_uri": "https://localhost:8080/"
        },
        "id": "1CPTYPfVOflh",
        "outputId": "f91bc8c9-21c4-4e01-ee1e-c19a77a0cf65"
      },
      "execution_count": 48,
      "outputs": [
        {
          "output_type": "execute_result",
          "data": {
            "text/plain": [
              "100000.0"
            ]
          },
          "metadata": {},
          "execution_count": 48
        }
      ]
    },
    {
      "cell_type": "code",
      "source": [
        "#new_marketjob_IT['salary_mean_to_rub'] = new_marketjob_IT['salary_mean_to_rub'].fillna(0).replace(0.0,100000)"
      ],
      "metadata": {
        "id": "YDV2Vl4PUowg"
      },
      "execution_count": 49,
      "outputs": []
    },
    {
      "cell_type": "code",
      "source": [
        "new_marketjob_IT.info()"
      ],
      "metadata": {
        "colab": {
          "base_uri": "https://localhost:8080/"
        },
        "id": "dr-aQ80DVqj6",
        "outputId": "0bdeb437-7217-4206-f32d-84adf83d46a4"
      },
      "execution_count": 50,
      "outputs": [
        {
          "output_type": "stream",
          "name": "stdout",
          "text": [
            "<class 'pandas.core.frame.DataFrame'>\n",
            "Int64Index: 25883 entries, 3 to 53446\n",
            "Data columns (total 5 columns):\n",
            " #   Column              Non-Null Count  Dtype  \n",
            "---  ------              --------------  -----  \n",
            " 0   name                25883 non-null  object \n",
            " 1   Vacancy             25883 non-null  object \n",
            " 2   key_skills_list     25883 non-null  object \n",
            " 3   salary_mean_to_rub  7711 non-null   float64\n",
            " 4   experience_name     25883 non-null  object \n",
            "dtypes: float64(1), object(4)\n",
            "memory usage: 1.2+ MB\n"
          ]
        }
      ]
    },
    {
      "cell_type": "code",
      "source": [
        "new_marketjob_IT['salary_mean_to_rub'].min()"
      ],
      "metadata": {
        "colab": {
          "base_uri": "https://localhost:8080/"
        },
        "id": "_l_M7y1dV4sv",
        "outputId": "b1e93652-0155-411a-c179-3c4f6afdaf4b"
      },
      "execution_count": 51,
      "outputs": [
        {
          "output_type": "execute_result",
          "data": {
            "text/plain": [
              "50.0"
            ]
          },
          "metadata": {},
          "execution_count": 51
        }
      ]
    },
    {
      "cell_type": "code",
      "source": [
        "filter = new_marketjob_IT['salary_mean_to_rub']>10000 # величина мрот с 01.01.2022 https://www.nalog.gov.ru/rn27/news/activities_fts/11814295/?ysclid=l7w721m9mb425838704\n",
        "new_marketjob_IT['salary_mean_to_rub'] = new_marketjob_IT['salary_mean_to_rub'][filter]\n",
        "new_marketjob_IT['salary_mean_to_rub'].min()"
      ],
      "metadata": {
        "colab": {
          "base_uri": "https://localhost:8080/"
        },
        "id": "BLZ6DZoOWBWX",
        "outputId": "120a3e3e-07a1-4de5-ba36-f6a182fb4a4c"
      },
      "execution_count": 52,
      "outputs": [
        {
          "output_type": "execute_result",
          "data": {
            "text/plain": [
              "12500.0"
            ]
          },
          "metadata": {},
          "execution_count": 52
        }
      ]
    },
    {
      "cell_type": "code",
      "source": [
        "new_marketjob_IT['experience_name']"
      ],
      "metadata": {
        "colab": {
          "base_uri": "https://localhost:8080/"
        },
        "id": "BOZ8Et2DW5Bw",
        "outputId": "2e7577a6-12ec-4f11-849f-6f127070aaf1"
      },
      "execution_count": 53,
      "outputs": [
        {
          "output_type": "execute_result",
          "data": {
            "text/plain": [
              "3             От 3 до 6 лет\n",
              "6             От 3 до 6 лет\n",
              "8        От 1 года до 3 лет\n",
              "10            От 3 до 6 лет\n",
              "17       От 1 года до 3 лет\n",
              "                ...        \n",
              "53439    От 1 года до 3 лет\n",
              "53440    От 1 года до 3 лет\n",
              "53443    От 1 года до 3 лет\n",
              "53444         От 3 до 6 лет\n",
              "53446             Нет опыта\n",
              "Name: experience_name, Length: 25883, dtype: object"
            ]
          },
          "metadata": {},
          "execution_count": 53
        }
      ]
    },
    {
      "cell_type": "code",
      "source": [
        "new_marketjob_IT['experience'] = new_marketjob_IT['experience_name']\n",
        "new_marketjob_IT = new_marketjob_IT.replace({'experience' : {'Нет опыта' : '1', 'От 1 года до 3 лет' : '2', 'От 3 до 6 лет' : '3', 'Более 6 лет' : '4'}})\n",
        "new_marketjob_IT.info()"
      ],
      "metadata": {
        "colab": {
          "base_uri": "https://localhost:8080/"
        },
        "id": "YKEXhjErWnFp",
        "outputId": "d66bbabd-fe72-4d7b-e4e2-4b59c5828b15"
      },
      "execution_count": 54,
      "outputs": [
        {
          "output_type": "stream",
          "name": "stdout",
          "text": [
            "<class 'pandas.core.frame.DataFrame'>\n",
            "Int64Index: 25883 entries, 3 to 53446\n",
            "Data columns (total 6 columns):\n",
            " #   Column              Non-Null Count  Dtype  \n",
            "---  ------              --------------  -----  \n",
            " 0   name                25883 non-null  object \n",
            " 1   Vacancy             25883 non-null  object \n",
            " 2   key_skills_list     25883 non-null  object \n",
            " 3   salary_mean_to_rub  7698 non-null   float64\n",
            " 4   experience_name     25883 non-null  object \n",
            " 5   experience          25883 non-null  object \n",
            "dtypes: float64(1), object(5)\n",
            "memory usage: 1.4+ MB\n"
          ]
        }
      ]
    },
    {
      "cell_type": "code",
      "source": [
        "new_marketjob_IT['experience'] = new_marketjob_IT['experience'].astype(int)\n",
        "new_marketjob_IT.info()"
      ],
      "metadata": {
        "colab": {
          "base_uri": "https://localhost:8080/"
        },
        "id": "wWuL7jmJYUr2",
        "outputId": "79689a74-bd73-4c5a-e34e-f6f025c3fcca"
      },
      "execution_count": 55,
      "outputs": [
        {
          "output_type": "stream",
          "name": "stdout",
          "text": [
            "<class 'pandas.core.frame.DataFrame'>\n",
            "Int64Index: 25883 entries, 3 to 53446\n",
            "Data columns (total 6 columns):\n",
            " #   Column              Non-Null Count  Dtype  \n",
            "---  ------              --------------  -----  \n",
            " 0   name                25883 non-null  object \n",
            " 1   Vacancy             25883 non-null  object \n",
            " 2   key_skills_list     25883 non-null  object \n",
            " 3   salary_mean_to_rub  7698 non-null   float64\n",
            " 4   experience_name     25883 non-null  object \n",
            " 5   experience          25883 non-null  int64  \n",
            "dtypes: float64(1), int64(1), object(4)\n",
            "memory usage: 1.4+ MB\n"
          ]
        }
      ]
    },
    {
      "cell_type": "code",
      "source": [
        "new_marketjob_IT_nan = new_marketjob_IT.dropna(subset=['salary_mean_to_rub'])"
      ],
      "metadata": {
        "id": "TQFHfcAYZcM4"
      },
      "execution_count": 56,
      "outputs": []
    },
    {
      "cell_type": "code",
      "source": [
        "new_marketjob_IT_nan.plot('experience','salary_mean_to_rub',kind=\"scatter\", xlabel='Опыт', ylabel='Средняя заработная плата, руб.')"
      ],
      "metadata": {
        "colab": {
          "base_uri": "https://localhost:8080/",
          "height": 307
        },
        "id": "lSRHsrfjYe22",
        "outputId": "975ceb3e-8869-4d00-c123-bb9485b5776b"
      },
      "execution_count": 57,
      "outputs": [
        {
          "output_type": "execute_result",
          "data": {
            "text/plain": [
              "<matplotlib.axes._subplots.AxesSubplot at 0x7fe9b5293ac0>"
            ]
          },
          "metadata": {},
          "execution_count": 57
        },
        {
          "output_type": "display_data",
          "data": {
            "text/plain": [
              "<Figure size 432x288 with 1 Axes>"
            ],
            "image/png": "[encoded data removed]"
          },
          "metadata": {
            "needs_background": "light"
          }
        }
      ]
    },
    {
      "cell_type": "code",
      "source": [
        "#удалим выброс\n",
        "#new_marketjob_IT_nan = new_marketjob_IT_nan.drop(new_marketjob_IT_nan.loc[new_marketjob_IT_nan['salary_mean_to_rub'] > 750000].index)"
      ],
      "metadata": {
        "id": "bPdPxJsd2aJD"
      },
      "execution_count": 58,
      "outputs": []
    },
    {
      "cell_type": "code",
      "source": [
        "#new_marketjob_IT_nan.plot('experience','salary_mean_to_rub',kind=\"scatter\", xlabel='Опыт', ylabel='Средняя заработная плата, руб.')"
      ],
      "metadata": {
        "id": "_CGVtHIh3DcS"
      },
      "execution_count": 59,
      "outputs": []
    },
    {
      "cell_type": "code",
      "source": [
        "# количественная корреляция Пирсона\n",
        "new_marketjob_IT_nan[['salary_mean_to_rub', 'experience']].corr()\n"
      ],
      "metadata": {
        "colab": {
          "base_uri": "https://localhost:8080/",
          "height": 112
        },
        "id": "vF59BX_BYpV-",
        "outputId": "7aff4de9-827b-409d-f928-3449a7d47b00"
      },
      "execution_count": 60,
      "outputs": [
        {
          "output_type": "execute_result",
          "data": {
            "text/plain": [
              "                    salary_mean_to_rub  experience\n",
              "salary_mean_to_rub            1.000000    0.523955\n",
              "experience                    0.523955    1.000000"
            ],
            "text/html": [
              "\n",
              "  <div id=\"df-cb011d49-d1c9-420c-a26d-5548667269f6\">\n",
              "    <div class=\"colab-df-container\">\n",
              "      <div>\n",
              "<style scoped>\n",
              "    .dataframe tbody tr th:only-of-type {\n",
              "        vertical-align: middle;\n",
              "    }\n",
              "\n",
              "    .dataframe tbody tr th {\n",
              "        vertical-align: top;\n",
              "    }\n",
              "\n",
              "    .dataframe thead th {\n",
              "        text-align: right;\n",
              "    }\n",
              "</style>\n",
              "<table border=\"1\" class=\"dataframe\">\n",
              "  <thead>\n",
              "    <tr style=\"text-align: right;\">\n",
              "      <th></th>\n",
              "      <th>salary_mean_to_rub</th>\n",
              "      <th>experience</th>\n",
              "    </tr>\n",
              "  </thead>\n",
              "  <tbody>\n",
              "    <tr>\n",
              "      <th>salary_mean_to_rub</th>\n",
              "      <td>1.000000</td>\n",
              "      <td>0.523955</td>\n",
              "    </tr>\n",
              "    <tr>\n",
              "      <th>experience</th>\n",
              "      <td>0.523955</td>\n",
              "      <td>1.000000</td>\n",
              "    </tr>\n",
              "  </tbody>\n",
              "</table>\n",
              "</div>\n",
              "      <button class=\"colab-df-convert\" onclick=\"convertToInteractive('df-cb011d49-d1c9-420c-a26d-5548667269f6')\"\n",
              "              title=\"Convert this dataframe to an interactive table.\"\n",
              "              style=\"display:none;\">\n",
              "        \n",
              "  <svg xmlns=\"http://www.w3.org/2000/svg\" height=\"24px\"viewBox=\"0 0 24 24\"\n",
              "       width=\"24px\">\n",
              "    <path d=\"M0 0h24v24H0V0z\" fill=\"none\"/>\n",
              "    <path d=\"M18.56 5.44l.94 2.06.94-2.06 2.06-.94-2.06-.94-.94-2.06-.94 2.06-2.06.94zm-11 1L8.5 8.5l.94-2.06 2.06-.94-2.06-.94L8.5 2.5l-.94 2.06-2.06.94zm10 10l.94 2.06.94-2.06 2.06-.94-2.06-.94-.94-2.06-.94 2.06-2.06.94z\"/><path d=\"M17.41 7.96l-1.37-1.37c-.4-.4-.92-.59-1.43-.59-.52 0-1.04.2-1.43.59L10.3 9.45l-7.72 7.72c-.78.78-.78 2.05 0 2.83L4 21.41c.39.39.9.59 1.41.59.51 0 1.02-.2 1.41-.59l7.78-7.78 2.81-2.81c.8-.78.8-2.07 0-2.86zM5.41 20L4 18.59l7.72-7.72 1.47 1.35L5.41 20z\"/>\n",
              "  </svg>\n",
              "      </button>\n",
              "      \n",
              "  <style>\n",
              "    .colab-df-container {\n",
              "      display:flex;\n",
              "      flex-wrap:wrap;\n",
              "      gap: 12px;\n",
              "    }\n",
              "\n",
              "    .colab-df-convert {\n",
              "      background-color: #E8F0FE;\n",
              "      border: none;\n",
              "      border-radius: 50%;\n",
              "      cursor: pointer;\n",
              "      display: none;\n",
              "      fill: #1967D2;\n",
              "      height: 32px;\n",
              "      padding: 0 0 0 0;\n",
              "      width: 32px;\n",
              "    }\n",
              "\n",
              "    .colab-df-convert:hover {\n",
              "      background-color: #E2EBFA;\n",
              "      box-shadow: 0px 1px 2px rgba(60, 64, 67, 0.3), 0px 1px 3px 1px rgba(60, 64, 67, 0.15);\n",
              "      fill: #174EA6;\n",
              "    }\n",
              "\n",
              "    [theme=dark] .colab-df-convert {\n",
              "      background-color: #3B4455;\n",
              "      fill: #D2E3FC;\n",
              "    }\n",
              "\n",
              "    [theme=dark] .colab-df-convert:hover {\n",
              "      background-color: #434B5C;\n",
              "      box-shadow: 0px 1px 3px 1px rgba(0, 0, 0, 0.15);\n",
              "      filter: drop-shadow(0px 1px 2px rgba(0, 0, 0, 0.3));\n",
              "      fill: #FFFFFF;\n",
              "    }\n",
              "  </style>\n",
              "\n",
              "      <script>\n",
              "        const buttonEl =\n",
              "          document.querySelector('#df-cb011d49-d1c9-420c-a26d-5548667269f6 button.colab-df-convert');\n",
              "        buttonEl.style.display =\n",
              "          google.colab.kernel.accessAllowed ? 'block' : 'none';\n",
              "\n",
              "        async function convertToInteractive(key) {\n",
              "          const element = document.querySelector('#df-cb011d49-d1c9-420c-a26d-5548667269f6');\n",
              "          const dataTable =\n",
              "            await google.colab.kernel.invokeFunction('convertToInteractive',\n",
              "                                                     [key], {});\n",
              "          if (!dataTable) return;\n",
              "\n",
              "          const docLinkHtml = 'Like what you see? Visit the ' +\n",
              "            '<a target=\"_blank\" href=https://colab.research.google.com/notebooks/data_table.ipynb>data table notebook</a>'\n",
              "            + ' to learn more about interactive tables.';\n",
              "          element.innerHTML = '';\n",
              "          dataTable['output_type'] = 'display_data';\n",
              "          await google.colab.output.renderOutput(dataTable, element);\n",
              "          const docLink = document.createElement('div');\n",
              "          docLink.innerHTML = docLinkHtml;\n",
              "          element.appendChild(docLink);\n",
              "        }\n",
              "      </script>\n",
              "    </div>\n",
              "  </div>\n",
              "  "
            ]
          },
          "metadata": {},
          "execution_count": 60
        }
      ]
    },
    {
      "cell_type": "code",
      "source": [
        "scipy.stats.pearsonr(new_marketjob_IT_nan.salary_mean_to_rub, new_marketjob_IT_nan.experience)\n"
      ],
      "metadata": {
        "colab": {
          "base_uri": "https://localhost:8080/"
        },
        "id": "cNw-YE06Z-v-",
        "outputId": "48a0625d-d956-4a4a-b76e-c055a712bf73"
      },
      "execution_count": 61,
      "outputs": [
        {
          "output_type": "execute_result",
          "data": {
            "text/plain": [
              "(0.5239549654978812, 0.0)"
            ]
          },
          "metadata": {},
          "execution_count": 61
        }
      ]
    },
    {
      "cell_type": "markdown",
      "source": [
        "Поскольку pvalue значительно ниже заданного уровня значимости (0,05), то гипотеза H0 отклоняется. \n",
        "\n",
        "Таким образом, данное отличие является статистичики значимым, т.е. опыт оказывает влияние на размер заработной платы."
      ],
      "metadata": {
        "id": "L1ptmCeRaNR_"
      }
    },
    {
      "cell_type": "markdown",
      "source": [
        "# Гипотеза2\n",
        "2а: Владение навыками Kubernetes статистически значимо повышает уровень зарплаты для DevOps-инженера.\n",
        "\n",
        "2б: Владение навыками Ansible статистически значимо повышает уровень зарплаты для DevOps-инженера.\n",
        "\n",
        "2в: Владение навыками Docker статистически значимо повышает уровень зарплаты для DevOps-инженера."
      ],
      "metadata": {
        "id": "SyThV8fBBtU6"
      }
    },
    {
      "cell_type": "code",
      "source": [
        "# выбирем наиболее востребованные и оплачиваемые вакансии для  DevOps-инженера\n",
        "new_marketjob_IT_skills = new_marketjob_IT_nan.explode('key_skills_list'). reset_index(drop= True )# разобъем списки со скиллами по строкам\n",
        "new_marketjob_IT_skills['key_skills_list'].dropna()\n",
        "\n",
        "filter = new_marketjob_IT_skills['Vacancy']=='DevOps-инженер'# отфильтруем датасет по вакансии \n",
        "filtered_devops =new_marketjob_IT_skills[filter]\n",
        "\n",
        "devops_skills_top = filtered_devops['key_skills_list'].value_counts().head(10) # создадим список топ-10 навыков \n",
        "devops_skills_top_list = devops_skills_top.index.tolist()\n",
        "\n",
        "districts = devops_skills_top_list # создадим фильтер по списку топ-10 навыков\n",
        "filter = filtered_devops['key_skills_list'].isin(districts)\n",
        "filtered_devops_skills_top = filtered_devops[filter]\n",
        "\n",
        "group_devops_skills = filtered_devops_skills_top.groupby('key_skills_list')['salary_mean_to_rub'].median() # сгруппируем топ-10 навыков по з/п по убыванию\n",
        "sorted_devops_skills = group_devops_skills.sort_values(ascending=False)\n",
        "sorted_devops_skills"
      ],
      "metadata": {
        "colab": {
          "base_uri": "https://localhost:8080/"
        },
        "id": "_Sn89tggB8xp",
        "outputId": "c8bdf4b0-2665-4e02-dbdb-70e94b378018"
      },
      "execution_count": 62,
      "outputs": [
        {
          "output_type": "execute_result",
          "data": {
            "text/plain": [
              "key_skills_list\n",
              "CI/CD         246137.2\n",
              "Kubernetes    246137.2\n",
              "Ansible       227500.0\n",
              "Bash          225000.0\n",
              "DevOps        225000.0\n",
              "Docker        225000.0\n",
              "Linux         225000.0\n",
              "Nginx         225000.0\n",
              "PostgreSQL    225000.0\n",
              "Git           215000.0\n",
              "Name: salary_mean_to_rub, dtype: float64"
            ]
          },
          "metadata": {},
          "execution_count": 62
        }
      ]
    },
    {
      "cell_type": "code",
      "source": [
        "devops_skills_top"
      ],
      "metadata": {
        "colab": {
          "base_uri": "https://localhost:8080/"
        },
        "id": "1MzpHIUZFXCw",
        "outputId": "cb4e868e-949b-448f-89c9-b6842bb0c16d"
      },
      "execution_count": 63,
      "outputs": [
        {
          "output_type": "execute_result",
          "data": {
            "text/plain": [
              "Linux         137\n",
              "Docker        135\n",
              "Kubernetes    110\n",
              "Bash           79\n",
              "Ansible        76\n",
              "CI/CD          75\n",
              "PostgreSQL     70\n",
              "Nginx          67\n",
              "Git            64\n",
              "DevOps         57\n",
              "Name: key_skills_list, dtype: int64"
            ]
          },
          "metadata": {},
          "execution_count": 63
        }
      ]
    },
    {
      "cell_type": "code",
      "source": [
        "filter = new_marketjob_IT_nan['Vacancy']=='DevOps-инженер'# отфильтруем датасет по вакансии \n",
        "devops_vac =new_marketjob_IT_nan[filter]\n",
        "devops_vac"
      ],
      "metadata": {
        "colab": {
          "base_uri": "https://localhost:8080/",
          "height": 424
        },
        "id": "Yorsmg3sF4Vg",
        "outputId": "a1d7e67f-b287-4434-f9f9-5dede1f5dcad"
      },
      "execution_count": 64,
      "outputs": [
        {
          "output_type": "execute_result",
          "data": {
            "text/plain": [
              "                                                    name         Vacancy  \\\n",
              "544                                      DevOps engineer  DevOps-инженер   \n",
              "584        Стажёр по направлению \"DevOps\" от SBERSEASONS  DevOps-инженер   \n",
              "611                              DevOps инженер (senior)  DevOps-инженер   \n",
              "795                               Head of DevOps (Dubai)  DevOps-инженер   \n",
              "876                         DevOps Engineer (to Yerevan)  DevOps-инженер   \n",
              "...                                                  ...             ...   \n",
              "52468                                  Specialist DevOps  DevOps-инженер   \n",
              "52683                                  Specialist DevOps  DevOps-инженер   \n",
              "52969                                  Specialist DevOps  DevOps-инженер   \n",
              "53151                                  Specialist DevOps  DevOps-инженер   \n",
              "53321  Системный администратор Cassandra/ DevOps инженер  DevOps-инженер   \n",
              "\n",
              "                                         key_skills_list  salary_mean_to_rub  \\\n",
              "544    [DevOps, Gitlab CI, Kubernetes, Linux, Terrafo...            183398.4   \n",
              "584                   [Hadoop, Python, SCALA, SQL, Hive]             57550.0   \n",
              "611    [Управление проектами, SQL, TeamCity, MS SQL, ...            300000.0   \n",
              "795    [Git, AWS, Linux, Kubernetes, Java, Python, CI...            615343.0   \n",
              "876    [Linux, Bash, Python, AWS, PostgreSQL, Elastic...            200000.0   \n",
              "...                                                  ...                 ...   \n",
              "52468                                                 []            280000.0   \n",
              "52683                                                 []            280000.0   \n",
              "52969                                                 []            280000.0   \n",
              "53151                                                 []            280000.0   \n",
              "53321  [Kubernetes, PostgreSQL, Мониторинг, Аnsible, ...            230000.0   \n",
              "\n",
              "      experience_name  experience  \n",
              "544     От 3 до 6 лет           3  \n",
              "584         Нет опыта           1  \n",
              "611     От 3 до 6 лет           3  \n",
              "795     От 3 до 6 лет           3  \n",
              "876     От 3 до 6 лет           3  \n",
              "...               ...         ...  \n",
              "52468   От 3 до 6 лет           3  \n",
              "52683   От 3 до 6 лет           3  \n",
              "52969   От 3 до 6 лет           3  \n",
              "53151   От 3 до 6 лет           3  \n",
              "53321   От 3 до 6 лет           3  \n",
              "\n",
              "[210 rows x 6 columns]"
            ],
            "text/html": [
              "\n",
              "  <div id=\"df-24eeb7c6-da81-4f24-9663-122b110ff910\">\n",
              "    <div class=\"colab-df-container\">\n",
              "      <div>\n",
              "<style scoped>\n",
              "    .dataframe tbody tr th:only-of-type {\n",
              "        vertical-align: middle;\n",
              "    }\n",
              "\n",
              "    .dataframe tbody tr th {\n",
              "        vertical-align: top;\n",
              "    }\n",
              "\n",
              "    .dataframe thead th {\n",
              "        text-align: right;\n",
              "    }\n",
              "</style>\n",
              "<table border=\"1\" class=\"dataframe\">\n",
              "  <thead>\n",
              "    <tr style=\"text-align: right;\">\n",
              "      <th></th>\n",
              "      <th>name</th>\n",
              "      <th>Vacancy</th>\n",
              "      <th>key_skills_list</th>\n",
              "      <th>salary_mean_to_rub</th>\n",
              "      <th>experience_name</th>\n",
              "      <th>experience</th>\n",
              "    </tr>\n",
              "  </thead>\n",
              "  <tbody>\n",
              "    <tr>\n",
              "      <th>544</th>\n",
              "      <td>DevOps engineer</td>\n",
              "      <td>DevOps-инженер</td>\n",
              "      <td>[DevOps, Gitlab CI, Kubernetes, Linux, Terrafo...</td>\n",
              "      <td>183398.4</td>\n",
              "      <td>От 3 до 6 лет</td>\n",
              "      <td>3</td>\n",
              "    </tr>\n",
              "    <tr>\n",
              "      <th>584</th>\n",
              "      <td>Стажёр по направлению \"DevOps\" от SBERSEASONS</td>\n",
              "      <td>DevOps-инженер</td>\n",
              "      <td>[Hadoop, Python, SCALA, SQL, Hive]</td>\n",
              "      <td>57550.0</td>\n",
              "      <td>Нет опыта</td>\n",
              "      <td>1</td>\n",
              "    </tr>\n",
              "    <tr>\n",
              "      <th>611</th>\n",
              "      <td>DevOps инженер (senior)</td>\n",
              "      <td>DevOps-инженер</td>\n",
              "      <td>[Управление проектами, SQL, TeamCity, MS SQL, ...</td>\n",
              "      <td>300000.0</td>\n",
              "      <td>От 3 до 6 лет</td>\n",
              "      <td>3</td>\n",
              "    </tr>\n",
              "    <tr>\n",
              "      <th>795</th>\n",
              "      <td>Head of DevOps (Dubai)</td>\n",
              "      <td>DevOps-инженер</td>\n",
              "      <td>[Git, AWS, Linux, Kubernetes, Java, Python, CI...</td>\n",
              "      <td>615343.0</td>\n",
              "      <td>От 3 до 6 лет</td>\n",
              "      <td>3</td>\n",
              "    </tr>\n",
              "    <tr>\n",
              "      <th>876</th>\n",
              "      <td>DevOps Engineer (to Yerevan)</td>\n",
              "      <td>DevOps-инженер</td>\n",
              "      <td>[Linux, Bash, Python, AWS, PostgreSQL, Elastic...</td>\n",
              "      <td>200000.0</td>\n",
              "      <td>От 3 до 6 лет</td>\n",
              "      <td>3</td>\n",
              "    </tr>\n",
              "    <tr>\n",
              "      <th>...</th>\n",
              "      <td>...</td>\n",
              "      <td>...</td>\n",
              "      <td>...</td>\n",
              "      <td>...</td>\n",
              "      <td>...</td>\n",
              "      <td>...</td>\n",
              "    </tr>\n",
              "    <tr>\n",
              "      <th>52468</th>\n",
              "      <td>Specialist DevOps</td>\n",
              "      <td>DevOps-инженер</td>\n",
              "      <td>[]</td>\n",
              "      <td>280000.0</td>\n",
              "      <td>От 3 до 6 лет</td>\n",
              "      <td>3</td>\n",
              "    </tr>\n",
              "    <tr>\n",
              "      <th>52683</th>\n",
              "      <td>Specialist DevOps</td>\n",
              "      <td>DevOps-инженер</td>\n",
              "      <td>[]</td>\n",
              "      <td>280000.0</td>\n",
              "      <td>От 3 до 6 лет</td>\n",
              "      <td>3</td>\n",
              "    </tr>\n",
              "    <tr>\n",
              "      <th>52969</th>\n",
              "      <td>Specialist DevOps</td>\n",
              "      <td>DevOps-инженер</td>\n",
              "      <td>[]</td>\n",
              "      <td>280000.0</td>\n",
              "      <td>От 3 до 6 лет</td>\n",
              "      <td>3</td>\n",
              "    </tr>\n",
              "    <tr>\n",
              "      <th>53151</th>\n",
              "      <td>Specialist DevOps</td>\n",
              "      <td>DevOps-инженер</td>\n",
              "      <td>[]</td>\n",
              "      <td>280000.0</td>\n",
              "      <td>От 3 до 6 лет</td>\n",
              "      <td>3</td>\n",
              "    </tr>\n",
              "    <tr>\n",
              "      <th>53321</th>\n",
              "      <td>Системный администратор Cassandra/ DevOps инженер</td>\n",
              "      <td>DevOps-инженер</td>\n",
              "      <td>[Kubernetes, PostgreSQL, Мониторинг, Аnsible, ...</td>\n",
              "      <td>230000.0</td>\n",
              "      <td>От 3 до 6 лет</td>\n",
              "      <td>3</td>\n",
              "    </tr>\n",
              "  </tbody>\n",
              "</table>\n",
              "<p>210 rows × 6 columns</p>\n",
              "</div>\n",
              "      <button class=\"colab-df-convert\" onclick=\"convertToInteractive('df-24eeb7c6-da81-4f24-9663-122b110ff910')\"\n",
              "              title=\"Convert this dataframe to an interactive table.\"\n",
              "              style=\"display:none;\">\n",
              "        \n",
              "  <svg xmlns=\"http://www.w3.org/2000/svg\" height=\"24px\"viewBox=\"0 0 24 24\"\n",
              "       width=\"24px\">\n",
              "    <path d=\"M0 0h24v24H0V0z\" fill=\"none\"/>\n",
              "    <path d=\"M18.56 5.44l.94 2.06.94-2.06 2.06-.94-2.06-.94-.94-2.06-.94 2.06-2.06.94zm-11 1L8.5 8.5l.94-2.06 2.06-.94-2.06-.94L8.5 2.5l-.94 2.06-2.06.94zm10 10l.94 2.06.94-2.06 2.06-.94-2.06-.94-.94-2.06-.94 2.06-2.06.94z\"/><path d=\"M17.41 7.96l-1.37-1.37c-.4-.4-.92-.59-1.43-.59-.52 0-1.04.2-1.43.59L10.3 9.45l-7.72 7.72c-.78.78-.78 2.05 0 2.83L4 21.41c.39.39.9.59 1.41.59.51 0 1.02-.2 1.41-.59l7.78-7.78 2.81-2.81c.8-.78.8-2.07 0-2.86zM5.41 20L4 18.59l7.72-7.72 1.47 1.35L5.41 20z\"/>\n",
              "  </svg>\n",
              "      </button>\n",
              "      \n",
              "  <style>\n",
              "    .colab-df-container {\n",
              "      display:flex;\n",
              "      flex-wrap:wrap;\n",
              "      gap: 12px;\n",
              "    }\n",
              "\n",
              "    .colab-df-convert {\n",
              "      background-color: #E8F0FE;\n",
              "      border: none;\n",
              "      border-radius: 50%;\n",
              "      cursor: pointer;\n",
              "      display: none;\n",
              "      fill: #1967D2;\n",
              "      height: 32px;\n",
              "      padding: 0 0 0 0;\n",
              "      width: 32px;\n",
              "    }\n",
              "\n",
              "    .colab-df-convert:hover {\n",
              "      background-color: #E2EBFA;\n",
              "      box-shadow: 0px 1px 2px rgba(60, 64, 67, 0.3), 0px 1px 3px 1px rgba(60, 64, 67, 0.15);\n",
              "      fill: #174EA6;\n",
              "    }\n",
              "\n",
              "    [theme=dark] .colab-df-convert {\n",
              "      background-color: #3B4455;\n",
              "      fill: #D2E3FC;\n",
              "    }\n",
              "\n",
              "    [theme=dark] .colab-df-convert:hover {\n",
              "      background-color: #434B5C;\n",
              "      box-shadow: 0px 1px 3px 1px rgba(0, 0, 0, 0.15);\n",
              "      filter: drop-shadow(0px 1px 2px rgba(0, 0, 0, 0.3));\n",
              "      fill: #FFFFFF;\n",
              "    }\n",
              "  </style>\n",
              "\n",
              "      <script>\n",
              "        const buttonEl =\n",
              "          document.querySelector('#df-24eeb7c6-da81-4f24-9663-122b110ff910 button.colab-df-convert');\n",
              "        buttonEl.style.display =\n",
              "          google.colab.kernel.accessAllowed ? 'block' : 'none';\n",
              "\n",
              "        async function convertToInteractive(key) {\n",
              "          const element = document.querySelector('#df-24eeb7c6-da81-4f24-9663-122b110ff910');\n",
              "          const dataTable =\n",
              "            await google.colab.kernel.invokeFunction('convertToInteractive',\n",
              "                                                     [key], {});\n",
              "          if (!dataTable) return;\n",
              "\n",
              "          const docLinkHtml = 'Like what you see? Visit the ' +\n",
              "            '<a target=\"_blank\" href=https://colab.research.google.com/notebooks/data_table.ipynb>data table notebook</a>'\n",
              "            + ' to learn more about interactive tables.';\n",
              "          element.innerHTML = '';\n",
              "          dataTable['output_type'] = 'display_data';\n",
              "          await google.colab.output.renderOutput(dataTable, element);\n",
              "          const docLink = document.createElement('div');\n",
              "          docLink.innerHTML = docLinkHtml;\n",
              "          element.appendChild(docLink);\n",
              "        }\n",
              "      </script>\n",
              "    </div>\n",
              "  </div>\n",
              "  "
            ]
          },
          "metadata": {},
          "execution_count": 64
        }
      ]
    },
    {
      "cell_type": "code",
      "source": [
        "# Присвоим порядковые значения для навыка Kubernetes\n",
        "new_marketjob_IT_DEVOPS_1 = devops_vac\n",
        "def parse_values(row):\n",
        "    s=''\n",
        "    if 'Kubernetes' in row['key_skills_list'] : s = 1\n",
        "    else:\n",
        "      s = 0\n",
        "    return s\n",
        "\n",
        "new_marketjob_IT_DEVOPS_1['Skills_number'] = new_marketjob_IT_DEVOPS_1.apply(parse_values,axis=1)\n",
        "new_marketjob_IT_DEVOPS_1.head()"
      ],
      "metadata": {
        "colab": {
          "base_uri": "https://localhost:8080/",
          "height": 354
        },
        "id": "5U2NvszTGEx3",
        "outputId": "651c8e1e-5014-48a1-fd6e-bc7785c08294"
      },
      "execution_count": 65,
      "outputs": [
        {
          "output_type": "stream",
          "name": "stderr",
          "text": [
            "<ipython-input-65-09a4302a255a>:10: SettingWithCopyWarning: \n",
            "A value is trying to be set on a copy of a slice from a DataFrame.\n",
            "Try using .loc[row_indexer,col_indexer] = value instead\n",
            "\n",
            "See the caveats in the documentation: https://pandas.pydata.org/pandas-docs/stable/user_guide/indexing.html#returning-a-view-versus-a-copy\n",
            "  new_marketjob_IT_DEVOPS_1['Skills_number'] = new_marketjob_IT_DEVOPS_1.apply(parse_values,axis=1)\n"
          ]
        },
        {
          "output_type": "execute_result",
          "data": {
            "text/plain": [
              "                                              name         Vacancy  \\\n",
              "544                                DevOps engineer  DevOps-инженер   \n",
              "584  Стажёр по направлению \"DevOps\" от SBERSEASONS  DevOps-инженер   \n",
              "611                        DevOps инженер (senior)  DevOps-инженер   \n",
              "795                         Head of DevOps (Dubai)  DevOps-инженер   \n",
              "876                   DevOps Engineer (to Yerevan)  DevOps-инженер   \n",
              "\n",
              "                                       key_skills_list  salary_mean_to_rub  \\\n",
              "544  [DevOps, Gitlab CI, Kubernetes, Linux, Terrafo...            183398.4   \n",
              "584                 [Hadoop, Python, SCALA, SQL, Hive]             57550.0   \n",
              "611  [Управление проектами, SQL, TeamCity, MS SQL, ...            300000.0   \n",
              "795  [Git, AWS, Linux, Kubernetes, Java, Python, CI...            615343.0   \n",
              "876  [Linux, Bash, Python, AWS, PostgreSQL, Elastic...            200000.0   \n",
              "\n",
              "    experience_name  experience  Skills_number  \n",
              "544   От 3 до 6 лет           3              1  \n",
              "584       Нет опыта           1              0  \n",
              "611   От 3 до 6 лет           3              1  \n",
              "795   От 3 до 6 лет           3              1  \n",
              "876   От 3 до 6 лет           3              0  "
            ],
            "text/html": [
              "\n",
              "  <div id=\"df-843f7030-7e1a-4f1a-9757-e8ad1ed183f2\">\n",
              "    <div class=\"colab-df-container\">\n",
              "      <div>\n",
              "<style scoped>\n",
              "    .dataframe tbody tr th:only-of-type {\n",
              "        vertical-align: middle;\n",
              "    }\n",
              "\n",
              "    .dataframe tbody tr th {\n",
              "        vertical-align: top;\n",
              "    }\n",
              "\n",
              "    .dataframe thead th {\n",
              "        text-align: right;\n",
              "    }\n",
              "</style>\n",
              "<table border=\"1\" class=\"dataframe\">\n",
              "  <thead>\n",
              "    <tr style=\"text-align: right;\">\n",
              "      <th></th>\n",
              "      <th>name</th>\n",
              "      <th>Vacancy</th>\n",
              "      <th>key_skills_list</th>\n",
              "      <th>salary_mean_to_rub</th>\n",
              "      <th>experience_name</th>\n",
              "      <th>experience</th>\n",
              "      <th>Skills_number</th>\n",
              "    </tr>\n",
              "  </thead>\n",
              "  <tbody>\n",
              "    <tr>\n",
              "      <th>544</th>\n",
              "      <td>DevOps engineer</td>\n",
              "      <td>DevOps-инженер</td>\n",
              "      <td>[DevOps, Gitlab CI, Kubernetes, Linux, Terrafo...</td>\n",
              "      <td>183398.4</td>\n",
              "      <td>От 3 до 6 лет</td>\n",
              "      <td>3</td>\n",
              "      <td>1</td>\n",
              "    </tr>\n",
              "    <tr>\n",
              "      <th>584</th>\n",
              "      <td>Стажёр по направлению \"DevOps\" от SBERSEASONS</td>\n",
              "      <td>DevOps-инженер</td>\n",
              "      <td>[Hadoop, Python, SCALA, SQL, Hive]</td>\n",
              "      <td>57550.0</td>\n",
              "      <td>Нет опыта</td>\n",
              "      <td>1</td>\n",
              "      <td>0</td>\n",
              "    </tr>\n",
              "    <tr>\n",
              "      <th>611</th>\n",
              "      <td>DevOps инженер (senior)</td>\n",
              "      <td>DevOps-инженер</td>\n",
              "      <td>[Управление проектами, SQL, TeamCity, MS SQL, ...</td>\n",
              "      <td>300000.0</td>\n",
              "      <td>От 3 до 6 лет</td>\n",
              "      <td>3</td>\n",
              "      <td>1</td>\n",
              "    </tr>\n",
              "    <tr>\n",
              "      <th>795</th>\n",
              "      <td>Head of DevOps (Dubai)</td>\n",
              "      <td>DevOps-инженер</td>\n",
              "      <td>[Git, AWS, Linux, Kubernetes, Java, Python, CI...</td>\n",
              "      <td>615343.0</td>\n",
              "      <td>От 3 до 6 лет</td>\n",
              "      <td>3</td>\n",
              "      <td>1</td>\n",
              "    </tr>\n",
              "    <tr>\n",
              "      <th>876</th>\n",
              "      <td>DevOps Engineer (to Yerevan)</td>\n",
              "      <td>DevOps-инженер</td>\n",
              "      <td>[Linux, Bash, Python, AWS, PostgreSQL, Elastic...</td>\n",
              "      <td>200000.0</td>\n",
              "      <td>От 3 до 6 лет</td>\n",
              "      <td>3</td>\n",
              "      <td>0</td>\n",
              "    </tr>\n",
              "  </tbody>\n",
              "</table>\n",
              "</div>\n",
              "      <button class=\"colab-df-convert\" onclick=\"convertToInteractive('df-843f7030-7e1a-4f1a-9757-e8ad1ed183f2')\"\n",
              "              title=\"Convert this dataframe to an interactive table.\"\n",
              "              style=\"display:none;\">\n",
              "        \n",
              "  <svg xmlns=\"http://www.w3.org/2000/svg\" height=\"24px\"viewBox=\"0 0 24 24\"\n",
              "       width=\"24px\">\n",
              "    <path d=\"M0 0h24v24H0V0z\" fill=\"none\"/>\n",
              "    <path d=\"M18.56 5.44l.94 2.06.94-2.06 2.06-.94-2.06-.94-.94-2.06-.94 2.06-2.06.94zm-11 1L8.5 8.5l.94-2.06 2.06-.94-2.06-.94L8.5 2.5l-.94 2.06-2.06.94zm10 10l.94 2.06.94-2.06 2.06-.94-2.06-.94-.94-2.06-.94 2.06-2.06.94z\"/><path d=\"M17.41 7.96l-1.37-1.37c-.4-.4-.92-.59-1.43-.59-.52 0-1.04.2-1.43.59L10.3 9.45l-7.72 7.72c-.78.78-.78 2.05 0 2.83L4 21.41c.39.39.9.59 1.41.59.51 0 1.02-.2 1.41-.59l7.78-7.78 2.81-2.81c.8-.78.8-2.07 0-2.86zM5.41 20L4 18.59l7.72-7.72 1.47 1.35L5.41 20z\"/>\n",
              "  </svg>\n",
              "      </button>\n",
              "      \n",
              "  <style>\n",
              "    .colab-df-container {\n",
              "      display:flex;\n",
              "      flex-wrap:wrap;\n",
              "      gap: 12px;\n",
              "    }\n",
              "\n",
              "    .colab-df-convert {\n",
              "      background-color: #E8F0FE;\n",
              "      border: none;\n",
              "      border-radius: 50%;\n",
              "      cursor: pointer;\n",
              "      display: none;\n",
              "      fill: #1967D2;\n",
              "      height: 32px;\n",
              "      padding: 0 0 0 0;\n",
              "      width: 32px;\n",
              "    }\n",
              "\n",
              "    .colab-df-convert:hover {\n",
              "      background-color: #E2EBFA;\n",
              "      box-shadow: 0px 1px 2px rgba(60, 64, 67, 0.3), 0px 1px 3px 1px rgba(60, 64, 67, 0.15);\n",
              "      fill: #174EA6;\n",
              "    }\n",
              "\n",
              "    [theme=dark] .colab-df-convert {\n",
              "      background-color: #3B4455;\n",
              "      fill: #D2E3FC;\n",
              "    }\n",
              "\n",
              "    [theme=dark] .colab-df-convert:hover {\n",
              "      background-color: #434B5C;\n",
              "      box-shadow: 0px 1px 3px 1px rgba(0, 0, 0, 0.15);\n",
              "      filter: drop-shadow(0px 1px 2px rgba(0, 0, 0, 0.3));\n",
              "      fill: #FFFFFF;\n",
              "    }\n",
              "  </style>\n",
              "\n",
              "      <script>\n",
              "        const buttonEl =\n",
              "          document.querySelector('#df-843f7030-7e1a-4f1a-9757-e8ad1ed183f2 button.colab-df-convert');\n",
              "        buttonEl.style.display =\n",
              "          google.colab.kernel.accessAllowed ? 'block' : 'none';\n",
              "\n",
              "        async function convertToInteractive(key) {\n",
              "          const element = document.querySelector('#df-843f7030-7e1a-4f1a-9757-e8ad1ed183f2');\n",
              "          const dataTable =\n",
              "            await google.colab.kernel.invokeFunction('convertToInteractive',\n",
              "                                                     [key], {});\n",
              "          if (!dataTable) return;\n",
              "\n",
              "          const docLinkHtml = 'Like what you see? Visit the ' +\n",
              "            '<a target=\"_blank\" href=https://colab.research.google.com/notebooks/data_table.ipynb>data table notebook</a>'\n",
              "            + ' to learn more about interactive tables.';\n",
              "          element.innerHTML = '';\n",
              "          dataTable['output_type'] = 'display_data';\n",
              "          await google.colab.output.renderOutput(dataTable, element);\n",
              "          const docLink = document.createElement('div');\n",
              "          docLink.innerHTML = docLinkHtml;\n",
              "          element.appendChild(docLink);\n",
              "        }\n",
              "      </script>\n",
              "    </div>\n",
              "  </div>\n",
              "  "
            ]
          },
          "metadata": {},
          "execution_count": 65
        }
      ]
    },
    {
      "cell_type": "code",
      "source": [
        "f, ax = plt.subplots(figsize=(6, 6))\n",
        "fig = sns.boxplot(x='Skills_number', y='salary_mean_to_rub', data=new_marketjob_IT_DEVOPS_1, palette=['#6A9ED9','#285586'])\n",
        "ax.set_title('Сопоставление заработной платы вакансии с навыком Kubernetes и без него',fontsize = 10, fontweight='bold' )\n",
        "ax.set_xlabel('Навыки', fontsize = 10)\n",
        "ax.set_ylabel('Средняя заработная плата, руб.', fontsize = 10)"
      ],
      "metadata": {
        "colab": {
          "base_uri": "https://localhost:8080/",
          "height": 420
        },
        "id": "csELUgvdGJ1X",
        "outputId": "606f695c-4234-4903-a57b-744b22baa5c9"
      },
      "execution_count": 66,
      "outputs": [
        {
          "output_type": "execute_result",
          "data": {
            "text/plain": [
              "Text(0, 0.5, 'Средняя заработная плата, руб.')"
            ]
          },
          "metadata": {},
          "execution_count": 66
        },
        {
          "output_type": "display_data",
          "data": {
            "text/plain": [
              "<Figure size 432x432 with 1 Axes>"
            ],
            "image/png": "[encoded data removed]"
          },
          "metadata": {
            "needs_background": "light"
          }
        }
      ]
    },
    {
      "cell_type": "markdown",
      "source": [
        "По графику видно, что значение медианы повышается при наличии рассматриваемого навыка у соискателя. Проверим данное расхождение на статистическую значимость.\n",
        "\n",
        "Поскольку данные порядковые, количество групп менее 2, наблюдения независиммые будем использовать метод Манна-Уитни"
      ],
      "metadata": {
        "id": "1JhSncDmGld3"
      }
    },
    {
      "cell_type": "code",
      "source": [
        "#удалим выброс\n",
        "new_marketjob_IT_DEVOPS_1_nan = new_marketjob_IT_DEVOPS_1.drop(new_marketjob_IT_DEVOPS_1.loc[new_marketjob_IT_DEVOPS_1['salary_mean_to_rub'] > 600000].index)"
      ],
      "metadata": {
        "id": "RNGj25Omi-R9"
      },
      "execution_count": 67,
      "outputs": []
    },
    {
      "cell_type": "code",
      "source": [
        "f, ax = plt.subplots(figsize=(6, 6))\n",
        "fig = sns.boxplot(x='Skills_number', y='salary_mean_to_rub', data=new_marketjob_IT_DEVOPS_1_nan, palette=['#6A9ED9','#285586'])\n",
        "ax.set_title('Сопоставление заработной платы вакансии с навыком Kubernetes и без него',fontsize = 10, fontweight='bold' )\n",
        "ax.set_xlabel('Навыки', fontsize = 10)\n",
        "ax.set_ylabel('Средняя заработная плата, руб.', fontsize = 10)"
      ],
      "metadata": {
        "colab": {
          "base_uri": "https://localhost:8080/",
          "height": 420
        },
        "id": "5xN2zW8r5Hia",
        "outputId": "fd556264-a3db-42e2-80b7-653784cd341d"
      },
      "execution_count": 68,
      "outputs": [
        {
          "output_type": "execute_result",
          "data": {
            "text/plain": [
              "Text(0, 0.5, 'Средняя заработная плата, руб.')"
            ]
          },
          "metadata": {},
          "execution_count": 68
        },
        {
          "output_type": "display_data",
          "data": {
            "text/plain": [
              "<Figure size 432x432 with 1 Axes>"
            ],
            "image/png": "[encoded data removed]"
          },
          "metadata": {
            "needs_background": "light"
          }
        }
      ]
    },
    {
      "cell_type": "code",
      "source": [
        "D_0 = new_marketjob_IT_DEVOPS_1[new_marketjob_IT_DEVOPS_1['Skills_number']==0]\n",
        "D_1 = new_marketjob_IT_DEVOPS_1[new_marketjob_IT_DEVOPS_1['Skills_number']==1]\n",
        "scipy.stats.mannwhitneyu(D_0['salary_mean_to_rub'],D_1['salary_mean_to_rub'])"
      ],
      "metadata": {
        "colab": {
          "base_uri": "https://localhost:8080/"
        },
        "id": "zv1fDw1rGnX2",
        "outputId": "72912aab-6464-4d19-9550-2b16d8c00591"
      },
      "execution_count": 69,
      "outputs": [
        {
          "output_type": "execute_result",
          "data": {
            "text/plain": [
              "MannwhitneyuResult(statistic=4101.5, pvalue=0.0014554884173565508)"
            ]
          },
          "metadata": {},
          "execution_count": 69
        }
      ]
    },
    {
      "cell_type": "markdown",
      "source": [
        "Вывод по гипотезе 1а: Поскольку pvalue значительно ниже заданного уровня значимости (0,05), то гипотеза H0 отклоняется. Таким образом, данное отличие является статистичики значимым, т.е. навык Kubernetes оказывает влияние на размер заработной платы."
      ],
      "metadata": {
        "id": "Nk7VIc2iG1u3"
      }
    },
    {
      "cell_type": "code",
      "source": [
        "D_0 = new_marketjob_IT_DEVOPS_1_nan[new_marketjob_IT_DEVOPS_1_nan['Skills_number']==0]\n",
        "D_1 = new_marketjob_IT_DEVOPS_1_nan[new_marketjob_IT_DEVOPS_1_nan['Skills_number']==1]\n",
        "scipy.stats.mannwhitneyu(D_0['salary_mean_to_rub'],D_1['salary_mean_to_rub'])"
      ],
      "metadata": {
        "colab": {
          "base_uri": "https://localhost:8080/"
        },
        "id": "yCVn5qhq5VHb",
        "outputId": "994626f4-019d-445e-87bb-b21dbd77212e"
      },
      "execution_count": 70,
      "outputs": [
        {
          "output_type": "execute_result",
          "data": {
            "text/plain": [
              "MannwhitneyuResult(statistic=4101.5, pvalue=0.0037043549362021726)"
            ]
          },
          "metadata": {},
          "execution_count": 70
        }
      ]
    },
    {
      "cell_type": "code",
      "source": [
        "# Присвоим порядковые значения для навыка Ansible\n",
        "new_marketjob_IT_DEVOPS_2 = devops_vac\n",
        "def parse_values(row):\n",
        "    s=''\n",
        "    if 'Ansible' in row['key_skills_list'] : s = 1\n",
        "    else:\n",
        "      s = 0\n",
        "    return s\n",
        "\n",
        "new_marketjob_IT_DEVOPS_2['Skills_number'] = new_marketjob_IT_DEVOPS_2.apply(parse_values,axis=1)\n",
        "new_marketjob_IT_DEVOPS_2.head()"
      ],
      "metadata": {
        "colab": {
          "base_uri": "https://localhost:8080/",
          "height": 354
        },
        "id": "xgV9LS1zG1ev",
        "outputId": "cd666678-492a-4f1b-f9ae-46f09a164a35"
      },
      "execution_count": 71,
      "outputs": [
        {
          "output_type": "stream",
          "name": "stderr",
          "text": [
            "<ipython-input-71-fe7bccef867c>:10: SettingWithCopyWarning: \n",
            "A value is trying to be set on a copy of a slice from a DataFrame.\n",
            "Try using .loc[row_indexer,col_indexer] = value instead\n",
            "\n",
            "See the caveats in the documentation: https://pandas.pydata.org/pandas-docs/stable/user_guide/indexing.html#returning-a-view-versus-a-copy\n",
            "  new_marketjob_IT_DEVOPS_2['Skills_number'] = new_marketjob_IT_DEVOPS_2.apply(parse_values,axis=1)\n"
          ]
        },
        {
          "output_type": "execute_result",
          "data": {
            "text/plain": [
              "                                              name         Vacancy  \\\n",
              "544                                DevOps engineer  DevOps-инженер   \n",
              "584  Стажёр по направлению \"DevOps\" от SBERSEASONS  DevOps-инженер   \n",
              "611                        DevOps инженер (senior)  DevOps-инженер   \n",
              "795                         Head of DevOps (Dubai)  DevOps-инженер   \n",
              "876                   DevOps Engineer (to Yerevan)  DevOps-инженер   \n",
              "\n",
              "                                       key_skills_list  salary_mean_to_rub  \\\n",
              "544  [DevOps, Gitlab CI, Kubernetes, Linux, Terrafo...            183398.4   \n",
              "584                 [Hadoop, Python, SCALA, SQL, Hive]             57550.0   \n",
              "611  [Управление проектами, SQL, TeamCity, MS SQL, ...            300000.0   \n",
              "795  [Git, AWS, Linux, Kubernetes, Java, Python, CI...            615343.0   \n",
              "876  [Linux, Bash, Python, AWS, PostgreSQL, Elastic...            200000.0   \n",
              "\n",
              "    experience_name  experience  Skills_number  \n",
              "544   От 3 до 6 лет           3              0  \n",
              "584       Нет опыта           1              0  \n",
              "611   От 3 до 6 лет           3              1  \n",
              "795   От 3 до 6 лет           3              1  \n",
              "876   От 3 до 6 лет           3              0  "
            ],
            "text/html": [
              "\n",
              "  <div id=\"df-d1bf6041-2c62-4956-8f99-ae44d5b1e494\">\n",
              "    <div class=\"colab-df-container\">\n",
              "      <div>\n",
              "<style scoped>\n",
              "    .dataframe tbody tr th:only-of-type {\n",
              "        vertical-align: middle;\n",
              "    }\n",
              "\n",
              "    .dataframe tbody tr th {\n",
              "        vertical-align: top;\n",
              "    }\n",
              "\n",
              "    .dataframe thead th {\n",
              "        text-align: right;\n",
              "    }\n",
              "</style>\n",
              "<table border=\"1\" class=\"dataframe\">\n",
              "  <thead>\n",
              "    <tr style=\"text-align: right;\">\n",
              "      <th></th>\n",
              "      <th>name</th>\n",
              "      <th>Vacancy</th>\n",
              "      <th>key_skills_list</th>\n",
              "      <th>salary_mean_to_rub</th>\n",
              "      <th>experience_name</th>\n",
              "      <th>experience</th>\n",
              "      <th>Skills_number</th>\n",
              "    </tr>\n",
              "  </thead>\n",
              "  <tbody>\n",
              "    <tr>\n",
              "      <th>544</th>\n",
              "      <td>DevOps engineer</td>\n",
              "      <td>DevOps-инженер</td>\n",
              "      <td>[DevOps, Gitlab CI, Kubernetes, Linux, Terrafo...</td>\n",
              "      <td>183398.4</td>\n",
              "      <td>От 3 до 6 лет</td>\n",
              "      <td>3</td>\n",
              "      <td>0</td>\n",
              "    </tr>\n",
              "    <tr>\n",
              "      <th>584</th>\n",
              "      <td>Стажёр по направлению \"DevOps\" от SBERSEASONS</td>\n",
              "      <td>DevOps-инженер</td>\n",
              "      <td>[Hadoop, Python, SCALA, SQL, Hive]</td>\n",
              "      <td>57550.0</td>\n",
              "      <td>Нет опыта</td>\n",
              "      <td>1</td>\n",
              "      <td>0</td>\n",
              "    </tr>\n",
              "    <tr>\n",
              "      <th>611</th>\n",
              "      <td>DevOps инженер (senior)</td>\n",
              "      <td>DevOps-инженер</td>\n",
              "      <td>[Управление проектами, SQL, TeamCity, MS SQL, ...</td>\n",
              "      <td>300000.0</td>\n",
              "      <td>От 3 до 6 лет</td>\n",
              "      <td>3</td>\n",
              "      <td>1</td>\n",
              "    </tr>\n",
              "    <tr>\n",
              "      <th>795</th>\n",
              "      <td>Head of DevOps (Dubai)</td>\n",
              "      <td>DevOps-инженер</td>\n",
              "      <td>[Git, AWS, Linux, Kubernetes, Java, Python, CI...</td>\n",
              "      <td>615343.0</td>\n",
              "      <td>От 3 до 6 лет</td>\n",
              "      <td>3</td>\n",
              "      <td>1</td>\n",
              "    </tr>\n",
              "    <tr>\n",
              "      <th>876</th>\n",
              "      <td>DevOps Engineer (to Yerevan)</td>\n",
              "      <td>DevOps-инженер</td>\n",
              "      <td>[Linux, Bash, Python, AWS, PostgreSQL, Elastic...</td>\n",
              "      <td>200000.0</td>\n",
              "      <td>От 3 до 6 лет</td>\n",
              "      <td>3</td>\n",
              "      <td>0</td>\n",
              "    </tr>\n",
              "  </tbody>\n",
              "</table>\n",
              "</div>\n",
              "      <button class=\"colab-df-convert\" onclick=\"convertToInteractive('df-d1bf6041-2c62-4956-8f99-ae44d5b1e494')\"\n",
              "              title=\"Convert this dataframe to an interactive table.\"\n",
              "              style=\"display:none;\">\n",
              "        \n",
              "  <svg xmlns=\"http://www.w3.org/2000/svg\" height=\"24px\"viewBox=\"0 0 24 24\"\n",
              "       width=\"24px\">\n",
              "    <path d=\"M0 0h24v24H0V0z\" fill=\"none\"/>\n",
              "    <path d=\"M18.56 5.44l.94 2.06.94-2.06 2.06-.94-2.06-.94-.94-2.06-.94 2.06-2.06.94zm-11 1L8.5 8.5l.94-2.06 2.06-.94-2.06-.94L8.5 2.5l-.94 2.06-2.06.94zm10 10l.94 2.06.94-2.06 2.06-.94-2.06-.94-.94-2.06-.94 2.06-2.06.94z\"/><path d=\"M17.41 7.96l-1.37-1.37c-.4-.4-.92-.59-1.43-.59-.52 0-1.04.2-1.43.59L10.3 9.45l-7.72 7.72c-.78.78-.78 2.05 0 2.83L4 21.41c.39.39.9.59 1.41.59.51 0 1.02-.2 1.41-.59l7.78-7.78 2.81-2.81c.8-.78.8-2.07 0-2.86zM5.41 20L4 18.59l7.72-7.72 1.47 1.35L5.41 20z\"/>\n",
              "  </svg>\n",
              "      </button>\n",
              "      \n",
              "  <style>\n",
              "    .colab-df-container {\n",
              "      display:flex;\n",
              "      flex-wrap:wrap;\n",
              "      gap: 12px;\n",
              "    }\n",
              "\n",
              "    .colab-df-convert {\n",
              "      background-color: #E8F0FE;\n",
              "      border: none;\n",
              "      border-radius: 50%;\n",
              "      cursor: pointer;\n",
              "      display: none;\n",
              "      fill: #1967D2;\n",
              "      height: 32px;\n",
              "      padding: 0 0 0 0;\n",
              "      width: 32px;\n",
              "    }\n",
              "\n",
              "    .colab-df-convert:hover {\n",
              "      background-color: #E2EBFA;\n",
              "      box-shadow: 0px 1px 2px rgba(60, 64, 67, 0.3), 0px 1px 3px 1px rgba(60, 64, 67, 0.15);\n",
              "      fill: #174EA6;\n",
              "    }\n",
              "\n",
              "    [theme=dark] .colab-df-convert {\n",
              "      background-color: #3B4455;\n",
              "      fill: #D2E3FC;\n",
              "    }\n",
              "\n",
              "    [theme=dark] .colab-df-convert:hover {\n",
              "      background-color: #434B5C;\n",
              "      box-shadow: 0px 1px 3px 1px rgba(0, 0, 0, 0.15);\n",
              "      filter: drop-shadow(0px 1px 2px rgba(0, 0, 0, 0.3));\n",
              "      fill: #FFFFFF;\n",
              "    }\n",
              "  </style>\n",
              "\n",
              "      <script>\n",
              "        const buttonEl =\n",
              "          document.querySelector('#df-d1bf6041-2c62-4956-8f99-ae44d5b1e494 button.colab-df-convert');\n",
              "        buttonEl.style.display =\n",
              "          google.colab.kernel.accessAllowed ? 'block' : 'none';\n",
              "\n",
              "        async function convertToInteractive(key) {\n",
              "          const element = document.querySelector('#df-d1bf6041-2c62-4956-8f99-ae44d5b1e494');\n",
              "          const dataTable =\n",
              "            await google.colab.kernel.invokeFunction('convertToInteractive',\n",
              "                                                     [key], {});\n",
              "          if (!dataTable) return;\n",
              "\n",
              "          const docLinkHtml = 'Like what you see? Visit the ' +\n",
              "            '<a target=\"_blank\" href=https://colab.research.google.com/notebooks/data_table.ipynb>data table notebook</a>'\n",
              "            + ' to learn more about interactive tables.';\n",
              "          element.innerHTML = '';\n",
              "          dataTable['output_type'] = 'display_data';\n",
              "          await google.colab.output.renderOutput(dataTable, element);\n",
              "          const docLink = document.createElement('div');\n",
              "          docLink.innerHTML = docLinkHtml;\n",
              "          element.appendChild(docLink);\n",
              "        }\n",
              "      </script>\n",
              "    </div>\n",
              "  </div>\n",
              "  "
            ]
          },
          "metadata": {},
          "execution_count": 71
        }
      ]
    },
    {
      "cell_type": "code",
      "source": [
        "f, ax = plt.subplots(figsize=(6, 6))\n",
        "fig = sns.boxplot(x='Skills_number', y='salary_mean_to_rub', data=new_marketjob_IT_DEVOPS_2, palette=['#6A9ED9','#285586'])\n",
        "ax.set_title('Сопоставление заработной платы вакансии с навыком Ansible и без него',fontsize = 10, fontweight='bold' )\n",
        "ax.set_xlabel('Навыки', fontsize = 10)\n",
        "ax.set_ylabel('Средняя заработная плата, руб.', fontsize = 10)"
      ],
      "metadata": {
        "colab": {
          "base_uri": "https://localhost:8080/",
          "height": 420
        },
        "id": "N_G3s8hvH5i3",
        "outputId": "030f82a3-c164-4045-cb72-105f981e519c"
      },
      "execution_count": 72,
      "outputs": [
        {
          "output_type": "execute_result",
          "data": {
            "text/plain": [
              "Text(0, 0.5, 'Средняя заработная плата, руб.')"
            ]
          },
          "metadata": {},
          "execution_count": 72
        },
        {
          "output_type": "display_data",
          "data": {
            "text/plain": [
              "<Figure size 432x432 with 1 Axes>"
            ],
            "image/png": "[encoded data removed]"
          },
          "metadata": {
            "needs_background": "light"
          }
        }
      ]
    },
    {
      "cell_type": "markdown",
      "source": [
        "По графику видно, что значение медианы повышается при наличии рассматриваемого навыка у соискателя. Проверим данное расхождение на статистическую значимость.\n",
        "\n",
        "Поскольку данные порядковые, количество групп менее 2, наблюдения независиммые будем использовать метод Манна-Уитни"
      ],
      "metadata": {
        "id": "yMv1SH_NJNij"
      }
    },
    {
      "cell_type": "code",
      "source": [
        "#удалим выброс\n",
        "new_marketjob_IT_DEVOPS_2_nan = new_marketjob_IT_DEVOPS_2.drop(new_marketjob_IT_DEVOPS_2.loc[new_marketjob_IT_DEVOPS_2['salary_mean_to_rub'] > 600000].index)"
      ],
      "metadata": {
        "id": "-GXjHuIi54RS"
      },
      "execution_count": 73,
      "outputs": []
    },
    {
      "cell_type": "code",
      "source": [
        "f, ax = plt.subplots(figsize=(6, 6))\n",
        "fig = sns.boxplot(x='Skills_number', y='salary_mean_to_rub', data=new_marketjob_IT_DEVOPS_2_nan, palette=['#6A9ED9','#285586'])\n",
        "ax.set_title('Сопоставление заработной платы вакансии с навыком Ansible и без него',fontsize = 10, fontweight='bold' )\n",
        "ax.set_xlabel('Навыки', fontsize = 10)\n",
        "ax.set_ylabel('Средняя заработная плата, руб.', fontsize = 10)"
      ],
      "metadata": {
        "colab": {
          "base_uri": "https://localhost:8080/",
          "height": 420
        },
        "id": "Dd8fqV2O58IC",
        "outputId": "d746bce9-9d7f-402f-f7b8-f7fa243e7c23"
      },
      "execution_count": 74,
      "outputs": [
        {
          "output_type": "execute_result",
          "data": {
            "text/plain": [
              "Text(0, 0.5, 'Средняя заработная плата, руб.')"
            ]
          },
          "metadata": {},
          "execution_count": 74
        },
        {
          "output_type": "display_data",
          "data": {
            "text/plain": [
              "<Figure size 432x432 with 1 Axes>"
            ],
            "image/png": "[encoded data removed]"
          },
          "metadata": {
            "needs_background": "light"
          }
        }
      ]
    },
    {
      "cell_type": "code",
      "source": [
        "D_0 = new_marketjob_IT_DEVOPS_2_nan[new_marketjob_IT_DEVOPS_2_nan['Skills_number']==0]\n",
        "D_1 = new_marketjob_IT_DEVOPS_2_nan[new_marketjob_IT_DEVOPS_2_nan['Skills_number']==1]\n",
        "scipy.stats.mannwhitneyu(D_0['salary_mean_to_rub'],D_1['salary_mean_to_rub'])"
      ],
      "metadata": {
        "colab": {
          "base_uri": "https://localhost:8080/"
        },
        "id": "wu4AMgd8H-5P",
        "outputId": "a1d7361a-6019-4e62-c4f1-04829ac0862a"
      },
      "execution_count": 75,
      "outputs": [
        {
          "output_type": "execute_result",
          "data": {
            "text/plain": [
              "MannwhitneyuResult(statistic=3480.0, pvalue=0.0006020981245099696)"
            ]
          },
          "metadata": {},
          "execution_count": 75
        }
      ]
    },
    {
      "cell_type": "markdown",
      "source": [
        "Поскольку pvalue значительно ниже заданного уровня значимости (0,05), то гипотеза H0 отклоняется. Таким образом, данное отличие является статистичики значимым, т.е. навык Ansible оказывает влияние на размер заработной платы."
      ],
      "metadata": {
        "id": "FpGDg0zZIn2e"
      }
    },
    {
      "cell_type": "code",
      "source": [
        "# Присвоим порядковые значения для навыка Docker\n",
        "new_marketjob_IT_DEVOPS_3 = devops_vac\n",
        "def parse_values(row):\n",
        "    s=''\n",
        "    if 'Docker' in row['key_skills_list'] : s = 1\n",
        "    else:\n",
        "      s = 0\n",
        "    return s\n",
        "\n",
        "new_marketjob_IT_DEVOPS_3['Skills_number'] = new_marketjob_IT_DEVOPS_3.apply(parse_values,axis=1)\n",
        "new_marketjob_IT_DEVOPS_3.head()"
      ],
      "metadata": {
        "colab": {
          "base_uri": "https://localhost:8080/",
          "height": 354
        },
        "id": "8nLHgAfEInTz",
        "outputId": "934e9183-55a0-4753-dbf6-af993b3f1bf3"
      },
      "execution_count": 76,
      "outputs": [
        {
          "output_type": "stream",
          "name": "stderr",
          "text": [
            "<ipython-input-76-699e87d560ee>:10: SettingWithCopyWarning: \n",
            "A value is trying to be set on a copy of a slice from a DataFrame.\n",
            "Try using .loc[row_indexer,col_indexer] = value instead\n",
            "\n",
            "See the caveats in the documentation: https://pandas.pydata.org/pandas-docs/stable/user_guide/indexing.html#returning-a-view-versus-a-copy\n",
            "  new_marketjob_IT_DEVOPS_3['Skills_number'] = new_marketjob_IT_DEVOPS_3.apply(parse_values,axis=1)\n"
          ]
        },
        {
          "output_type": "execute_result",
          "data": {
            "text/plain": [
              "                                              name         Vacancy  \\\n",
              "544                                DevOps engineer  DevOps-инженер   \n",
              "584  Стажёр по направлению \"DevOps\" от SBERSEASONS  DevOps-инженер   \n",
              "611                        DevOps инженер (senior)  DevOps-инженер   \n",
              "795                         Head of DevOps (Dubai)  DevOps-инженер   \n",
              "876                   DevOps Engineer (to Yerevan)  DevOps-инженер   \n",
              "\n",
              "                                       key_skills_list  salary_mean_to_rub  \\\n",
              "544  [DevOps, Gitlab CI, Kubernetes, Linux, Terrafo...            183398.4   \n",
              "584                 [Hadoop, Python, SCALA, SQL, Hive]             57550.0   \n",
              "611  [Управление проектами, SQL, TeamCity, MS SQL, ...            300000.0   \n",
              "795  [Git, AWS, Linux, Kubernetes, Java, Python, CI...            615343.0   \n",
              "876  [Linux, Bash, Python, AWS, PostgreSQL, Elastic...            200000.0   \n",
              "\n",
              "    experience_name  experience  Skills_number  \n",
              "544   От 3 до 6 лет           3              1  \n",
              "584       Нет опыта           1              0  \n",
              "611   От 3 до 6 лет           3              1  \n",
              "795   От 3 до 6 лет           3              1  \n",
              "876   От 3 до 6 лет           3              0  "
            ],
            "text/html": [
              "\n",
              "  <div id=\"df-96a2de58-c98e-4911-8aa9-e57ae492271e\">\n",
              "    <div class=\"colab-df-container\">\n",
              "      <div>\n",
              "<style scoped>\n",
              "    .dataframe tbody tr th:only-of-type {\n",
              "        vertical-align: middle;\n",
              "    }\n",
              "\n",
              "    .dataframe tbody tr th {\n",
              "        vertical-align: top;\n",
              "    }\n",
              "\n",
              "    .dataframe thead th {\n",
              "        text-align: right;\n",
              "    }\n",
              "</style>\n",
              "<table border=\"1\" class=\"dataframe\">\n",
              "  <thead>\n",
              "    <tr style=\"text-align: right;\">\n",
              "      <th></th>\n",
              "      <th>name</th>\n",
              "      <th>Vacancy</th>\n",
              "      <th>key_skills_list</th>\n",
              "      <th>salary_mean_to_rub</th>\n",
              "      <th>experience_name</th>\n",
              "      <th>experience</th>\n",
              "      <th>Skills_number</th>\n",
              "    </tr>\n",
              "  </thead>\n",
              "  <tbody>\n",
              "    <tr>\n",
              "      <th>544</th>\n",
              "      <td>DevOps engineer</td>\n",
              "      <td>DevOps-инженер</td>\n",
              "      <td>[DevOps, Gitlab CI, Kubernetes, Linux, Terrafo...</td>\n",
              "      <td>183398.4</td>\n",
              "      <td>От 3 до 6 лет</td>\n",
              "      <td>3</td>\n",
              "      <td>1</td>\n",
              "    </tr>\n",
              "    <tr>\n",
              "      <th>584</th>\n",
              "      <td>Стажёр по направлению \"DevOps\" от SBERSEASONS</td>\n",
              "      <td>DevOps-инженер</td>\n",
              "      <td>[Hadoop, Python, SCALA, SQL, Hive]</td>\n",
              "      <td>57550.0</td>\n",
              "      <td>Нет опыта</td>\n",
              "      <td>1</td>\n",
              "      <td>0</td>\n",
              "    </tr>\n",
              "    <tr>\n",
              "      <th>611</th>\n",
              "      <td>DevOps инженер (senior)</td>\n",
              "      <td>DevOps-инженер</td>\n",
              "      <td>[Управление проектами, SQL, TeamCity, MS SQL, ...</td>\n",
              "      <td>300000.0</td>\n",
              "      <td>От 3 до 6 лет</td>\n",
              "      <td>3</td>\n",
              "      <td>1</td>\n",
              "    </tr>\n",
              "    <tr>\n",
              "      <th>795</th>\n",
              "      <td>Head of DevOps (Dubai)</td>\n",
              "      <td>DevOps-инженер</td>\n",
              "      <td>[Git, AWS, Linux, Kubernetes, Java, Python, CI...</td>\n",
              "      <td>615343.0</td>\n",
              "      <td>От 3 до 6 лет</td>\n",
              "      <td>3</td>\n",
              "      <td>1</td>\n",
              "    </tr>\n",
              "    <tr>\n",
              "      <th>876</th>\n",
              "      <td>DevOps Engineer (to Yerevan)</td>\n",
              "      <td>DevOps-инженер</td>\n",
              "      <td>[Linux, Bash, Python, AWS, PostgreSQL, Elastic...</td>\n",
              "      <td>200000.0</td>\n",
              "      <td>От 3 до 6 лет</td>\n",
              "      <td>3</td>\n",
              "      <td>0</td>\n",
              "    </tr>\n",
              "  </tbody>\n",
              "</table>\n",
              "</div>\n",
              "      <button class=\"colab-df-convert\" onclick=\"convertToInteractive('df-96a2de58-c98e-4911-8aa9-e57ae492271e')\"\n",
              "              title=\"Convert this dataframe to an interactive table.\"\n",
              "              style=\"display:none;\">\n",
              "        \n",
              "  <svg xmlns=\"http://www.w3.org/2000/svg\" height=\"24px\"viewBox=\"0 0 24 24\"\n",
              "       width=\"24px\">\n",
              "    <path d=\"M0 0h24v24H0V0z\" fill=\"none\"/>\n",
              "    <path d=\"M18.56 5.44l.94 2.06.94-2.06 2.06-.94-2.06-.94-.94-2.06-.94 2.06-2.06.94zm-11 1L8.5 8.5l.94-2.06 2.06-.94-2.06-.94L8.5 2.5l-.94 2.06-2.06.94zm10 10l.94 2.06.94-2.06 2.06-.94-2.06-.94-.94-2.06-.94 2.06-2.06.94z\"/><path d=\"M17.41 7.96l-1.37-1.37c-.4-.4-.92-.59-1.43-.59-.52 0-1.04.2-1.43.59L10.3 9.45l-7.72 7.72c-.78.78-.78 2.05 0 2.83L4 21.41c.39.39.9.59 1.41.59.51 0 1.02-.2 1.41-.59l7.78-7.78 2.81-2.81c.8-.78.8-2.07 0-2.86zM5.41 20L4 18.59l7.72-7.72 1.47 1.35L5.41 20z\"/>\n",
              "  </svg>\n",
              "      </button>\n",
              "      \n",
              "  <style>\n",
              "    .colab-df-container {\n",
              "      display:flex;\n",
              "      flex-wrap:wrap;\n",
              "      gap: 12px;\n",
              "    }\n",
              "\n",
              "    .colab-df-convert {\n",
              "      background-color: #E8F0FE;\n",
              "      border: none;\n",
              "      border-radius: 50%;\n",
              "      cursor: pointer;\n",
              "      display: none;\n",
              "      fill: #1967D2;\n",
              "      height: 32px;\n",
              "      padding: 0 0 0 0;\n",
              "      width: 32px;\n",
              "    }\n",
              "\n",
              "    .colab-df-convert:hover {\n",
              "      background-color: #E2EBFA;\n",
              "      box-shadow: 0px 1px 2px rgba(60, 64, 67, 0.3), 0px 1px 3px 1px rgba(60, 64, 67, 0.15);\n",
              "      fill: #174EA6;\n",
              "    }\n",
              "\n",
              "    [theme=dark] .colab-df-convert {\n",
              "      background-color: #3B4455;\n",
              "      fill: #D2E3FC;\n",
              "    }\n",
              "\n",
              "    [theme=dark] .colab-df-convert:hover {\n",
              "      background-color: #434B5C;\n",
              "      box-shadow: 0px 1px 3px 1px rgba(0, 0, 0, 0.15);\n",
              "      filter: drop-shadow(0px 1px 2px rgba(0, 0, 0, 0.3));\n",
              "      fill: #FFFFFF;\n",
              "    }\n",
              "  </style>\n",
              "\n",
              "      <script>\n",
              "        const buttonEl =\n",
              "          document.querySelector('#df-96a2de58-c98e-4911-8aa9-e57ae492271e button.colab-df-convert');\n",
              "        buttonEl.style.display =\n",
              "          google.colab.kernel.accessAllowed ? 'block' : 'none';\n",
              "\n",
              "        async function convertToInteractive(key) {\n",
              "          const element = document.querySelector('#df-96a2de58-c98e-4911-8aa9-e57ae492271e');\n",
              "          const dataTable =\n",
              "            await google.colab.kernel.invokeFunction('convertToInteractive',\n",
              "                                                     [key], {});\n",
              "          if (!dataTable) return;\n",
              "\n",
              "          const docLinkHtml = 'Like what you see? Visit the ' +\n",
              "            '<a target=\"_blank\" href=https://colab.research.google.com/notebooks/data_table.ipynb>data table notebook</a>'\n",
              "            + ' to learn more about interactive tables.';\n",
              "          element.innerHTML = '';\n",
              "          dataTable['output_type'] = 'display_data';\n",
              "          await google.colab.output.renderOutput(dataTable, element);\n",
              "          const docLink = document.createElement('div');\n",
              "          docLink.innerHTML = docLinkHtml;\n",
              "          element.appendChild(docLink);\n",
              "        }\n",
              "      </script>\n",
              "    </div>\n",
              "  </div>\n",
              "  "
            ]
          },
          "metadata": {},
          "execution_count": 76
        }
      ]
    },
    {
      "cell_type": "code",
      "source": [
        "f, ax = plt.subplots(figsize=(6, 6))\n",
        "fig = sns.boxplot(x='Skills_number', y='salary_mean_to_rub', data=new_marketjob_IT_DEVOPS_3, palette=['#6A9ED9','#285586'])\n",
        "ax.set_title('Сопоставление заработной платы вакансии с навыком Docker и без него',fontsize = 10, fontweight='bold' )\n",
        "ax.set_xlabel('Навыки', fontsize = 10)\n",
        "ax.set_ylabel('Средняя заработная плата, руб.', fontsize = 10)"
      ],
      "metadata": {
        "colab": {
          "base_uri": "https://localhost:8080/",
          "height": 420
        },
        "id": "tzMNpwl0I39n",
        "outputId": "0f43c10e-a412-45da-abc7-98dbe15b6fe8"
      },
      "execution_count": 77,
      "outputs": [
        {
          "output_type": "execute_result",
          "data": {
            "text/plain": [
              "Text(0, 0.5, 'Средняя заработная плата, руб.')"
            ]
          },
          "metadata": {},
          "execution_count": 77
        },
        {
          "output_type": "display_data",
          "data": {
            "text/plain": [
              "<Figure size 432x432 with 1 Axes>"
            ],
            "image/png": "[encoded data removed]"
          },
          "metadata": {
            "needs_background": "light"
          }
        }
      ]
    },
    {
      "cell_type": "markdown",
      "source": [
        "По графику видно, что значение медианы повышается при наличии рассматриваемого навыка у соискателя. Проверим данное расхождение на статистическую значимость.\n",
        "\n",
        "Поскольку данные порядковые, количество групп менее 2, наблюдения независиммые будем использовать метод Манна-Уитни"
      ],
      "metadata": {
        "id": "adJbzGKDJJoW"
      }
    },
    {
      "cell_type": "code",
      "source": [
        "#удалим выброс\n",
        "new_marketjob_IT_DEVOPS_3_nan = new_marketjob_IT_DEVOPS_3.drop(new_marketjob_IT_DEVOPS_3.loc[new_marketjob_IT_DEVOPS_3['salary_mean_to_rub'] > 600000].index)"
      ],
      "metadata": {
        "id": "zfDH11-r5gkK"
      },
      "execution_count": 78,
      "outputs": []
    },
    {
      "cell_type": "code",
      "source": [
        "f, ax = plt.subplots(figsize=(6, 6))\n",
        "fig = sns.boxplot(x='Skills_number', y='salary_mean_to_rub', data=new_marketjob_IT_DEVOPS_3_nan, palette=['#6A9ED9','#285586'])\n",
        "ax.set_title('Сопоставление заработной платы вакансии с навыком Docker и без него',fontsize = 10, fontweight='bold' )\n",
        "ax.set_xlabel('Навыки', fontsize = 10)\n",
        "ax.set_ylabel('Средняя заработная плата, руб.', fontsize = 10)"
      ],
      "metadata": {
        "colab": {
          "base_uri": "https://localhost:8080/",
          "height": 420
        },
        "id": "jJFo6z0l5rTT",
        "outputId": "a47460bb-30d3-4379-94b0-e0e2df94fc64"
      },
      "execution_count": 79,
      "outputs": [
        {
          "output_type": "execute_result",
          "data": {
            "text/plain": [
              "Text(0, 0.5, 'Средняя заработная плата, руб.')"
            ]
          },
          "metadata": {},
          "execution_count": 79
        },
        {
          "output_type": "display_data",
          "data": {
            "text/plain": [
              "<Figure size 432x432 with 1 Axes>"
            ],
            "image/png": "[encoded data removed]"
          },
          "metadata": {
            "needs_background": "light"
          }
        }
      ]
    },
    {
      "cell_type": "code",
      "source": [
        "D_0 = new_marketjob_IT_DEVOPS_3_nan[new_marketjob_IT_DEVOPS_3_nan['Skills_number']==0]\n",
        "D_1 = new_marketjob_IT_DEVOPS_3_nan[new_marketjob_IT_DEVOPS_3_nan['Skills_number']==1]\n",
        "scipy.stats.mannwhitneyu(D_0['salary_mean_to_rub'],D_1['salary_mean_to_rub'])"
      ],
      "metadata": {
        "colab": {
          "base_uri": "https://localhost:8080/"
        },
        "id": "58Nxqv0TI6ym",
        "outputId": "fd6b724b-394d-4b78-b918-242d704458c9"
      },
      "execution_count": 80,
      "outputs": [
        {
          "output_type": "execute_result",
          "data": {
            "text/plain": [
              "MannwhitneyuResult(statistic=4420.5, pvalue=0.20091064461212826)"
            ]
          },
          "metadata": {},
          "execution_count": 80
        }
      ]
    },
    {
      "cell_type": "markdown",
      "source": [
        " Поскольку pvalue выше заданного уровня значимости (0,05), то нет оснований отклонять гипотезу H0. Таким образом, данное отличие не является статистичики значимым, т.е. навык Docker не оказывает статистически значимое влияние на размер заработной платы."
      ],
      "metadata": {
        "id": "tAFoT94eJHlv"
      }
    },
    {
      "cell_type": "markdown",
      "source": [
        "# Гипотеза 3: Взависимости от опыта изменяется набор навыков (Kubernetes, Ansible и Docker) для  DevOps-инженера"
      ],
      "metadata": {
        "id": "wDHiPd4SJ4GI"
      }
    },
    {
      "cell_type": "code",
      "source": [
        "# Присвоим порядковые значения для навыков\n",
        "experience_skills = devops_vac\n",
        "def parse_values(row):\n",
        "    s=''\n",
        "    if 'Kubernetes' in row['key_skills_list'] and 'Ansible' in row['key_skills_list'] and 'Docker'in row['key_skills_list'] : s = 3\n",
        "    elif('Kubernetes' in row['key_skills_list']  and 'Ansible' in row['key_skills_list'] ) or ('Kubernetes' in row['key_skills_list'] and 'Docker' in row['key_skills_list'] ) or ('Ansible' in row['key_skills_list']  and 'Docker' in row['key_skills_list']) : s = 2\n",
        "    elif ('Docker' in row['key_skills_list']) or ('Kubernetes' in row['key_skills_list']) or ('Ansible' in row['key_skills_list']) : s = 1\n",
        "    else:\n",
        "      s = 0\n",
        "    return s\n",
        "\n",
        "experience_skills['Skills_number'] =experience_skills.apply(parse_values,axis=1)\n",
        "experience_skills.head()"
      ],
      "metadata": {
        "colab": {
          "base_uri": "https://localhost:8080/",
          "height": 354
        },
        "id": "X9dt0diYJ9cW",
        "outputId": "87515254-f070-4d51-dfe8-87a5bc0b625f"
      },
      "execution_count": 81,
      "outputs": [
        {
          "output_type": "stream",
          "name": "stderr",
          "text": [
            "<ipython-input-81-a1e96f01c0f6>:12: SettingWithCopyWarning: \n",
            "A value is trying to be set on a copy of a slice from a DataFrame.\n",
            "Try using .loc[row_indexer,col_indexer] = value instead\n",
            "\n",
            "See the caveats in the documentation: https://pandas.pydata.org/pandas-docs/stable/user_guide/indexing.html#returning-a-view-versus-a-copy\n",
            "  experience_skills['Skills_number'] =experience_skills.apply(parse_values,axis=1)\n"
          ]
        },
        {
          "output_type": "execute_result",
          "data": {
            "text/plain": [
              "                                              name         Vacancy  \\\n",
              "544                                DevOps engineer  DevOps-инженер   \n",
              "584  Стажёр по направлению \"DevOps\" от SBERSEASONS  DevOps-инженер   \n",
              "611                        DevOps инженер (senior)  DevOps-инженер   \n",
              "795                         Head of DevOps (Dubai)  DevOps-инженер   \n",
              "876                   DevOps Engineer (to Yerevan)  DevOps-инженер   \n",
              "\n",
              "                                       key_skills_list  salary_mean_to_rub  \\\n",
              "544  [DevOps, Gitlab CI, Kubernetes, Linux, Terrafo...            183398.4   \n",
              "584                 [Hadoop, Python, SCALA, SQL, Hive]             57550.0   \n",
              "611  [Управление проектами, SQL, TeamCity, MS SQL, ...            300000.0   \n",
              "795  [Git, AWS, Linux, Kubernetes, Java, Python, CI...            615343.0   \n",
              "876  [Linux, Bash, Python, AWS, PostgreSQL, Elastic...            200000.0   \n",
              "\n",
              "    experience_name  experience  Skills_number  \n",
              "544   От 3 до 6 лет           3              2  \n",
              "584       Нет опыта           1              0  \n",
              "611   От 3 до 6 лет           3              3  \n",
              "795   От 3 до 6 лет           3              3  \n",
              "876   От 3 до 6 лет           3              0  "
            ],
            "text/html": [
              "\n",
              "  <div id=\"df-73ae9d3e-588f-482f-a224-ef6851ac3453\">\n",
              "    <div class=\"colab-df-container\">\n",
              "      <div>\n",
              "<style scoped>\n",
              "    .dataframe tbody tr th:only-of-type {\n",
              "        vertical-align: middle;\n",
              "    }\n",
              "\n",
              "    .dataframe tbody tr th {\n",
              "        vertical-align: top;\n",
              "    }\n",
              "\n",
              "    .dataframe thead th {\n",
              "        text-align: right;\n",
              "    }\n",
              "</style>\n",
              "<table border=\"1\" class=\"dataframe\">\n",
              "  <thead>\n",
              "    <tr style=\"text-align: right;\">\n",
              "      <th></th>\n",
              "      <th>name</th>\n",
              "      <th>Vacancy</th>\n",
              "      <th>key_skills_list</th>\n",
              "      <th>salary_mean_to_rub</th>\n",
              "      <th>experience_name</th>\n",
              "      <th>experience</th>\n",
              "      <th>Skills_number</th>\n",
              "    </tr>\n",
              "  </thead>\n",
              "  <tbody>\n",
              "    <tr>\n",
              "      <th>544</th>\n",
              "      <td>DevOps engineer</td>\n",
              "      <td>DevOps-инженер</td>\n",
              "      <td>[DevOps, Gitlab CI, Kubernetes, Linux, Terrafo...</td>\n",
              "      <td>183398.4</td>\n",
              "      <td>От 3 до 6 лет</td>\n",
              "      <td>3</td>\n",
              "      <td>2</td>\n",
              "    </tr>\n",
              "    <tr>\n",
              "      <th>584</th>\n",
              "      <td>Стажёр по направлению \"DevOps\" от SBERSEASONS</td>\n",
              "      <td>DevOps-инженер</td>\n",
              "      <td>[Hadoop, Python, SCALA, SQL, Hive]</td>\n",
              "      <td>57550.0</td>\n",
              "      <td>Нет опыта</td>\n",
              "      <td>1</td>\n",
              "      <td>0</td>\n",
              "    </tr>\n",
              "    <tr>\n",
              "      <th>611</th>\n",
              "      <td>DevOps инженер (senior)</td>\n",
              "      <td>DevOps-инженер</td>\n",
              "      <td>[Управление проектами, SQL, TeamCity, MS SQL, ...</td>\n",
              "      <td>300000.0</td>\n",
              "      <td>От 3 до 6 лет</td>\n",
              "      <td>3</td>\n",
              "      <td>3</td>\n",
              "    </tr>\n",
              "    <tr>\n",
              "      <th>795</th>\n",
              "      <td>Head of DevOps (Dubai)</td>\n",
              "      <td>DevOps-инженер</td>\n",
              "      <td>[Git, AWS, Linux, Kubernetes, Java, Python, CI...</td>\n",
              "      <td>615343.0</td>\n",
              "      <td>От 3 до 6 лет</td>\n",
              "      <td>3</td>\n",
              "      <td>3</td>\n",
              "    </tr>\n",
              "    <tr>\n",
              "      <th>876</th>\n",
              "      <td>DevOps Engineer (to Yerevan)</td>\n",
              "      <td>DevOps-инженер</td>\n",
              "      <td>[Linux, Bash, Python, AWS, PostgreSQL, Elastic...</td>\n",
              "      <td>200000.0</td>\n",
              "      <td>От 3 до 6 лет</td>\n",
              "      <td>3</td>\n",
              "      <td>0</td>\n",
              "    </tr>\n",
              "  </tbody>\n",
              "</table>\n",
              "</div>\n",
              "      <button class=\"colab-df-convert\" onclick=\"convertToInteractive('df-73ae9d3e-588f-482f-a224-ef6851ac3453')\"\n",
              "              title=\"Convert this dataframe to an interactive table.\"\n",
              "              style=\"display:none;\">\n",
              "        \n",
              "  <svg xmlns=\"http://www.w3.org/2000/svg\" height=\"24px\"viewBox=\"0 0 24 24\"\n",
              "       width=\"24px\">\n",
              "    <path d=\"M0 0h24v24H0V0z\" fill=\"none\"/>\n",
              "    <path d=\"M18.56 5.44l.94 2.06.94-2.06 2.06-.94-2.06-.94-.94-2.06-.94 2.06-2.06.94zm-11 1L8.5 8.5l.94-2.06 2.06-.94-2.06-.94L8.5 2.5l-.94 2.06-2.06.94zm10 10l.94 2.06.94-2.06 2.06-.94-2.06-.94-.94-2.06-.94 2.06-2.06.94z\"/><path d=\"M17.41 7.96l-1.37-1.37c-.4-.4-.92-.59-1.43-.59-.52 0-1.04.2-1.43.59L10.3 9.45l-7.72 7.72c-.78.78-.78 2.05 0 2.83L4 21.41c.39.39.9.59 1.41.59.51 0 1.02-.2 1.41-.59l7.78-7.78 2.81-2.81c.8-.78.8-2.07 0-2.86zM5.41 20L4 18.59l7.72-7.72 1.47 1.35L5.41 20z\"/>\n",
              "  </svg>\n",
              "      </button>\n",
              "      \n",
              "  <style>\n",
              "    .colab-df-container {\n",
              "      display:flex;\n",
              "      flex-wrap:wrap;\n",
              "      gap: 12px;\n",
              "    }\n",
              "\n",
              "    .colab-df-convert {\n",
              "      background-color: #E8F0FE;\n",
              "      border: none;\n",
              "      border-radius: 50%;\n",
              "      cursor: pointer;\n",
              "      display: none;\n",
              "      fill: #1967D2;\n",
              "      height: 32px;\n",
              "      padding: 0 0 0 0;\n",
              "      width: 32px;\n",
              "    }\n",
              "\n",
              "    .colab-df-convert:hover {\n",
              "      background-color: #E2EBFA;\n",
              "      box-shadow: 0px 1px 2px rgba(60, 64, 67, 0.3), 0px 1px 3px 1px rgba(60, 64, 67, 0.15);\n",
              "      fill: #174EA6;\n",
              "    }\n",
              "\n",
              "    [theme=dark] .colab-df-convert {\n",
              "      background-color: #3B4455;\n",
              "      fill: #D2E3FC;\n",
              "    }\n",
              "\n",
              "    [theme=dark] .colab-df-convert:hover {\n",
              "      background-color: #434B5C;\n",
              "      box-shadow: 0px 1px 3px 1px rgba(0, 0, 0, 0.15);\n",
              "      filter: drop-shadow(0px 1px 2px rgba(0, 0, 0, 0.3));\n",
              "      fill: #FFFFFF;\n",
              "    }\n",
              "  </style>\n",
              "\n",
              "      <script>\n",
              "        const buttonEl =\n",
              "          document.querySelector('#df-73ae9d3e-588f-482f-a224-ef6851ac3453 button.colab-df-convert');\n",
              "        buttonEl.style.display =\n",
              "          google.colab.kernel.accessAllowed ? 'block' : 'none';\n",
              "\n",
              "        async function convertToInteractive(key) {\n",
              "          const element = document.querySelector('#df-73ae9d3e-588f-482f-a224-ef6851ac3453');\n",
              "          const dataTable =\n",
              "            await google.colab.kernel.invokeFunction('convertToInteractive',\n",
              "                                                     [key], {});\n",
              "          if (!dataTable) return;\n",
              "\n",
              "          const docLinkHtml = 'Like what you see? Visit the ' +\n",
              "            '<a target=\"_blank\" href=https://colab.research.google.com/notebooks/data_table.ipynb>data table notebook</a>'\n",
              "            + ' to learn more about interactive tables.';\n",
              "          element.innerHTML = '';\n",
              "          dataTable['output_type'] = 'display_data';\n",
              "          await google.colab.output.renderOutput(dataTable, element);\n",
              "          const docLink = document.createElement('div');\n",
              "          docLink.innerHTML = docLinkHtml;\n",
              "          element.appendChild(docLink);\n",
              "        }\n",
              "      </script>\n",
              "    </div>\n",
              "  </div>\n",
              "  "
            ]
          },
          "metadata": {},
          "execution_count": 81
        }
      ]
    },
    {
      "cell_type": "code",
      "source": [
        "experience_skills['Skills_text']  = experience_skills['Skills_number'].replace({0:'Навыки отсутствуют', 1:'Присутствует один навык', 2:'Присутствуют два навыка', 3:'Присутствуют три навыка'})"
      ],
      "metadata": {
        "colab": {
          "base_uri": "https://localhost:8080/"
        },
        "id": "vgKuKIwMl5CM",
        "outputId": "e3f2d8e8-64d1-4aa3-a447-d3d9a4c47c44"
      },
      "execution_count": 82,
      "outputs": [
        {
          "output_type": "stream",
          "name": "stderr",
          "text": [
            "<ipython-input-82-e3176e5b2df5>:1: SettingWithCopyWarning: \n",
            "A value is trying to be set on a copy of a slice from a DataFrame.\n",
            "Try using .loc[row_indexer,col_indexer] = value instead\n",
            "\n",
            "See the caveats in the documentation: https://pandas.pydata.org/pandas-docs/stable/user_guide/indexing.html#returning-a-view-versus-a-copy\n",
            "  experience_skills['Skills_text']  = experience_skills['Skills_number'].replace({0:'Навыки отсутствуют', 1:'Присутствует один навык', 2:'Присутствуют два навыка', 3:'Присутствуют три навыка'})\n"
          ]
        }
      ]
    },
    {
      "cell_type": "code",
      "source": [
        "experience_skills['Skills_text']"
      ],
      "metadata": {
        "colab": {
          "base_uri": "https://localhost:8080/"
        },
        "id": "zw0sblfTm2P1",
        "outputId": "7fee2825-2060-4605-b911-5456d0c0db68"
      },
      "execution_count": 83,
      "outputs": [
        {
          "output_type": "execute_result",
          "data": {
            "text/plain": [
              "544      Присутствуют два навыка\n",
              "584           Навыки отсутствуют\n",
              "611      Присутствуют три навыка\n",
              "795      Присутствуют три навыка\n",
              "876           Навыки отсутствуют\n",
              "                  ...           \n",
              "52468         Навыки отсутствуют\n",
              "52683         Навыки отсутствуют\n",
              "52969         Навыки отсутствуют\n",
              "53151         Навыки отсутствуют\n",
              "53321    Присутствует один навык\n",
              "Name: Skills_text, Length: 210, dtype: object"
            ]
          },
          "metadata": {},
          "execution_count": 83
        }
      ]
    },
    {
      "cell_type": "code",
      "source": [
        "wd=pd.crosstab(experience_skills['experience'],experience_skills['Skills_number']); wd"
      ],
      "metadata": {
        "colab": {
          "base_uri": "https://localhost:8080/",
          "height": 206
        },
        "id": "nQT25vl7KKw2",
        "outputId": "b8bbbd31-f46f-450f-818e-16abbc56d178"
      },
      "execution_count": 84,
      "outputs": [
        {
          "output_type": "execute_result",
          "data": {
            "text/plain": [
              "Skills_number   0   1   2   3\n",
              "experience                   \n",
              "1               4   1   0   0\n",
              "2              18  21  28   8\n",
              "3              27  17  41  32\n",
              "4               1   4   4   4"
            ],
            "text/html": [
              "\n",
              "  <div id=\"df-589dcb6b-2bda-41c6-9ce6-abb227bf9f41\">\n",
              "    <div class=\"colab-df-container\">\n",
              "      <div>\n",
              "<style scoped>\n",
              "    .dataframe tbody tr th:only-of-type {\n",
              "        vertical-align: middle;\n",
              "    }\n",
              "\n",
              "    .dataframe tbody tr th {\n",
              "        vertical-align: top;\n",
              "    }\n",
              "\n",
              "    .dataframe thead th {\n",
              "        text-align: right;\n",
              "    }\n",
              "</style>\n",
              "<table border=\"1\" class=\"dataframe\">\n",
              "  <thead>\n",
              "    <tr style=\"text-align: right;\">\n",
              "      <th>Skills_number</th>\n",
              "      <th>0</th>\n",
              "      <th>1</th>\n",
              "      <th>2</th>\n",
              "      <th>3</th>\n",
              "    </tr>\n",
              "    <tr>\n",
              "      <th>experience</th>\n",
              "      <th></th>\n",
              "      <th></th>\n",
              "      <th></th>\n",
              "      <th></th>\n",
              "    </tr>\n",
              "  </thead>\n",
              "  <tbody>\n",
              "    <tr>\n",
              "      <th>1</th>\n",
              "      <td>4</td>\n",
              "      <td>1</td>\n",
              "      <td>0</td>\n",
              "      <td>0</td>\n",
              "    </tr>\n",
              "    <tr>\n",
              "      <th>2</th>\n",
              "      <td>18</td>\n",
              "      <td>21</td>\n",
              "      <td>28</td>\n",
              "      <td>8</td>\n",
              "    </tr>\n",
              "    <tr>\n",
              "      <th>3</th>\n",
              "      <td>27</td>\n",
              "      <td>17</td>\n",
              "      <td>41</td>\n",
              "      <td>32</td>\n",
              "    </tr>\n",
              "    <tr>\n",
              "      <th>4</th>\n",
              "      <td>1</td>\n",
              "      <td>4</td>\n",
              "      <td>4</td>\n",
              "      <td>4</td>\n",
              "    </tr>\n",
              "  </tbody>\n",
              "</table>\n",
              "</div>\n",
              "      <button class=\"colab-df-convert\" onclick=\"convertToInteractive('df-589dcb6b-2bda-41c6-9ce6-abb227bf9f41')\"\n",
              "              title=\"Convert this dataframe to an interactive table.\"\n",
              "              style=\"display:none;\">\n",
              "        \n",
              "  <svg xmlns=\"http://www.w3.org/2000/svg\" height=\"24px\"viewBox=\"0 0 24 24\"\n",
              "       width=\"24px\">\n",
              "    <path d=\"M0 0h24v24H0V0z\" fill=\"none\"/>\n",
              "    <path d=\"M18.56 5.44l.94 2.06.94-2.06 2.06-.94-2.06-.94-.94-2.06-.94 2.06-2.06.94zm-11 1L8.5 8.5l.94-2.06 2.06-.94-2.06-.94L8.5 2.5l-.94 2.06-2.06.94zm10 10l.94 2.06.94-2.06 2.06-.94-2.06-.94-.94-2.06-.94 2.06-2.06.94z\"/><path d=\"M17.41 7.96l-1.37-1.37c-.4-.4-.92-.59-1.43-.59-.52 0-1.04.2-1.43.59L10.3 9.45l-7.72 7.72c-.78.78-.78 2.05 0 2.83L4 21.41c.39.39.9.59 1.41.59.51 0 1.02-.2 1.41-.59l7.78-7.78 2.81-2.81c.8-.78.8-2.07 0-2.86zM5.41 20L4 18.59l7.72-7.72 1.47 1.35L5.41 20z\"/>\n",
              "  </svg>\n",
              "      </button>\n",
              "      \n",
              "  <style>\n",
              "    .colab-df-container {\n",
              "      display:flex;\n",
              "      flex-wrap:wrap;\n",
              "      gap: 12px;\n",
              "    }\n",
              "\n",
              "    .colab-df-convert {\n",
              "      background-color: #E8F0FE;\n",
              "      border: none;\n",
              "      border-radius: 50%;\n",
              "      cursor: pointer;\n",
              "      display: none;\n",
              "      fill: #1967D2;\n",
              "      height: 32px;\n",
              "      padding: 0 0 0 0;\n",
              "      width: 32px;\n",
              "    }\n",
              "\n",
              "    .colab-df-convert:hover {\n",
              "      background-color: #E2EBFA;\n",
              "      box-shadow: 0px 1px 2px rgba(60, 64, 67, 0.3), 0px 1px 3px 1px rgba(60, 64, 67, 0.15);\n",
              "      fill: #174EA6;\n",
              "    }\n",
              "\n",
              "    [theme=dark] .colab-df-convert {\n",
              "      background-color: #3B4455;\n",
              "      fill: #D2E3FC;\n",
              "    }\n",
              "\n",
              "    [theme=dark] .colab-df-convert:hover {\n",
              "      background-color: #434B5C;\n",
              "      box-shadow: 0px 1px 3px 1px rgba(0, 0, 0, 0.15);\n",
              "      filter: drop-shadow(0px 1px 2px rgba(0, 0, 0, 0.3));\n",
              "      fill: #FFFFFF;\n",
              "    }\n",
              "  </style>\n",
              "\n",
              "      <script>\n",
              "        const buttonEl =\n",
              "          document.querySelector('#df-589dcb6b-2bda-41c6-9ce6-abb227bf9f41 button.colab-df-convert');\n",
              "        buttonEl.style.display =\n",
              "          google.colab.kernel.accessAllowed ? 'block' : 'none';\n",
              "\n",
              "        async function convertToInteractive(key) {\n",
              "          const element = document.querySelector('#df-589dcb6b-2bda-41c6-9ce6-abb227bf9f41');\n",
              "          const dataTable =\n",
              "            await google.colab.kernel.invokeFunction('convertToInteractive',\n",
              "                                                     [key], {});\n",
              "          if (!dataTable) return;\n",
              "\n",
              "          const docLinkHtml = 'Like what you see? Visit the ' +\n",
              "            '<a target=\"_blank\" href=https://colab.research.google.com/notebooks/data_table.ipynb>data table notebook</a>'\n",
              "            + ' to learn more about interactive tables.';\n",
              "          element.innerHTML = '';\n",
              "          dataTable['output_type'] = 'display_data';\n",
              "          await google.colab.output.renderOutput(dataTable, element);\n",
              "          const docLink = document.createElement('div');\n",
              "          docLink.innerHTML = docLinkHtml;\n",
              "          element.appendChild(docLink);\n",
              "        }\n",
              "      </script>\n",
              "    </div>\n",
              "  </div>\n",
              "  "
            ]
          },
          "metadata": {},
          "execution_count": 84
        }
      ]
    },
    {
      "cell_type": "code",
      "source": [
        "ax = sns.countplot(x=experience_skills['experience'], hue=experience_skills['Skills_number'], palette=['#6A9ED9',\"#0C5BB3\", '#285586', '#043974'])\n",
        "ax.set_title('Измение набора навыков в зависимости от опыта',fontsize = 10, fontweight='bold' )\n",
        "ax.set_xlabel('Опыт', fontsize = 10)\n",
        "ax.set_ylabel('Количество вакансий', fontsize = 10)\n",
        "\n",
        "ax.legend(fontsize = 12, \\\n",
        "               bbox_to_anchor= (1.2, 1), \\\n",
        "               title=\"Навыки\", \\\n",
        "               title_fontsize = 10);\n"
      ],
      "metadata": {
        "colab": {
          "base_uri": "https://localhost:8080/",
          "height": 294
        },
        "id": "xozE32N3KPwR",
        "outputId": "929d0fd7-dd31-4b5d-9722-3177f3a76f30"
      },
      "execution_count": 85,
      "outputs": [
        {
          "output_type": "display_data",
          "data": {
            "text/plain": [
              "<Figure size 432x288 with 1 Axes>"
            ],
            "image/png": "[encoded data removed]"
          },
          "metadata": {
            "needs_background": "light"
          }
        }
      ]
    },
    {
      "cell_type": "markdown",
      "source": [
        "По графику видим, что взависимости от опыта меняются требования работодателя к наличию у соискателя навыков Kubernetes, Ansible и Docker.\n",
        "\n",
        "От соискателя без опыта работа работадатели практически не требуют наличия навыков Kubernetes, Ansible и Docker. Требования наличия хотя бы одного из этих навыков встречается крайне редко.\n",
        "\n",
        "К соискателям с опытом работы от 1 года до 3 лет в большей степени применяется требования наличия двух из перечисленных навыков, в меньшей степени наличие хотябы одного из рассматриваемых навыков и в незначительной степени наличие всех трех навыков.\n",
        "\n",
        "К соискателям с опытом работы от 3 лет до 6 лет в большей степени применяется требования наличия двух из перечисленных навыков, в меньшей степени наличие всех трех из рассматриваемых навыков и в незначительной степени наличие хотябы одного. .\n",
        "\n",
        "К соискателям с опытом работы более 6 лет требования по наличию рассматриваемых навыков практически на одном уровне."
      ],
      "metadata": {
        "id": "ep_M0o0uS8GM"
      }
    },
    {
      "cell_type": "code",
      "source": [
        "chi2, prob, df, expected = scipy.stats.chi2_contingency(wd)\n",
        "output = \"test Statistics: {}\\ndegrees of freedom: {}\\np-value: {}\\n\"\n",
        " \n",
        "print(output.format( chi2, df, prob))"
      ],
      "metadata": {
        "colab": {
          "base_uri": "https://localhost:8080/"
        },
        "id": "17ASuAGRLk7w",
        "outputId": "043d9306-2f39-4f64-8e36-04df02492002"
      },
      "execution_count": 86,
      "outputs": [
        {
          "output_type": "stream",
          "name": "stdout",
          "text": [
            "test Statistics: 22.504715177357415\n",
            "degrees of freedom: 9\n",
            "p-value: 0.007409869089292881\n",
            "\n"
          ]
        }
      ]
    },
    {
      "cell_type": "markdown",
      "source": [
        "Поскольку pvalue значительно ниже заданного уровня значимости (0,05), то гипотеза H0 отклоняется. Таким образом, данное отличие является статистичики значимым, т.е. имеется статистически значимая зависимость наличие требуемых навыков от опыта работы для DevOps-инженера"
      ],
      "metadata": {
        "id": "76llGADiSxHo"
      }
    }
  ]
}